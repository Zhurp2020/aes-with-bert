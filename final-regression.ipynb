{
 "cells": [
  {
   "attachments": {},
   "cell_type": "markdown",
   "metadata": {},
   "source": [
    "## Import library"
   ]
  },
  {
   "cell_type": "code",
   "execution_count": 1,
   "metadata": {},
   "outputs": [
    {
     "name": "stderr",
     "output_type": "stream",
     "text": [
      "c:\\Users\\GIGA\\AppData\\Local\\Programs\\Python\\Python310\\lib\\site-packages\\outdated\\utils.py:14: OutdatedPackageWarning: The package outdated is out of date. Your version is 0.2.1, the latest is 0.2.2.\n",
      "Set the environment variable OUTDATED_IGNORE=1 to disable these warnings.\n",
      "  return warn(\n"
     ]
    }
   ],
   "source": [
    "%run functions"
   ]
  },
  {
   "attachments": {},
   "cell_type": "markdown",
   "metadata": {},
   "source": [
    "## Load data"
   ]
  },
  {
   "cell_type": "code",
   "execution_count": 30,
   "metadata": {},
   "outputs": [
    {
     "data": {
      "text/html": [
       "<div>\n",
       "<style scoped>\n",
       "    .dataframe tbody tr th:only-of-type {\n",
       "        vertical-align: middle;\n",
       "    }\n",
       "\n",
       "    .dataframe tbody tr th {\n",
       "        vertical-align: top;\n",
       "    }\n",
       "\n",
       "    .dataframe thead th {\n",
       "        text-align: right;\n",
       "    }\n",
       "</style>\n",
       "<table border=\"1\" class=\"dataframe\">\n",
       "  <thead>\n",
       "    <tr style=\"text-align: right;\">\n",
       "      <th></th>\n",
       "      <th>用户ID</th>\n",
       "      <th>学号</th>\n",
       "      <th>姓名</th>\n",
       "      <th>班级</th>\n",
       "      <th>院系</th>\n",
       "      <th>任课教师</th>\n",
       "      <th>Class</th>\n",
       "      <th>Prompt</th>\n",
       "      <th>score</th>\n",
       "      <th>text</th>\n",
       "    </tr>\n",
       "  </thead>\n",
       "  <tbody>\n",
       "    <tr>\n",
       "      <th>3249</th>\n",
       "      <td>1003247070</td>\n",
       "      <td>21120892</td>\n",
       "      <td>谭浩然</td>\n",
       "      <td>2021-22冬季通用英语C2周健华1024期末</td>\n",
       "      <td>机电工程与自动化学院</td>\n",
       "      <td>1002658409(周健华)</td>\n",
       "      <td>C</td>\n",
       "      <td>19121440</td>\n",
       "      <td>9.0</td>\n",
       "      <td>As we know,reading has a lot of advantages f...</td>\n",
       "    </tr>\n",
       "    <tr>\n",
       "      <th>1221</th>\n",
       "      <td>1003246436</td>\n",
       "      <td>21120258</td>\n",
       "      <td>陈辰</td>\n",
       "      <td>2021-22冬季通用英语B2朱虹1028期末</td>\n",
       "      <td>社会学院</td>\n",
       "      <td>1002658416(朱虹)</td>\n",
       "      <td>B</td>\n",
       "      <td>19121440</td>\n",
       "      <td>11.9</td>\n",
       "      <td>Nowadays, with the growing development o...</td>\n",
       "    </tr>\n",
       "    <tr>\n",
       "      <th>1600</th>\n",
       "      <td>1003247064</td>\n",
       "      <td>21120886</td>\n",
       "      <td>杨浩辰</td>\n",
       "      <td>2021-22冬季通用英语B2薛清1013期末</td>\n",
       "      <td>通信与信息工程学院</td>\n",
       "      <td>1002658414(薛清)</td>\n",
       "      <td>B</td>\n",
       "      <td>19121413</td>\n",
       "      <td>10.8</td>\n",
       "      <td>It has been more than 7 months when coming int...</td>\n",
       "    </tr>\n",
       "    <tr>\n",
       "      <th>2845</th>\n",
       "      <td>1003250658</td>\n",
       "      <td>21124485</td>\n",
       "      <td>聂子晨</td>\n",
       "      <td>2021-22冬季通用英语C2张季红1014期末</td>\n",
       "      <td>音乐学院</td>\n",
       "      <td>1002658404(张季红)</td>\n",
       "      <td>C</td>\n",
       "      <td>19121436</td>\n",
       "      <td>9.4</td>\n",
       "      <td>How to learn a foreign language，different ...</td>\n",
       "    </tr>\n",
       "    <tr>\n",
       "      <th>3422</th>\n",
       "      <td>1003249020</td>\n",
       "      <td>21122847</td>\n",
       "      <td>陶钧</td>\n",
       "      <td>2021-22冬季通用英语C2张季红1002期末</td>\n",
       "      <td>计算机工程与科学学院</td>\n",
       "      <td>1002658404(张季红)</td>\n",
       "      <td>C</td>\n",
       "      <td>1000561535</td>\n",
       "      <td>9.6</td>\n",
       "      <td>Today,we are amaziing at the frequency of ...</td>\n",
       "    </tr>\n",
       "  </tbody>\n",
       "</table>\n",
       "</div>"
      ],
      "text/plain": [
       "            用户ID        学号   姓名                        班级          院系  \\\n",
       "3249  1003247070  21120892  谭浩然  2021-22冬季通用英语C2周健华1024期末  机电工程与自动化学院   \n",
       "1221  1003246436  21120258   陈辰   2021-22冬季通用英语B2朱虹1028期末        社会学院   \n",
       "1600  1003247064  21120886  杨浩辰   2021-22冬季通用英语B2薛清1013期末   通信与信息工程学院   \n",
       "2845  1003250658  21124485  聂子晨  2021-22冬季通用英语C2张季红1014期末        音乐学院   \n",
       "3422  1003249020  21122847   陶钧  2021-22冬季通用英语C2张季红1002期末  计算机工程与科学学院   \n",
       "\n",
       "                 任课教师 Class      Prompt  score  \\\n",
       "3249  1002658409(周健华)     C    19121440    9.0   \n",
       "1221   1002658416(朱虹)     B    19121440   11.9   \n",
       "1600   1002658414(薛清)     B    19121413   10.8   \n",
       "2845  1002658404(张季红)     C    19121436    9.4   \n",
       "3422  1002658404(张季红)     C  1000561535    9.6   \n",
       "\n",
       "                                                   text  \n",
       "3249    As we know,reading has a lot of advantages f...  \n",
       "1221        Nowadays, with the growing development o...  \n",
       "1600  It has been more than 7 months when coming int...  \n",
       "2845      How to learn a foreign language，different ...  \n",
       "3422      Today,we are amaziing at the frequency of ...  "
      ]
     },
     "execution_count": 30,
     "metadata": {},
     "output_type": "execute_result"
    }
   ],
   "source": [
    "loader = DataLoader()\n",
    "loader.GetData('final')\n",
    "d = loader.GetShuffled(1000)\n",
    "d.head()"
   ]
  },
  {
   "cell_type": "code",
   "execution_count": 31,
   "metadata": {},
   "outputs": [],
   "source": [
    "d = d.loc[d['score'] > 0,:]"
   ]
  },
  {
   "attachments": {},
   "cell_type": "markdown",
   "metadata": {},
   "source": [
    "## Regression\n",
    "### Split for train and test index"
   ]
  },
  {
   "cell_type": "code",
   "execution_count": 32,
   "metadata": {},
   "outputs": [],
   "source": [
    "ind = list(d.index)\n",
    "trainIn,testIn = ind[:2838],ind[2838:]"
   ]
  },
  {
   "attachments": {},
   "cell_type": "markdown",
   "metadata": {},
   "source": [
    "### Define regression function"
   ]
  },
  {
   "cell_type": "code",
   "execution_count": 5,
   "metadata": {},
   "outputs": [],
   "source": [
    "def regression(x,plt=False):\n",
    "    TrainX,TestX = [x[i] for i in trainIn],[x[i] for i in testIn]\n",
    "    TrainY,TestY = d['score'][trainIn],d['score'][testIn]\n",
    "    model = xgb.XGBRegressor(learning_rate=0.042)\n",
    "    model.fit(TrainX,TrainY)\n",
    "    PredY = model.predict(TestX)\n",
    "    PredTrainY = model.predict(TrainX)\n",
    "    #print('test RMSE: {:.3f}, test EV: {:.3f}%'.format(mean_squared_error(TestY,PredY,squared=False),explained_variance_score(TestY,PredY)*100))\n",
    "    #print('train RMSE: {:.3f}, train EV: {:.3f}%'.format(mean_squared_error(TrainY,PredTrainY,squared=False),explained_variance_score(TrainY,PredTrainY)*100))\n",
    "    if plt:\n",
    "        g = sns.scatterplot(x=TestY,y=PredY)\n",
    "        g.set_ylabel('predicted score')\n",
    "        g.set_xlabel('true score')\n",
    "        g.set_ylim((0,14))\n",
    "        g.set_xlim((0,14))\n",
    "        g = sns.lineplot(x=[0,14],y=[0,14],color='black')\n",
    "        g.lines[0].set_linestyle(\"--\")\n",
    "    return (mean_squared_error(TestY,PredY,squared=False),explained_variance_score(TestY,PredY)*100,mean_squared_error(TrainY,PredTrainY,squared=False),explained_variance_score(TrainY,PredTrainY)*100)"
   ]
  },
  {
   "attachments": {},
   "cell_type": "markdown",
   "metadata": {},
   "source": [
    "### Prepare data\n",
    "#### Embeddings"
   ]
  },
  {
   "cell_type": "code",
   "execution_count": 6,
   "metadata": {},
   "outputs": [],
   "source": [
    "xe = torch.load('features/final-meanp.pt')"
   ]
  },
  {
   "cell_type": "code",
   "execution_count": 7,
   "metadata": {},
   "outputs": [],
   "source": [
    "xe = [np.array(i).reshape(1024) for i in xe]"
   ]
  },
  {
   "attachments": {},
   "cell_type": "markdown",
   "metadata": {},
   "source": [
    "### Fine-grained "
   ]
  },
  {
   "cell_type": "code",
   "execution_count": 8,
   "metadata": {},
   "outputs": [],
   "source": [
    "xf = []\n",
    "with open('features/final-winter-fine.csv') as f:\n",
    "    raw = f.readlines()[1:]"
   ]
  },
  {
   "cell_type": "code",
   "execution_count": 9,
   "metadata": {},
   "outputs": [],
   "source": [
    "for i in range(len(raw)):\n",
    "    l = raw[i]\n",
    "    l = l.rstrip('\\n').split(',')[2:]\n",
    "    l = [float(i) for i in l]\n",
    "    if i in list(d.index):\n",
    "        xf.append(np.array(l,dtype=float).reshape(143))\n",
    "    else:\n",
    "        xf.append([0])"
   ]
  },
  {
   "attachments": {},
   "cell_type": "markdown",
   "metadata": {},
   "source": [
    "#### Large-grained"
   ]
  },
  {
   "cell_type": "code",
   "execution_count": 10,
   "metadata": {},
   "outputs": [],
   "source": [
    "with open('features/final-winter-l2sca.txt') as f:\n",
    "    l2 = f.readlines()[1:]\n",
    "large = dict()\n",
    "for l in l2:\n",
    "    i = int(l.split(',')[0].split('.')[0])\n",
    "    feat = l.rstrip('\\n').split(',')[-14:]\n",
    "    feat = [float(s) for s in feat]\n",
    "    large[i] = feat\n",
    "xl = []\n",
    "for i in range(3830):\n",
    "    xl.append(large[i])"
   ]
  },
  {
   "attachments": {},
   "cell_type": "markdown",
   "metadata": {},
   "source": [
    "#### Sim"
   ]
  },
  {
   "cell_type": "code",
   "execution_count": 11,
   "metadata": {},
   "outputs": [],
   "source": [
    "f = np.load('features/final_winter_sent.npz')\n",
    "sim_list = [f[a] for a in f.files]\n",
    "sim_raw_list = []\n",
    "for n in f.files:\n",
    "    values = []\n",
    "    m = f[n]\n",
    "    for row in range(len(m)):\n",
    "        for col in range(row+1,len(m)):\n",
    "            values.append(m[row,col])\n",
    "    sim_raw_list.append(np.array(values))\n",
    "sim_mean = []\n",
    "sim_max = []\n",
    "sim_min = []\n",
    "for matrix in sim_raw_list:\n",
    "    if len(matrix) > 1:\n",
    "        sim_mean.append(np.average(matrix))\n",
    "        sim_max.append(np.max(matrix))\n",
    "        sim_min.append(np.min(matrix))\n",
    "    else:\n",
    "        sim_mean.append(0)\n",
    "        sim_max.append(0)\n",
    "        sim_min.append(0)\n",
    "cluster_num = []\n",
    "cluster_avg = []\n",
    "for k in range(len(sim_list)):\n",
    "    sim = sim_list[k]\n",
    "    if len(sim) > 1:\n",
    "        sim_thres = sim.copy()\n",
    "        for i in range(len(sim_thres)):\n",
    "            for j in range(len(sim_thres)):\n",
    "                if sim_thres[i,j] <= np.percentile(np.array(sim_raw_list[k]),50):\n",
    "                    sim_thres[i,j] = 0\n",
    "        res = mcl.run_mcl(sim_thres,inflation=2)\n",
    "        clusters = mcl.get_clusters(res)\n",
    "        cluster_num.append(len(clusters))\n",
    "        cluster_avg.append(len(sim)/len(clusters))\n",
    "    else:\n",
    "        cluster_num.append(0)\n",
    "        cluster_avg.append(0)"
   ]
  },
  {
   "cell_type": "code",
   "execution_count": 12,
   "metadata": {},
   "outputs": [],
   "source": [
    "xs = []\n",
    "for i in range(3830):\n",
    "    a = [sim_max[i],sim_mean[i],sim_min[i],cluster_avg[i],cluster_num[i]]\n",
    "    xs.append(a)"
   ]
  },
  {
   "attachments": {},
   "cell_type": "markdown",
   "metadata": {},
   "source": [
    "#### Embedding + sim"
   ]
  },
  {
   "cell_type": "code",
   "execution_count": 13,
   "metadata": {},
   "outputs": [],
   "source": [
    "xes = []\n",
    "for i in range(3830):\n",
    "    a = np.concatenate((xe[i],xs[i]))\n",
    "    xes.append(a)"
   ]
  },
  {
   "attachments": {},
   "cell_type": "markdown",
   "metadata": {},
   "source": [
    "#### Fine-grained + sim"
   ]
  },
  {
   "cell_type": "code",
   "execution_count": 14,
   "metadata": {},
   "outputs": [],
   "source": [
    "xfs = []\n",
    "for i in range(3830):\n",
    "    a = np.concatenate((xf[i],xs[i]))\n",
    "    xfs.append(a)"
   ]
  },
  {
   "attachments": {},
   "cell_type": "markdown",
   "metadata": {},
   "source": [
    "#### Large-grained + sim"
   ]
  },
  {
   "cell_type": "code",
   "execution_count": 15,
   "metadata": {},
   "outputs": [],
   "source": [
    "xls = []\n",
    "for i in range(3830):\n",
    "    a = np.concatenate((xl[i],xs[i]))\n",
    "    xls.append(a)"
   ]
  },
  {
   "attachments": {},
   "cell_type": "markdown",
   "metadata": {},
   "source": [
    "### Embedding + fine"
   ]
  },
  {
   "cell_type": "code",
   "execution_count": 16,
   "metadata": {},
   "outputs": [],
   "source": [
    "xef = []\n",
    "for i in range(3830):\n",
    "    a = np.concatenate((xe[i],xf[i]))\n",
    "    xef.append(a)"
   ]
  },
  {
   "attachments": {},
   "cell_type": "markdown",
   "metadata": {},
   "source": [
    "#### Embedding + large"
   ]
  },
  {
   "cell_type": "code",
   "execution_count": 17,
   "metadata": {},
   "outputs": [],
   "source": [
    "xel = []\n",
    "for i in range(3830):\n",
    "    a = np.concatenate((xe[i],xl[i]))\n",
    "    xel.append(a)"
   ]
  },
  {
   "attachments": {},
   "cell_type": "markdown",
   "metadata": {},
   "source": [
    "#### Embedding + fine + sim"
   ]
  },
  {
   "cell_type": "code",
   "execution_count": 18,
   "metadata": {},
   "outputs": [],
   "source": [
    "xefs = []\n",
    "for i in range(3830):\n",
    "    a = np.concatenate((xef[i],xs[i]))\n",
    "    xefs.append(a)"
   ]
  },
  {
   "attachments": {},
   "cell_type": "markdown",
   "metadata": {},
   "source": [
    "#### Embedding + large + sim"
   ]
  },
  {
   "cell_type": "code",
   "execution_count": 19,
   "metadata": {},
   "outputs": [],
   "source": [
    "xels = []\n",
    "for i in range(3830):\n",
    "    a = np.concatenate((xel[i],xs[i]))\n",
    "    xels.append(a)"
   ]
  },
  {
   "attachments": {},
   "cell_type": "markdown",
   "metadata": {},
   "source": [
    "### Get performances"
   ]
  },
  {
   "cell_type": "code",
   "execution_count": 20,
   "metadata": {},
   "outputs": [],
   "source": [
    "names = ['xe','xl','xf','xs','xls','xfs','xef','xel','xefs','xels']\n",
    "trainRMSE, trainEV, testRMSE, testEV = [],[],[],[]\n",
    "x = [xe,xl,xf,xs,xls,xfs,xef,xel,xefs,xels]\n",
    "for i in range(len(x)):\n",
    "    res = regression(x[i])\n",
    "    trainRMSE.append(res[2])\n",
    "    trainEV.append(res[3])\n",
    "    testRMSE.append(res[0])\n",
    "    testEV.append(res[1])\n",
    "r = pd.DataFrame({'test RMSE':testRMSE,\n",
    "                  'test EV':testEV,\n",
    "                  'train RMSE':trainRMSE,\n",
    "                  'trainEV':trainEV},index=names)"
   ]
  },
  {
   "cell_type": "code",
   "execution_count": 21,
   "metadata": {},
   "outputs": [
    {
     "data": {
      "text/html": [
       "<div>\n",
       "<style scoped>\n",
       "    .dataframe tbody tr th:only-of-type {\n",
       "        vertical-align: middle;\n",
       "    }\n",
       "\n",
       "    .dataframe tbody tr th {\n",
       "        vertical-align: top;\n",
       "    }\n",
       "\n",
       "    .dataframe thead th {\n",
       "        text-align: right;\n",
       "    }\n",
       "</style>\n",
       "<table border=\"1\" class=\"dataframe\">\n",
       "  <thead>\n",
       "    <tr style=\"text-align: right;\">\n",
       "      <th></th>\n",
       "      <th>test RMSE</th>\n",
       "      <th>test EV</th>\n",
       "      <th>train RMSE</th>\n",
       "      <th>trainEV</th>\n",
       "    </tr>\n",
       "  </thead>\n",
       "  <tbody>\n",
       "    <tr>\n",
       "      <th>xe</th>\n",
       "      <td>0.595541</td>\n",
       "      <td>80.765008</td>\n",
       "      <td>0.258681</td>\n",
       "      <td>97.456532</td>\n",
       "    </tr>\n",
       "    <tr>\n",
       "      <th>xl</th>\n",
       "      <td>1.171061</td>\n",
       "      <td>22.621189</td>\n",
       "      <td>0.788199</td>\n",
       "      <td>67.808214</td>\n",
       "    </tr>\n",
       "    <tr>\n",
       "      <th>xf</th>\n",
       "      <td>0.738300</td>\n",
       "      <td>70.200623</td>\n",
       "      <td>0.486430</td>\n",
       "      <td>88.370021</td>\n",
       "    </tr>\n",
       "    <tr>\n",
       "      <th>xs</th>\n",
       "      <td>1.100947</td>\n",
       "      <td>32.746863</td>\n",
       "      <td>0.882350</td>\n",
       "      <td>59.440234</td>\n",
       "    </tr>\n",
       "    <tr>\n",
       "      <th>xls</th>\n",
       "      <td>0.915106</td>\n",
       "      <td>53.603523</td>\n",
       "      <td>0.643854</td>\n",
       "      <td>78.874673</td>\n",
       "    </tr>\n",
       "    <tr>\n",
       "      <th>xfs</th>\n",
       "      <td>0.747658</td>\n",
       "      <td>69.391599</td>\n",
       "      <td>0.479792</td>\n",
       "      <td>88.715167</td>\n",
       "    </tr>\n",
       "    <tr>\n",
       "      <th>xef</th>\n",
       "      <td>0.469843</td>\n",
       "      <td>88.407490</td>\n",
       "      <td>0.243815</td>\n",
       "      <td>97.847575</td>\n",
       "    </tr>\n",
       "    <tr>\n",
       "      <th>xel</th>\n",
       "      <td>0.590192</td>\n",
       "      <td>81.149761</td>\n",
       "      <td>0.253959</td>\n",
       "      <td>97.581720</td>\n",
       "    </tr>\n",
       "    <tr>\n",
       "      <th>xefs</th>\n",
       "      <td>0.472231</td>\n",
       "      <td>88.291384</td>\n",
       "      <td>0.242782</td>\n",
       "      <td>97.875622</td>\n",
       "    </tr>\n",
       "    <tr>\n",
       "      <th>xels</th>\n",
       "      <td>0.587450</td>\n",
       "      <td>81.318499</td>\n",
       "      <td>0.251243</td>\n",
       "      <td>97.656052</td>\n",
       "    </tr>\n",
       "  </tbody>\n",
       "</table>\n",
       "</div>"
      ],
      "text/plain": [
       "      test RMSE    test EV  train RMSE    trainEV\n",
       "xe     0.595541  80.765008    0.258681  97.456532\n",
       "xl     1.171061  22.621189    0.788199  67.808214\n",
       "xf     0.738300  70.200623    0.486430  88.370021\n",
       "xs     1.100947  32.746863    0.882350  59.440234\n",
       "xls    0.915106  53.603523    0.643854  78.874673\n",
       "xfs    0.747658  69.391599    0.479792  88.715167\n",
       "xef    0.469843  88.407490    0.243815  97.847575\n",
       "xel    0.590192  81.149761    0.253959  97.581720\n",
       "xefs   0.472231  88.291384    0.242782  97.875622\n",
       "xels   0.587450  81.318499    0.251243  97.656052"
      ]
     },
     "execution_count": 21,
     "metadata": {},
     "output_type": "execute_result"
    }
   ],
   "source": [
    "r"
   ]
  },
  {
   "cell_type": "code",
   "execution_count": 33,
   "metadata": {},
   "outputs": [],
   "source": [
    "names = ['xl','xf','xs','xls','xfs','xe','xefs']\n",
    "trainRMSE, trainEV, testRMSE, testEV = [],[],[],[]\n",
    "x = [xl,xf,xs,xls,xfs,xe,xefs]\n",
    "for i in range(len(x)):\n",
    "    res = regression(x[i])\n",
    "    trainRMSE.append(res[2])\n",
    "    trainEV.append(res[3])\n",
    "    testRMSE.append(res[0])\n",
    "    testEV.append(res[1])\n",
    "r = pd.DataFrame({'test RMSE':testRMSE,\n",
    "                  'test EV':testEV,\n",
    "                  'train RMSE':trainRMSE,\n",
    "                  'trainEV':trainEV},index=names)"
   ]
  },
  {
   "cell_type": "code",
   "execution_count": 34,
   "metadata": {},
   "outputs": [
    {
     "data": {
      "text/html": [
       "<div>\n",
       "<style scoped>\n",
       "    .dataframe tbody tr th:only-of-type {\n",
       "        vertical-align: middle;\n",
       "    }\n",
       "\n",
       "    .dataframe tbody tr th {\n",
       "        vertical-align: top;\n",
       "    }\n",
       "\n",
       "    .dataframe thead th {\n",
       "        text-align: right;\n",
       "    }\n",
       "</style>\n",
       "<table border=\"1\" class=\"dataframe\">\n",
       "  <thead>\n",
       "    <tr style=\"text-align: right;\">\n",
       "      <th></th>\n",
       "      <th>test RMSE</th>\n",
       "      <th>test EV</th>\n",
       "      <th>train RMSE</th>\n",
       "      <th>trainEV</th>\n",
       "    </tr>\n",
       "  </thead>\n",
       "  <tbody>\n",
       "    <tr>\n",
       "      <th>xl</th>\n",
       "      <td>1.156707</td>\n",
       "      <td>31.824992</td>\n",
       "      <td>0.787036</td>\n",
       "      <td>66.745279</td>\n",
       "    </tr>\n",
       "    <tr>\n",
       "      <th>xf</th>\n",
       "      <td>0.750017</td>\n",
       "      <td>71.609637</td>\n",
       "      <td>0.487064</td>\n",
       "      <td>87.916827</td>\n",
       "    </tr>\n",
       "    <tr>\n",
       "      <th>xs</th>\n",
       "      <td>1.110637</td>\n",
       "      <td>36.683227</td>\n",
       "      <td>0.877543</td>\n",
       "      <td>58.438118</td>\n",
       "    </tr>\n",
       "    <tr>\n",
       "      <th>xls</th>\n",
       "      <td>0.967426</td>\n",
       "      <td>52.233496</td>\n",
       "      <td>0.641521</td>\n",
       "      <td>78.279841</td>\n",
       "    </tr>\n",
       "    <tr>\n",
       "      <th>xfs</th>\n",
       "      <td>0.745341</td>\n",
       "      <td>72.005501</td>\n",
       "      <td>0.483758</td>\n",
       "      <td>88.093282</td>\n",
       "    </tr>\n",
       "    <tr>\n",
       "      <th>xe</th>\n",
       "      <td>0.601101</td>\n",
       "      <td>81.981004</td>\n",
       "      <td>0.259017</td>\n",
       "      <td>97.356732</td>\n",
       "    </tr>\n",
       "    <tr>\n",
       "      <th>xefs</th>\n",
       "      <td>0.490159</td>\n",
       "      <td>88.229262</td>\n",
       "      <td>0.241503</td>\n",
       "      <td>97.833462</td>\n",
       "    </tr>\n",
       "  </tbody>\n",
       "</table>\n",
       "</div>"
      ],
      "text/plain": [
       "      test RMSE    test EV  train RMSE    trainEV\n",
       "xl     1.156707  31.824992    0.787036  66.745279\n",
       "xf     0.750017  71.609637    0.487064  87.916827\n",
       "xs     1.110637  36.683227    0.877543  58.438118\n",
       "xls    0.967426  52.233496    0.641521  78.279841\n",
       "xfs    0.745341  72.005501    0.483758  88.093282\n",
       "xe     0.601101  81.981004    0.259017  97.356732\n",
       "xefs   0.490159  88.229262    0.241503  97.833462"
      ]
     },
     "execution_count": 34,
     "metadata": {},
     "output_type": "execute_result"
    }
   ],
   "source": [
    "r"
   ]
  },
  {
   "cell_type": "code",
   "execution_count": 44,
   "metadata": {},
   "outputs": [
    {
     "name": "stdout",
     "output_type": "stream",
     "text": [
      "0.787\n",
      "0.487\n",
      "0.878\n",
      "0.642\n",
      "0.484\n",
      "0.259\n",
      "0.242\n"
     ]
    }
   ],
   "source": [
    "for n in names:\n",
    "    print('{:.3f}'.format(r['train RMSE'][n]))"
   ]
  }
 ],
 "metadata": {
  "kernelspec": {
   "display_name": "Python 3",
   "language": "python",
   "name": "python3"
  },
  "language_info": {
   "codemirror_mode": {
    "name": "ipython",
    "version": 3
   },
   "file_extension": ".py",
   "mimetype": "text/x-python",
   "name": "python",
   "nbconvert_exporter": "python",
   "pygments_lexer": "ipython3",
   "version": "3.10.8"
  },
  "orig_nbformat": 4
 },
 "nbformat": 4,
 "nbformat_minor": 2
}
