{
 "cells": [
  {
   "attachments": {},
   "cell_type": "markdown",
   "metadata": {},
   "source": [
    "# This file is responsible for building regression models to score essays using different set of features, including embeddings, complexity measures, similarity measures and their combinations\n",
    "## Import library"
   ]
  },
  {
   "cell_type": "code",
   "execution_count": 1,
   "metadata": {},
   "outputs": [
    {
     "name": "stderr",
     "output_type": "stream",
     "text": [
      "c:\\Users\\GIGA\\AppData\\Local\\Programs\\Python\\Python310\\lib\\site-packages\\outdated\\utils.py:14: OutdatedPackageWarning: The package outdated is out of date. Your version is 0.2.1, the latest is 0.2.2.\n",
      "Set the environment variable OUTDATED_IGNORE=1 to disable these warnings.\n",
      "  return warn(\n"
     ]
    }
   ],
   "source": [
    "%run functions"
   ]
  },
  {
   "attachments": {},
   "cell_type": "markdown",
   "metadata": {},
   "source": [
    "## Load data"
   ]
  },
  {
   "cell_type": "code",
   "execution_count": null,
   "metadata": {},
   "outputs": [],
   "source": [
    "loader = DataLoader()\n",
    "loader.GetData('final')\n",
    "d = loader.GetShuffled(1000)"
   ]
  },
  {
   "cell_type": "code",
   "execution_count": 31,
   "metadata": {},
   "outputs": [],
   "source": [
    "d = d.loc[d['score'] > 0,:]"
   ]
  },
  {
   "attachments": {},
   "cell_type": "markdown",
   "metadata": {},
   "source": [
    "## Regression\n",
    "### Split for train and test index"
   ]
  },
  {
   "cell_type": "code",
   "execution_count": 32,
   "metadata": {},
   "outputs": [],
   "source": [
    "ind = list(d.index)\n",
    "trainIn,testIn = ind[:2838],ind[2838:]"
   ]
  },
  {
   "attachments": {},
   "cell_type": "markdown",
   "metadata": {},
   "source": [
    "### Define regression function"
   ]
  },
  {
   "cell_type": "code",
   "execution_count": 5,
   "metadata": {},
   "outputs": [],
   "source": [
    "def regression(x,plt=False):\n",
    "    TrainX,TestX = [x[i] for i in trainIn],[x[i] for i in testIn]\n",
    "    TrainY,TestY = d['score'][trainIn],d['score'][testIn]\n",
    "    model = xgb.XGBRegressor(learning_rate=0.042)\n",
    "    model.fit(TrainX,TrainY)\n",
    "    PredY = model.predict(TestX)\n",
    "    PredTrainY = model.predict(TrainX)\n",
    "    #print('test RMSE: {:.3f}, test EV: {:.3f}%'.format(mean_squared_error(TestY,PredY,squared=False),explained_variance_score(TestY,PredY)*100))\n",
    "    #print('train RMSE: {:.3f}, train EV: {:.3f}%'.format(mean_squared_error(TrainY,PredTrainY,squared=False),explained_variance_score(TrainY,PredTrainY)*100))\n",
    "    if plt:\n",
    "        g = sns.scatterplot(x=TestY,y=PredY)\n",
    "        g.set_ylabel('predicted score')\n",
    "        g.set_xlabel('true score')\n",
    "        g.set_ylim((0,14))\n",
    "        g.set_xlim((0,14))\n",
    "        g = sns.lineplot(x=[0,14],y=[0,14],color='black')\n",
    "        g.lines[0].set_linestyle(\"--\")\n",
    "    return (mean_squared_error(TestY,PredY,squared=False),explained_variance_score(TestY,PredY)*100,mean_squared_error(TrainY,PredTrainY,squared=False),explained_variance_score(TrainY,PredTrainY)*100)"
   ]
  },
  {
   "attachments": {},
   "cell_type": "markdown",
   "metadata": {},
   "source": [
    "### Prepare data\n",
    "#### Embeddings"
   ]
  },
  {
   "cell_type": "code",
   "execution_count": 6,
   "metadata": {},
   "outputs": [],
   "source": [
    "xe = torch.load('features/final-meanp.pt')"
   ]
  },
  {
   "cell_type": "code",
   "execution_count": 7,
   "metadata": {},
   "outputs": [],
   "source": [
    "xe = [np.array(i).reshape(1024) for i in xe]"
   ]
  },
  {
   "attachments": {},
   "cell_type": "markdown",
   "metadata": {},
   "source": [
    "### Fine-grained complexity measures"
   ]
  },
  {
   "cell_type": "code",
   "execution_count": 8,
   "metadata": {},
   "outputs": [],
   "source": [
    "xf = []\n",
    "with open('features/final-winter-fine.csv') as f:\n",
    "    raw = f.readlines()[1:]"
   ]
  },
  {
   "cell_type": "code",
   "execution_count": 9,
   "metadata": {},
   "outputs": [],
   "source": [
    "for i in range(len(raw)):\n",
    "    l = raw[i]\n",
    "    l = l.rstrip('\\n').split(',')[2:]\n",
    "    l = [float(i) for i in l]\n",
    "    if i in list(d.index):\n",
    "        xf.append(np.array(l,dtype=float).reshape(143))\n",
    "    else:\n",
    "        xf.append([0])"
   ]
  },
  {
   "attachments": {},
   "cell_type": "markdown",
   "metadata": {},
   "source": [
    "#### Large-grained L2SCA measures"
   ]
  },
  {
   "cell_type": "code",
   "execution_count": 10,
   "metadata": {},
   "outputs": [],
   "source": [
    "with open('features/final-winter-l2sca.txt') as f:\n",
    "    l2 = f.readlines()[1:]\n",
    "large = dict()\n",
    "for l in l2:\n",
    "    i = int(l.split(',')[0].split('.')[0])\n",
    "    feat = l.rstrip('\\n').split(',')[-14:]\n",
    "    feat = [float(s) for s in feat]\n",
    "    large[i] = feat\n",
    "xl = []\n",
    "for i in range(3830):\n",
    "    xl.append(large[i])"
   ]
  },
  {
   "attachments": {},
   "cell_type": "markdown",
   "metadata": {},
   "source": [
    "#### Syntactic similarity measures"
   ]
  },
  {
   "cell_type": "code",
   "execution_count": 11,
   "metadata": {},
   "outputs": [],
   "source": [
    "f = np.load('features/final_winter_sent.npz')\n",
    "sim_list = [f[a] for a in f.files]\n",
    "sim_raw_list = []\n",
    "for n in f.files:\n",
    "    values = []\n",
    "    m = f[n]\n",
    "    for row in range(len(m)):\n",
    "        for col in range(row+1,len(m)):\n",
    "            values.append(m[row,col])\n",
    "    sim_raw_list.append(np.array(values))\n",
    "sim_mean = []\n",
    "sim_max = []\n",
    "sim_min = []\n",
    "for matrix in sim_raw_list:\n",
    "    if len(matrix) > 1:\n",
    "        sim_mean.append(np.average(matrix))\n",
    "        sim_max.append(np.max(matrix))\n",
    "        sim_min.append(np.min(matrix))\n",
    "    else:\n",
    "        sim_mean.append(0)\n",
    "        sim_max.append(0)\n",
    "        sim_min.append(0)\n",
    "cluster_num = []\n",
    "cluster_avg = []\n",
    "for k in range(len(sim_list)):\n",
    "    sim = sim_list[k]\n",
    "    if len(sim) > 1:\n",
    "        sim_thres = sim.copy()\n",
    "        for i in range(len(sim_thres)):\n",
    "            for j in range(len(sim_thres)):\n",
    "                if sim_thres[i,j] <= np.percentile(np.array(sim_raw_list[k]),50):\n",
    "                    sim_thres[i,j] = 0\n",
    "        res = mcl.run_mcl(sim_thres,inflation=2)\n",
    "        clusters = mcl.get_clusters(res)\n",
    "        cluster_num.append(len(clusters))\n",
    "        cluster_avg.append(len(sim)/len(clusters))\n",
    "    else:\n",
    "        cluster_num.append(0)\n",
    "        cluster_avg.append(0)"
   ]
  },
  {
   "cell_type": "code",
   "execution_count": 12,
   "metadata": {},
   "outputs": [],
   "source": [
    "xs = []\n",
    "for i in range(3830):\n",
    "    a = [sim_max[i],sim_mean[i],sim_min[i],cluster_avg[i],cluster_num[i]]\n",
    "    xs.append(a)"
   ]
  },
  {
   "attachments": {},
   "cell_type": "markdown",
   "metadata": {},
   "source": [
    "#### Embedding + sim"
   ]
  },
  {
   "cell_type": "code",
   "execution_count": 13,
   "metadata": {},
   "outputs": [],
   "source": [
    "xes = []\n",
    "for i in range(3830):\n",
    "    a = np.concatenate((xe[i],xs[i]))\n",
    "    xes.append(a)"
   ]
  },
  {
   "attachments": {},
   "cell_type": "markdown",
   "metadata": {},
   "source": [
    "#### Fine-grained + sim"
   ]
  },
  {
   "cell_type": "code",
   "execution_count": 14,
   "metadata": {},
   "outputs": [],
   "source": [
    "xfs = []\n",
    "for i in range(3830):\n",
    "    a = np.concatenate((xf[i],xs[i]))\n",
    "    xfs.append(a)"
   ]
  },
  {
   "attachments": {},
   "cell_type": "markdown",
   "metadata": {},
   "source": [
    "#### Large-grained + sim"
   ]
  },
  {
   "cell_type": "code",
   "execution_count": 15,
   "metadata": {},
   "outputs": [],
   "source": [
    "xls = []\n",
    "for i in range(3830):\n",
    "    a = np.concatenate((xl[i],xs[i]))\n",
    "    xls.append(a)"
   ]
  },
  {
   "attachments": {},
   "cell_type": "markdown",
   "metadata": {},
   "source": [
    "### Embedding + fine"
   ]
  },
  {
   "cell_type": "code",
   "execution_count": 16,
   "metadata": {},
   "outputs": [],
   "source": [
    "xef = []\n",
    "for i in range(3830):\n",
    "    a = np.concatenate((xe[i],xf[i]))\n",
    "    xef.append(a)"
   ]
  },
  {
   "attachments": {},
   "cell_type": "markdown",
   "metadata": {},
   "source": [
    "#### Embedding + large"
   ]
  },
  {
   "cell_type": "code",
   "execution_count": 17,
   "metadata": {},
   "outputs": [],
   "source": [
    "xel = []\n",
    "for i in range(3830):\n",
    "    a = np.concatenate((xe[i],xl[i]))\n",
    "    xel.append(a)"
   ]
  },
  {
   "attachments": {},
   "cell_type": "markdown",
   "metadata": {},
   "source": [
    "#### Embedding + fine + sim"
   ]
  },
  {
   "cell_type": "code",
   "execution_count": 18,
   "metadata": {},
   "outputs": [],
   "source": [
    "xefs = []\n",
    "for i in range(3830):\n",
    "    a = np.concatenate((xef[i],xs[i]))\n",
    "    xefs.append(a)"
   ]
  },
  {
   "attachments": {},
   "cell_type": "markdown",
   "metadata": {},
   "source": [
    "#### Embedding + large + sim"
   ]
  },
  {
   "cell_type": "code",
   "execution_count": 19,
   "metadata": {},
   "outputs": [],
   "source": [
    "xels = []\n",
    "for i in range(3830):\n",
    "    a = np.concatenate((xel[i],xs[i]))\n",
    "    xels.append(a)"
   ]
  },
  {
   "attachments": {},
   "cell_type": "markdown",
   "metadata": {},
   "source": [
    "### Get performances"
   ]
  },
  {
   "cell_type": "code",
   "execution_count": 33,
   "metadata": {},
   "outputs": [],
   "source": [
    "names = ['xl','xf','xs','xls','xfs','xe','xefs']\n",
    "trainRMSE, trainEV, testRMSE, testEV = [],[],[],[]\n",
    "x = [xl,xf,xs,xls,xfs,xe,xefs]\n",
    "for i in range(len(x)):\n",
    "    res = regression(x[i])\n",
    "    trainRMSE.append(res[2])\n",
    "    trainEV.append(res[3])\n",
    "    testRMSE.append(res[0])\n",
    "    testEV.append(res[1])\n",
    "r = pd.DataFrame({'test RMSE':testRMSE,\n",
    "                  'test EV':testEV,\n",
    "                  'train RMSE':trainRMSE,\n",
    "                  'trainEV':trainEV},index=names)"
   ]
  },
  {
   "cell_type": "code",
   "execution_count": 34,
   "metadata": {},
   "outputs": [
    {
     "data": {
      "text/html": [
       "<div>\n",
       "<style scoped>\n",
       "    .dataframe tbody tr th:only-of-type {\n",
       "        vertical-align: middle;\n",
       "    }\n",
       "\n",
       "    .dataframe tbody tr th {\n",
       "        vertical-align: top;\n",
       "    }\n",
       "\n",
       "    .dataframe thead th {\n",
       "        text-align: right;\n",
       "    }\n",
       "</style>\n",
       "<table border=\"1\" class=\"dataframe\">\n",
       "  <thead>\n",
       "    <tr style=\"text-align: right;\">\n",
       "      <th></th>\n",
       "      <th>test RMSE</th>\n",
       "      <th>test EV</th>\n",
       "      <th>train RMSE</th>\n",
       "      <th>trainEV</th>\n",
       "    </tr>\n",
       "  </thead>\n",
       "  <tbody>\n",
       "    <tr>\n",
       "      <th>xl</th>\n",
       "      <td>1.156707</td>\n",
       "      <td>31.824992</td>\n",
       "      <td>0.787036</td>\n",
       "      <td>66.745279</td>\n",
       "    </tr>\n",
       "    <tr>\n",
       "      <th>xf</th>\n",
       "      <td>0.750017</td>\n",
       "      <td>71.609637</td>\n",
       "      <td>0.487064</td>\n",
       "      <td>87.916827</td>\n",
       "    </tr>\n",
       "    <tr>\n",
       "      <th>xs</th>\n",
       "      <td>1.110637</td>\n",
       "      <td>36.683227</td>\n",
       "      <td>0.877543</td>\n",
       "      <td>58.438118</td>\n",
       "    </tr>\n",
       "    <tr>\n",
       "      <th>xls</th>\n",
       "      <td>0.967426</td>\n",
       "      <td>52.233496</td>\n",
       "      <td>0.641521</td>\n",
       "      <td>78.279841</td>\n",
       "    </tr>\n",
       "    <tr>\n",
       "      <th>xfs</th>\n",
       "      <td>0.745341</td>\n",
       "      <td>72.005501</td>\n",
       "      <td>0.483758</td>\n",
       "      <td>88.093282</td>\n",
       "    </tr>\n",
       "    <tr>\n",
       "      <th>xe</th>\n",
       "      <td>0.601101</td>\n",
       "      <td>81.981004</td>\n",
       "      <td>0.259017</td>\n",
       "      <td>97.356732</td>\n",
       "    </tr>\n",
       "    <tr>\n",
       "      <th>xefs</th>\n",
       "      <td>0.490159</td>\n",
       "      <td>88.229262</td>\n",
       "      <td>0.241503</td>\n",
       "      <td>97.833462</td>\n",
       "    </tr>\n",
       "  </tbody>\n",
       "</table>\n",
       "</div>"
      ],
      "text/plain": [
       "      test RMSE    test EV  train RMSE    trainEV\n",
       "xl     1.156707  31.824992    0.787036  66.745279\n",
       "xf     0.750017  71.609637    0.487064  87.916827\n",
       "xs     1.110637  36.683227    0.877543  58.438118\n",
       "xls    0.967426  52.233496    0.641521  78.279841\n",
       "xfs    0.745341  72.005501    0.483758  88.093282\n",
       "xe     0.601101  81.981004    0.259017  97.356732\n",
       "xefs   0.490159  88.229262    0.241503  97.833462"
      ]
     },
     "execution_count": 34,
     "metadata": {},
     "output_type": "execute_result"
    }
   ],
   "source": [
    "r"
   ]
  },
  {
   "cell_type": "code",
   "execution_count": 44,
   "metadata": {},
   "outputs": [
    {
     "name": "stdout",
     "output_type": "stream",
     "text": [
      "0.787\n",
      "0.487\n",
      "0.878\n",
      "0.642\n",
      "0.484\n",
      "0.259\n",
      "0.242\n"
     ]
    }
   ],
   "source": [
    "for n in names:\n",
    "    print('{:.3f}'.format(r['train RMSE'][n]))"
   ]
  }
 ],
 "metadata": {
  "kernelspec": {
   "display_name": "Python 3",
   "language": "python",
   "name": "python3"
  },
  "language_info": {
   "codemirror_mode": {
    "name": "ipython",
    "version": 3
   },
   "file_extension": ".py",
   "mimetype": "text/x-python",
   "name": "python",
   "nbconvert_exporter": "python",
   "pygments_lexer": "ipython3",
   "version": "3.10.8"
  },
  "orig_nbformat": 4
 },
 "nbformat": 4,
 "nbformat_minor": 2
}
