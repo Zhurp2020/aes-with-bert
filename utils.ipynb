{
 "cells": [
  {
   "cell_type": "markdown",
   "metadata": {},
   "source": [
    "## Import library"
   ]
  },
  {
   "cell_type": "code",
   "execution_count": 1,
   "metadata": {},
   "outputs": [],
   "source": [
    "import pandas as pd\n",
    "from sklearn.utils import shuffle"
   ]
  },
  {
   "cell_type": "markdown",
   "metadata": {},
   "source": [
    "## Data loader"
   ]
  },
  {
   "cell_type": "code",
   "execution_count": 2,
   "metadata": {},
   "outputs": [],
   "source": [
    "class DataLoader():\n",
    "    def __init__(self) :\n",
    "        # dict for path and source\n",
    "        self.FilePath = {\n",
    "            'L2Writing':'data/L2writing/train.csv',\n",
    "            'SHU':'data/SHU/spring.xlsx',\n",
    "            'ASAP':'data/asap-aes/training_set_rel3.xls'\n",
    "        }\n",
    "    def LoadData(self,source):\n",
    "        self.source = source\n",
    "        self.FileName = self.FilePath[self.source]\n",
    "        if 'csv' in self.FileName:\n",
    "            self.data = pd.read_csv(self.FileName)\n",
    "        else:\n",
    "            self.data = pd.read_excel(self.FileName)\n",
    "    def GetData(self,source):\n",
    "        '''\n",
    "        source: one of 'L2Writing','SHU','ASAP'\n",
    "        '''\n",
    "        self.LoadData(source)\n",
    "        return self.data\n",
    "    def ShuffleData(self):\n",
    "        self.shuffled = shuffle(self.data)\n",
    "    def GetShuffled(self):\n",
    "        self.ShuffleData()\n",
    "        return self.shuffled\n",
    "def clean_text(text):\n",
    "    # Convert text to lowercase\n",
    "    text = text.lower()\n",
    "    # Remove punctuation\n",
    "    text = re.sub(\"[%s]\" % re.escape(string.punctuation), \"\", text)\n",
    "    # Remove non-Roman characters\n",
    "    text = re.sub(\"([^\\x00-\\x7F])+\", \" \", text)    \n",
    "    text = re.sub(\"[\\n\\r\\t]\", \" \", text)   \n",
    "    return text"
   ]
  }
 ],
 "metadata": {
  "kernelspec": {
   "display_name": "Python 3.10.8 64-bit",
   "language": "python",
   "name": "python3"
  },
  "language_info": {
   "codemirror_mode": {
    "name": "ipython",
    "version": 3
   },
   "file_extension": ".py",
   "mimetype": "text/x-python",
   "name": "python",
   "nbconvert_exporter": "python",
   "pygments_lexer": "ipython3",
   "version": "3.10.8"
  },
  "orig_nbformat": 4,
  "vscode": {
   "interpreter": {
    "hash": "593988f55108e9a22df825be697685e2e60f0c546ce2b7da78c95a16021f878c"
   }
  }
 },
 "nbformat": 4,
 "nbformat_minor": 2
}
