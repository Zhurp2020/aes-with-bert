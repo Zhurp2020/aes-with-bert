{
 "cells": [
  {
   "attachments": {},
   "cell_type": "markdown",
   "metadata": {},
   "source": [
    "## Import library"
   ]
  },
  {
   "cell_type": "code",
   "execution_count": 1,
   "metadata": {},
   "outputs": [
    {
     "name": "stderr",
     "output_type": "stream",
     "text": [
      "c:\\Users\\GIGA\\AppData\\Local\\Programs\\Python\\Python310\\lib\\site-packages\\outdated\\utils.py:14: OutdatedPackageWarning: The package outdated is out of date. Your version is 0.2.1, the latest is 0.2.2.\n",
      "Set the environment variable OUTDATED_IGNORE=1 to disable these warnings.\n",
      "  return warn(\n"
     ]
    }
   ],
   "source": [
    "%run functions"
   ]
  },
  {
   "attachments": {},
   "cell_type": "markdown",
   "metadata": {},
   "source": [
    "## Load Data"
   ]
  },
  {
   "cell_type": "code",
   "execution_count": 2,
   "metadata": {},
   "outputs": [
    {
     "data": {
      "text/html": [
       "<div>\n",
       "<style scoped>\n",
       "    .dataframe tbody tr th:only-of-type {\n",
       "        vertical-align: middle;\n",
       "    }\n",
       "\n",
       "    .dataframe tbody tr th {\n",
       "        vertical-align: top;\n",
       "    }\n",
       "\n",
       "    .dataframe thead th {\n",
       "        text-align: right;\n",
       "    }\n",
       "</style>\n",
       "<table border=\"1\" class=\"dataframe\">\n",
       "  <thead>\n",
       "    <tr style=\"text-align: right;\">\n",
       "      <th></th>\n",
       "      <th>text_id</th>\n",
       "      <th>full_text</th>\n",
       "      <th>cohesion</th>\n",
       "      <th>syntax</th>\n",
       "      <th>vocabulary</th>\n",
       "      <th>phraseology</th>\n",
       "      <th>grammar</th>\n",
       "      <th>conventions</th>\n",
       "    </tr>\n",
       "  </thead>\n",
       "  <tbody>\n",
       "    <tr>\n",
       "      <th>0</th>\n",
       "      <td>0016926B079C</td>\n",
       "      <td>I think that students would benefit from learn...</td>\n",
       "      <td>3.5</td>\n",
       "      <td>3.5</td>\n",
       "      <td>3.0</td>\n",
       "      <td>3.0</td>\n",
       "      <td>4.0</td>\n",
       "      <td>3.0</td>\n",
       "    </tr>\n",
       "    <tr>\n",
       "      <th>1</th>\n",
       "      <td>0022683E9EA5</td>\n",
       "      <td>When a problem is a change you have to let it ...</td>\n",
       "      <td>2.5</td>\n",
       "      <td>2.5</td>\n",
       "      <td>3.0</td>\n",
       "      <td>2.0</td>\n",
       "      <td>2.0</td>\n",
       "      <td>2.5</td>\n",
       "    </tr>\n",
       "    <tr>\n",
       "      <th>2</th>\n",
       "      <td>00299B378633</td>\n",
       "      <td>Dear, Principal\\n\\nIf u change the school poli...</td>\n",
       "      <td>3.0</td>\n",
       "      <td>3.5</td>\n",
       "      <td>3.0</td>\n",
       "      <td>3.0</td>\n",
       "      <td>3.0</td>\n",
       "      <td>2.5</td>\n",
       "    </tr>\n",
       "    <tr>\n",
       "      <th>3</th>\n",
       "      <td>003885A45F42</td>\n",
       "      <td>The best time in life is when you become yours...</td>\n",
       "      <td>4.5</td>\n",
       "      <td>4.5</td>\n",
       "      <td>4.5</td>\n",
       "      <td>4.5</td>\n",
       "      <td>4.0</td>\n",
       "      <td>5.0</td>\n",
       "    </tr>\n",
       "    <tr>\n",
       "      <th>4</th>\n",
       "      <td>0049B1DF5CCC</td>\n",
       "      <td>Small act of kindness can impact in other peop...</td>\n",
       "      <td>2.5</td>\n",
       "      <td>3.0</td>\n",
       "      <td>3.0</td>\n",
       "      <td>3.0</td>\n",
       "      <td>2.5</td>\n",
       "      <td>2.5</td>\n",
       "    </tr>\n",
       "  </tbody>\n",
       "</table>\n",
       "</div>"
      ],
      "text/plain": [
       "        text_id                                          full_text  cohesion  \\\n",
       "0  0016926B079C  I think that students would benefit from learn...       3.5   \n",
       "1  0022683E9EA5  When a problem is a change you have to let it ...       2.5   \n",
       "2  00299B378633  Dear, Principal\\n\\nIf u change the school poli...       3.0   \n",
       "3  003885A45F42  The best time in life is when you become yours...       4.5   \n",
       "4  0049B1DF5CCC  Small act of kindness can impact in other peop...       2.5   \n",
       "\n",
       "   syntax  vocabulary  phraseology  grammar  conventions  \n",
       "0     3.5         3.0          3.0      4.0          3.0  \n",
       "1     2.5         3.0          2.0      2.0          2.5  \n",
       "2     3.5         3.0          3.0      3.0          2.5  \n",
       "3     4.5         4.5          4.5      4.0          5.0  \n",
       "4     3.0         3.0          3.0      2.5          2.5  "
      ]
     },
     "execution_count": 2,
     "metadata": {},
     "output_type": "execute_result"
    }
   ],
   "source": [
    "loader = DataLoader()\n",
    "d = loader.GetData('L2Writing')\n",
    "d.head()"
   ]
  },
  {
   "cell_type": "code",
   "execution_count": 7,
   "metadata": {},
   "outputs": [
    {
     "data": {
      "text/html": [
       "<div>\n",
       "<style scoped>\n",
       "    .dataframe tbody tr th:only-of-type {\n",
       "        vertical-align: middle;\n",
       "    }\n",
       "\n",
       "    .dataframe tbody tr th {\n",
       "        vertical-align: top;\n",
       "    }\n",
       "\n",
       "    .dataframe thead th {\n",
       "        text-align: right;\n",
       "    }\n",
       "</style>\n",
       "<table border=\"1\" class=\"dataframe\">\n",
       "  <thead>\n",
       "    <tr style=\"text-align: right;\">\n",
       "      <th></th>\n",
       "      <th>syntax</th>\n",
       "      <th>vocabulary</th>\n",
       "      <th>phraseology</th>\n",
       "      <th>grammar</th>\n",
       "      <th>conventions</th>\n",
       "    </tr>\n",
       "  </thead>\n",
       "  <tbody>\n",
       "    <tr>\n",
       "      <th>count</th>\n",
       "      <td>3911.000000</td>\n",
       "      <td>3911.000000</td>\n",
       "      <td>3911.000000</td>\n",
       "      <td>3911.000000</td>\n",
       "      <td>3911.000000</td>\n",
       "    </tr>\n",
       "    <tr>\n",
       "      <th>mean</th>\n",
       "      <td>3.028254</td>\n",
       "      <td>3.235745</td>\n",
       "      <td>3.116850</td>\n",
       "      <td>3.032856</td>\n",
       "      <td>3.081053</td>\n",
       "    </tr>\n",
       "    <tr>\n",
       "      <th>std</th>\n",
       "      <td>0.644399</td>\n",
       "      <td>0.583148</td>\n",
       "      <td>0.655997</td>\n",
       "      <td>0.699841</td>\n",
       "      <td>0.671450</td>\n",
       "    </tr>\n",
       "    <tr>\n",
       "      <th>min</th>\n",
       "      <td>1.000000</td>\n",
       "      <td>1.000000</td>\n",
       "      <td>1.000000</td>\n",
       "      <td>1.000000</td>\n",
       "      <td>1.000000</td>\n",
       "    </tr>\n",
       "    <tr>\n",
       "      <th>25%</th>\n",
       "      <td>2.500000</td>\n",
       "      <td>3.000000</td>\n",
       "      <td>2.500000</td>\n",
       "      <td>2.500000</td>\n",
       "      <td>2.500000</td>\n",
       "    </tr>\n",
       "    <tr>\n",
       "      <th>50%</th>\n",
       "      <td>3.000000</td>\n",
       "      <td>3.000000</td>\n",
       "      <td>3.000000</td>\n",
       "      <td>3.000000</td>\n",
       "      <td>3.000000</td>\n",
       "    </tr>\n",
       "    <tr>\n",
       "      <th>75%</th>\n",
       "      <td>3.500000</td>\n",
       "      <td>3.500000</td>\n",
       "      <td>3.500000</td>\n",
       "      <td>3.500000</td>\n",
       "      <td>3.500000</td>\n",
       "    </tr>\n",
       "    <tr>\n",
       "      <th>max</th>\n",
       "      <td>5.000000</td>\n",
       "      <td>5.000000</td>\n",
       "      <td>5.000000</td>\n",
       "      <td>5.000000</td>\n",
       "      <td>5.000000</td>\n",
       "    </tr>\n",
       "  </tbody>\n",
       "</table>\n",
       "</div>"
      ],
      "text/plain": [
       "            syntax   vocabulary  phraseology      grammar  conventions\n",
       "count  3911.000000  3911.000000  3911.000000  3911.000000  3911.000000\n",
       "mean      3.028254     3.235745     3.116850     3.032856     3.081053\n",
       "std       0.644399     0.583148     0.655997     0.699841     0.671450\n",
       "min       1.000000     1.000000     1.000000     1.000000     1.000000\n",
       "25%       2.500000     3.000000     2.500000     2.500000     2.500000\n",
       "50%       3.000000     3.000000     3.000000     3.000000     3.000000\n",
       "75%       3.500000     3.500000     3.500000     3.500000     3.500000\n",
       "max       5.000000     5.000000     5.000000     5.000000     5.000000"
      ]
     },
     "execution_count": 7,
     "metadata": {},
     "output_type": "execute_result"
    }
   ],
   "source": [
    "d[['syntax','vocabulary','phraseology','grammar','conventions']].describe()"
   ]
  },
  {
   "attachments": {},
   "cell_type": "markdown",
   "metadata": {},
   "source": [
    "## Model Inference"
   ]
  },
  {
   "attachments": {},
   "cell_type": "markdown",
   "metadata": {},
   "source": [
    "25m19.4s"
   ]
  },
  {
   "cell_type": "code",
   "execution_count": 3,
   "metadata": {},
   "outputs": [
    {
     "name": "stdout",
     "output_type": "stream",
     "text": [
      "tokenized\n",
      "0/1500, run:0\n",
      "10/1500, run:0\n",
      "20/1500, run:0\n",
      "30/1500, run:0\n",
      "40/1500, run:0\n",
      "50/1500, run:0\n",
      "60/1500, run:0\n",
      "70/1500, run:0\n",
      "80/1500, run:0\n",
      "90/1500, run:0\n",
      "100/1500, run:0\n",
      "110/1500, run:0\n",
      "120/1500, run:0\n",
      "130/1500, run:0\n",
      "140/1500, run:0\n",
      "150/1500, run:0\n",
      "160/1500, run:0\n",
      "170/1500, run:0\n",
      "180/1500, run:0\n",
      "190/1500, run:0\n",
      "200/1500, run:0\n",
      "210/1500, run:0\n",
      "220/1500, run:0\n",
      "230/1500, run:0\n",
      "240/1500, run:0\n",
      "250/1500, run:0\n",
      "260/1500, run:0\n",
      "270/1500, run:0\n",
      "280/1500, run:0\n",
      "290/1500, run:0\n",
      "300/1500, run:0\n",
      "310/1500, run:0\n",
      "320/1500, run:0\n",
      "330/1500, run:0\n",
      "340/1500, run:0\n",
      "350/1500, run:0\n",
      "360/1500, run:0\n",
      "370/1500, run:0\n",
      "380/1500, run:0\n",
      "390/1500, run:0\n",
      "400/1500, run:0\n",
      "410/1500, run:0\n",
      "420/1500, run:0\n",
      "430/1500, run:0\n",
      "440/1500, run:0\n",
      "450/1500, run:0\n",
      "460/1500, run:0\n",
      "470/1500, run:0\n",
      "480/1500, run:0\n",
      "490/1500, run:0\n",
      "500/1500, run:0\n",
      "510/1500, run:0\n",
      "520/1500, run:0\n",
      "530/1500, run:0\n",
      "540/1500, run:0\n",
      "550/1500, run:0\n",
      "560/1500, run:0\n",
      "570/1500, run:0\n",
      "580/1500, run:0\n",
      "590/1500, run:0\n",
      "600/1500, run:0\n",
      "610/1500, run:0\n",
      "620/1500, run:0\n",
      "630/1500, run:0\n",
      "640/1500, run:0\n",
      "650/1500, run:0\n",
      "660/1500, run:0\n",
      "670/1500, run:0\n",
      "680/1500, run:0\n",
      "690/1500, run:0\n",
      "700/1500, run:0\n",
      "710/1500, run:0\n",
      "720/1500, run:0\n",
      "730/1500, run:0\n",
      "740/1500, run:0\n",
      "750/1500, run:0\n",
      "760/1500, run:0\n",
      "770/1500, run:0\n",
      "780/1500, run:0\n",
      "790/1500, run:0\n",
      "800/1500, run:0\n",
      "810/1500, run:0\n",
      "820/1500, run:0\n",
      "830/1500, run:0\n",
      "840/1500, run:0\n",
      "850/1500, run:0\n",
      "860/1500, run:0\n",
      "870/1500, run:0\n",
      "880/1500, run:0\n",
      "890/1500, run:0\n",
      "900/1500, run:0\n",
      "910/1500, run:0\n",
      "920/1500, run:0\n",
      "930/1500, run:0\n",
      "940/1500, run:0\n",
      "950/1500, run:0\n",
      "960/1500, run:0\n",
      "970/1500, run:0\n",
      "980/1500, run:0\n",
      "990/1500, run:0\n",
      "1000/1500, run:0\n",
      "1010/1500, run:0\n",
      "1020/1500, run:0\n",
      "1030/1500, run:0\n",
      "1040/1500, run:0\n",
      "1050/1500, run:0\n",
      "1060/1500, run:0\n",
      "1070/1500, run:0\n",
      "1080/1500, run:0\n",
      "1090/1500, run:0\n",
      "1100/1500, run:0\n",
      "1110/1500, run:0\n",
      "1120/1500, run:0\n",
      "1130/1500, run:0\n",
      "1140/1500, run:0\n",
      "1150/1500, run:0\n",
      "1160/1500, run:0\n",
      "1170/1500, run:0\n",
      "1180/1500, run:0\n",
      "1190/1500, run:0\n",
      "1200/1500, run:0\n",
      "1210/1500, run:0\n",
      "1220/1500, run:0\n",
      "1230/1500, run:0\n",
      "1240/1500, run:0\n",
      "1250/1500, run:0\n",
      "1260/1500, run:0\n",
      "1270/1500, run:0\n",
      "1280/1500, run:0\n",
      "1290/1500, run:0\n",
      "1300/1500, run:0\n",
      "1310/1500, run:0\n",
      "1320/1500, run:0\n",
      "1330/1500, run:0\n",
      "1340/1500, run:0\n",
      "1350/1500, run:0\n",
      "1360/1500, run:0\n",
      "1370/1500, run:0\n",
      "1380/1500, run:0\n",
      "1390/1500, run:0\n",
      "1400/1500, run:0\n",
      "1410/1500, run:0\n",
      "1420/1500, run:0\n",
      "1430/1500, run:0\n",
      "1440/1500, run:0\n",
      "1450/1500, run:0\n",
      "1460/1500, run:0\n",
      "1470/1500, run:0\n",
      "1480/1500, run:0\n",
      "1490/1500, run:0\n",
      "0/1500, run:1\n",
      "10/1500, run:1\n",
      "20/1500, run:1\n",
      "30/1500, run:1\n",
      "40/1500, run:1\n",
      "50/1500, run:1\n",
      "60/1500, run:1\n",
      "70/1500, run:1\n",
      "80/1500, run:1\n",
      "90/1500, run:1\n",
      "100/1500, run:1\n",
      "110/1500, run:1\n",
      "120/1500, run:1\n",
      "130/1500, run:1\n",
      "140/1500, run:1\n",
      "150/1500, run:1\n",
      "160/1500, run:1\n",
      "170/1500, run:1\n",
      "180/1500, run:1\n",
      "190/1500, run:1\n",
      "200/1500, run:1\n",
      "210/1500, run:1\n",
      "220/1500, run:1\n",
      "230/1500, run:1\n",
      "240/1500, run:1\n",
      "250/1500, run:1\n",
      "260/1500, run:1\n",
      "270/1500, run:1\n",
      "280/1500, run:1\n",
      "290/1500, run:1\n",
      "300/1500, run:1\n",
      "310/1500, run:1\n",
      "320/1500, run:1\n",
      "330/1500, run:1\n",
      "340/1500, run:1\n",
      "350/1500, run:1\n",
      "360/1500, run:1\n",
      "370/1500, run:1\n",
      "380/1500, run:1\n",
      "390/1500, run:1\n",
      "400/1500, run:1\n",
      "410/1500, run:1\n",
      "420/1500, run:1\n",
      "430/1500, run:1\n",
      "440/1500, run:1\n",
      "450/1500, run:1\n",
      "460/1500, run:1\n",
      "470/1500, run:1\n",
      "480/1500, run:1\n",
      "490/1500, run:1\n",
      "500/1500, run:1\n",
      "510/1500, run:1\n",
      "520/1500, run:1\n",
      "530/1500, run:1\n",
      "540/1500, run:1\n",
      "550/1500, run:1\n",
      "560/1500, run:1\n",
      "570/1500, run:1\n",
      "580/1500, run:1\n",
      "590/1500, run:1\n",
      "600/1500, run:1\n",
      "610/1500, run:1\n",
      "620/1500, run:1\n",
      "630/1500, run:1\n",
      "640/1500, run:1\n",
      "650/1500, run:1\n",
      "660/1500, run:1\n",
      "670/1500, run:1\n",
      "680/1500, run:1\n",
      "690/1500, run:1\n",
      "700/1500, run:1\n",
      "710/1500, run:1\n",
      "720/1500, run:1\n",
      "730/1500, run:1\n",
      "740/1500, run:1\n",
      "750/1500, run:1\n",
      "760/1500, run:1\n",
      "770/1500, run:1\n",
      "780/1500, run:1\n",
      "790/1500, run:1\n",
      "800/1500, run:1\n",
      "810/1500, run:1\n",
      "820/1500, run:1\n",
      "830/1500, run:1\n",
      "840/1500, run:1\n",
      "850/1500, run:1\n",
      "860/1500, run:1\n",
      "870/1500, run:1\n",
      "880/1500, run:1\n",
      "890/1500, run:1\n",
      "900/1500, run:1\n",
      "910/1500, run:1\n",
      "920/1500, run:1\n",
      "930/1500, run:1\n",
      "940/1500, run:1\n",
      "950/1500, run:1\n",
      "960/1500, run:1\n",
      "970/1500, run:1\n",
      "980/1500, run:1\n",
      "990/1500, run:1\n",
      "1000/1500, run:1\n",
      "1010/1500, run:1\n",
      "1020/1500, run:1\n",
      "1030/1500, run:1\n",
      "1040/1500, run:1\n",
      "1050/1500, run:1\n",
      "1060/1500, run:1\n",
      "1070/1500, run:1\n",
      "1080/1500, run:1\n",
      "1090/1500, run:1\n",
      "1100/1500, run:1\n",
      "1110/1500, run:1\n",
      "1120/1500, run:1\n",
      "1130/1500, run:1\n",
      "1140/1500, run:1\n",
      "1150/1500, run:1\n",
      "1160/1500, run:1\n",
      "1170/1500, run:1\n",
      "1180/1500, run:1\n",
      "1190/1500, run:1\n"
     ]
    },
    {
     "ename": "MemoryError",
     "evalue": "Unable to allocate 2.00 MiB for an array with shape (512, 512) and data type float64",
     "output_type": "error",
     "traceback": [
      "\u001b[1;31m---------------------------------------------------------------------------\u001b[0m",
      "\u001b[1;31mMemoryError\u001b[0m                               Traceback (most recent call last)",
      "\u001b[1;32md:\\aes with bert\\reg.ipynb 单元格 8\u001b[0m in \u001b[0;36m2\n\u001b[0;32m      <a href='vscode-notebook-cell:/d%3A/aes%20with%20bert/reg.ipynb#X10sZmlsZQ%3D%3D?line=0'>1</a>\u001b[0m EmbeddingFetcher \u001b[39m=\u001b[39m GetBERTEmbeddings(d[\u001b[39m'\u001b[39m\u001b[39mfull_text\u001b[39m\u001b[39m'\u001b[39m],\u001b[39m'\u001b[39m\u001b[39mmodel/deberta-v3-large\u001b[39m\u001b[39m'\u001b[39m)\n\u001b[1;32m----> <a href='vscode-notebook-cell:/d%3A/aes%20with%20bert/reg.ipynb#X10sZmlsZQ%3D%3D?line=1'>2</a>\u001b[0m EmbeddingFetcher\u001b[39m.\u001b[39;49minf(stop\u001b[39m=\u001b[39;49m\u001b[39m1500\u001b[39;49m,SeqLen \u001b[39m=\u001b[39;49m \u001b[39m512\u001b[39;49m )\n",
      "File \u001b[1;32mD:\\aes with bert\\functions.py:964\u001b[0m, in \u001b[0;36mGetBERTEmbeddings.inf\u001b[1;34m(self, stop, SeqLen)\u001b[0m\n\u001b[0;32m    962\u001b[0m \u001b[39mfor\u001b[39;00m i \u001b[39min\u001b[39;00m \u001b[39mrange\u001b[39m(stop):\n\u001b[0;32m    963\u001b[0m     \u001b[39mwith\u001b[39;00m torch\u001b[39m.\u001b[39mno_grad():\n\u001b[1;32m--> 964\u001b[0m         out \u001b[39m=\u001b[39m \u001b[39mself\u001b[39;49m\u001b[39m.\u001b[39;49mmodel(\u001b[39mself\u001b[39;49m\u001b[39m.\u001b[39;49minput[run\u001b[39m*\u001b[39;49mstop\u001b[39m+\u001b[39;49mi][\u001b[39m'\u001b[39;49m\u001b[39minput_ids\u001b[39;49m\u001b[39m'\u001b[39;49m],\u001b[39mself\u001b[39;49m\u001b[39m.\u001b[39;49minput[run\u001b[39m*\u001b[39;49mstop\u001b[39m+\u001b[39;49mi][\u001b[39m'\u001b[39;49m\u001b[39mattention_mask\u001b[39;49m\u001b[39m'\u001b[39;49m]) \u001b[39m# inference\u001b[39;00m\n\u001b[0;32m    965\u001b[0m     \u001b[39mself\u001b[39m\u001b[39m.\u001b[39mhidden\u001b[39m.\u001b[39mappend(out\u001b[39m.\u001b[39mlast_hidden_state\u001b[39m.\u001b[39mdetach()\u001b[39m.\u001b[39mcpu()) \u001b[39m# detach to cpu\u001b[39;00m\n\u001b[0;32m    966\u001b[0m     \u001b[39mif\u001b[39;00m i \u001b[39m%\u001b[39m \u001b[39m10\u001b[39m \u001b[39m==\u001b[39m \u001b[39m0\u001b[39m:\n",
      "File \u001b[1;32mc:\\Users\\GIGA\\AppData\\Local\\Programs\\Python\\Python310\\lib\\site-packages\\torch\\nn\\modules\\module.py:1194\u001b[0m, in \u001b[0;36mModule._call_impl\u001b[1;34m(self, *input, **kwargs)\u001b[0m\n\u001b[0;32m   1190\u001b[0m \u001b[39m# If we don't have any hooks, we want to skip the rest of the logic in\u001b[39;00m\n\u001b[0;32m   1191\u001b[0m \u001b[39m# this function, and just call forward.\u001b[39;00m\n\u001b[0;32m   1192\u001b[0m \u001b[39mif\u001b[39;00m \u001b[39mnot\u001b[39;00m (\u001b[39mself\u001b[39m\u001b[39m.\u001b[39m_backward_hooks \u001b[39mor\u001b[39;00m \u001b[39mself\u001b[39m\u001b[39m.\u001b[39m_forward_hooks \u001b[39mor\u001b[39;00m \u001b[39mself\u001b[39m\u001b[39m.\u001b[39m_forward_pre_hooks \u001b[39mor\u001b[39;00m _global_backward_hooks\n\u001b[0;32m   1193\u001b[0m         \u001b[39mor\u001b[39;00m _global_forward_hooks \u001b[39mor\u001b[39;00m _global_forward_pre_hooks):\n\u001b[1;32m-> 1194\u001b[0m     \u001b[39mreturn\u001b[39;00m forward_call(\u001b[39m*\u001b[39m\u001b[39minput\u001b[39m, \u001b[39m*\u001b[39m\u001b[39m*\u001b[39mkwargs)\n\u001b[0;32m   1195\u001b[0m \u001b[39m# Do not call functions when jit is used\u001b[39;00m\n\u001b[0;32m   1196\u001b[0m full_backward_hooks, non_full_backward_hooks \u001b[39m=\u001b[39m [], []\n",
      "File \u001b[1;32mc:\\Users\\GIGA\\AppData\\Local\\Programs\\Python\\Python310\\lib\\site-packages\\transformers\\models\\deberta_v2\\modeling_deberta_v2.py:1053\u001b[0m, in \u001b[0;36mDebertaV2Model.forward\u001b[1;34m(self, input_ids, attention_mask, token_type_ids, position_ids, inputs_embeds, output_attentions, output_hidden_states, return_dict)\u001b[0m\n\u001b[0;32m   1043\u001b[0m     token_type_ids \u001b[39m=\u001b[39m torch\u001b[39m.\u001b[39mzeros(input_shape, dtype\u001b[39m=\u001b[39mtorch\u001b[39m.\u001b[39mlong, device\u001b[39m=\u001b[39mdevice)\n\u001b[0;32m   1045\u001b[0m embedding_output \u001b[39m=\u001b[39m \u001b[39mself\u001b[39m\u001b[39m.\u001b[39membeddings(\n\u001b[0;32m   1046\u001b[0m     input_ids\u001b[39m=\u001b[39minput_ids,\n\u001b[0;32m   1047\u001b[0m     token_type_ids\u001b[39m=\u001b[39mtoken_type_ids,\n\u001b[1;32m   (...)\u001b[0m\n\u001b[0;32m   1050\u001b[0m     inputs_embeds\u001b[39m=\u001b[39minputs_embeds,\n\u001b[0;32m   1051\u001b[0m )\n\u001b[1;32m-> 1053\u001b[0m encoder_outputs \u001b[39m=\u001b[39m \u001b[39mself\u001b[39;49m\u001b[39m.\u001b[39;49mencoder(\n\u001b[0;32m   1054\u001b[0m     embedding_output,\n\u001b[0;32m   1055\u001b[0m     attention_mask,\n\u001b[0;32m   1056\u001b[0m     output_hidden_states\u001b[39m=\u001b[39;49m\u001b[39mTrue\u001b[39;49;00m,\n\u001b[0;32m   1057\u001b[0m     output_attentions\u001b[39m=\u001b[39;49moutput_attentions,\n\u001b[0;32m   1058\u001b[0m     return_dict\u001b[39m=\u001b[39;49mreturn_dict,\n\u001b[0;32m   1059\u001b[0m )\n\u001b[0;32m   1060\u001b[0m encoded_layers \u001b[39m=\u001b[39m encoder_outputs[\u001b[39m1\u001b[39m]\n\u001b[0;32m   1062\u001b[0m \u001b[39mif\u001b[39;00m \u001b[39mself\u001b[39m\u001b[39m.\u001b[39mz_steps \u001b[39m>\u001b[39m \u001b[39m1\u001b[39m:\n",
      "File \u001b[1;32mc:\\Users\\GIGA\\AppData\\Local\\Programs\\Python\\Python310\\lib\\site-packages\\torch\\nn\\modules\\module.py:1194\u001b[0m, in \u001b[0;36mModule._call_impl\u001b[1;34m(self, *input, **kwargs)\u001b[0m\n\u001b[0;32m   1190\u001b[0m \u001b[39m# If we don't have any hooks, we want to skip the rest of the logic in\u001b[39;00m\n\u001b[0;32m   1191\u001b[0m \u001b[39m# this function, and just call forward.\u001b[39;00m\n\u001b[0;32m   1192\u001b[0m \u001b[39mif\u001b[39;00m \u001b[39mnot\u001b[39;00m (\u001b[39mself\u001b[39m\u001b[39m.\u001b[39m_backward_hooks \u001b[39mor\u001b[39;00m \u001b[39mself\u001b[39m\u001b[39m.\u001b[39m_forward_hooks \u001b[39mor\u001b[39;00m \u001b[39mself\u001b[39m\u001b[39m.\u001b[39m_forward_pre_hooks \u001b[39mor\u001b[39;00m _global_backward_hooks\n\u001b[0;32m   1193\u001b[0m         \u001b[39mor\u001b[39;00m _global_forward_hooks \u001b[39mor\u001b[39;00m _global_forward_pre_hooks):\n\u001b[1;32m-> 1194\u001b[0m     \u001b[39mreturn\u001b[39;00m forward_call(\u001b[39m*\u001b[39m\u001b[39minput\u001b[39m, \u001b[39m*\u001b[39m\u001b[39m*\u001b[39mkwargs)\n\u001b[0;32m   1195\u001b[0m \u001b[39m# Do not call functions when jit is used\u001b[39;00m\n\u001b[0;32m   1196\u001b[0m full_backward_hooks, non_full_backward_hooks \u001b[39m=\u001b[39m [], []\n",
      "File \u001b[1;32mc:\\Users\\GIGA\\AppData\\Local\\Programs\\Python\\Python310\\lib\\site-packages\\transformers\\models\\deberta_v2\\modeling_deberta_v2.py:469\u001b[0m, in \u001b[0;36mDebertaV2Encoder.forward\u001b[1;34m(self, hidden_states, attention_mask, output_hidden_states, output_attentions, query_states, relative_pos, return_dict)\u001b[0m\n\u001b[0;32m    467\u001b[0m     input_mask \u001b[39m=\u001b[39m (attention_mask\u001b[39m.\u001b[39msum(\u001b[39m-\u001b[39m\u001b[39m2\u001b[39m) \u001b[39m>\u001b[39m \u001b[39m0\u001b[39m)\u001b[39m.\u001b[39mbyte()\n\u001b[0;32m    468\u001b[0m attention_mask \u001b[39m=\u001b[39m \u001b[39mself\u001b[39m\u001b[39m.\u001b[39mget_attention_mask(attention_mask)\n\u001b[1;32m--> 469\u001b[0m relative_pos \u001b[39m=\u001b[39m \u001b[39mself\u001b[39;49m\u001b[39m.\u001b[39;49mget_rel_pos(hidden_states, query_states, relative_pos)\n\u001b[0;32m    471\u001b[0m all_hidden_states \u001b[39m=\u001b[39m () \u001b[39mif\u001b[39;00m output_hidden_states \u001b[39melse\u001b[39;00m \u001b[39mNone\u001b[39;00m\n\u001b[0;32m    472\u001b[0m all_attentions \u001b[39m=\u001b[39m () \u001b[39mif\u001b[39;00m output_attentions \u001b[39melse\u001b[39;00m \u001b[39mNone\u001b[39;00m\n",
      "File \u001b[1;32mc:\\Users\\GIGA\\AppData\\Local\\Programs\\Python\\Python310\\lib\\site-packages\\transformers\\models\\deberta_v2\\modeling_deberta_v2.py:449\u001b[0m, in \u001b[0;36mDebertaV2Encoder.get_rel_pos\u001b[1;34m(self, hidden_states, query_states, relative_pos)\u001b[0m\n\u001b[0;32m    447\u001b[0m \u001b[39mif\u001b[39;00m \u001b[39mself\u001b[39m\u001b[39m.\u001b[39mrelative_attention \u001b[39mand\u001b[39;00m relative_pos \u001b[39mis\u001b[39;00m \u001b[39mNone\u001b[39;00m:\n\u001b[0;32m    448\u001b[0m     q \u001b[39m=\u001b[39m query_states\u001b[39m.\u001b[39msize(\u001b[39m-\u001b[39m\u001b[39m2\u001b[39m) \u001b[39mif\u001b[39;00m query_states \u001b[39mis\u001b[39;00m \u001b[39mnot\u001b[39;00m \u001b[39mNone\u001b[39;00m \u001b[39melse\u001b[39;00m hidden_states\u001b[39m.\u001b[39msize(\u001b[39m-\u001b[39m\u001b[39m2\u001b[39m)\n\u001b[1;32m--> 449\u001b[0m     relative_pos \u001b[39m=\u001b[39m build_relative_position(\n\u001b[0;32m    450\u001b[0m         q, hidden_states\u001b[39m.\u001b[39;49msize(\u001b[39m-\u001b[39;49m\u001b[39m2\u001b[39;49m), bucket_size\u001b[39m=\u001b[39;49m\u001b[39mself\u001b[39;49m\u001b[39m.\u001b[39;49mposition_buckets, max_position\u001b[39m=\u001b[39;49m\u001b[39mself\u001b[39;49m\u001b[39m.\u001b[39;49mmax_relative_positions\n\u001b[0;32m    451\u001b[0m     )\n\u001b[0;32m    452\u001b[0m \u001b[39mreturn\u001b[39;00m relative_pos\n",
      "File \u001b[1;32mc:\\Users\\GIGA\\AppData\\Local\\Programs\\Python\\Python310\\lib\\site-packages\\transformers\\models\\deberta_v2\\modeling_deberta_v2.py:568\u001b[0m, in \u001b[0;36mbuild_relative_position\u001b[1;34m(query_size, key_size, bucket_size, max_position)\u001b[0m\n\u001b[0;32m    566\u001b[0m rel_pos_ids \u001b[39m=\u001b[39m q_ids[:, \u001b[39mNone\u001b[39;00m] \u001b[39m-\u001b[39m np\u001b[39m.\u001b[39mtile(k_ids, (q_ids\u001b[39m.\u001b[39mshape[\u001b[39m0\u001b[39m], \u001b[39m1\u001b[39m))\n\u001b[0;32m    567\u001b[0m \u001b[39mif\u001b[39;00m bucket_size \u001b[39m>\u001b[39m \u001b[39m0\u001b[39m \u001b[39mand\u001b[39;00m max_position \u001b[39m>\u001b[39m \u001b[39m0\u001b[39m:\n\u001b[1;32m--> 568\u001b[0m     rel_pos_ids \u001b[39m=\u001b[39m make_log_bucket_position(rel_pos_ids, bucket_size, max_position)\n\u001b[0;32m    569\u001b[0m rel_pos_ids \u001b[39m=\u001b[39m torch\u001b[39m.\u001b[39mtensor(rel_pos_ids, dtype\u001b[39m=\u001b[39mtorch\u001b[39m.\u001b[39mlong)\n\u001b[0;32m    570\u001b[0m rel_pos_ids \u001b[39m=\u001b[39m rel_pos_ids[:query_size, :]\n",
      "File \u001b[1;32mc:\\Users\\GIGA\\AppData\\Local\\Programs\\Python\\Python310\\lib\\site-packages\\transformers\\models\\deberta_v2\\modeling_deberta_v2.py:542\u001b[0m, in \u001b[0;36mmake_log_bucket_position\u001b[1;34m(relative_pos, bucket_size, max_position)\u001b[0m\n\u001b[0;32m    540\u001b[0m abs_pos \u001b[39m=\u001b[39m np\u001b[39m.\u001b[39mwhere((relative_pos \u001b[39m<\u001b[39m mid) \u001b[39m&\u001b[39m (relative_pos \u001b[39m>\u001b[39m \u001b[39m-\u001b[39mmid), mid \u001b[39m-\u001b[39m \u001b[39m1\u001b[39m, np\u001b[39m.\u001b[39mabs(relative_pos))\n\u001b[0;32m    541\u001b[0m log_pos \u001b[39m=\u001b[39m np\u001b[39m.\u001b[39mceil(np\u001b[39m.\u001b[39mlog(abs_pos \u001b[39m/\u001b[39m mid) \u001b[39m/\u001b[39m np\u001b[39m.\u001b[39mlog((max_position \u001b[39m-\u001b[39m \u001b[39m1\u001b[39m) \u001b[39m/\u001b[39m mid) \u001b[39m*\u001b[39m (mid \u001b[39m-\u001b[39m \u001b[39m1\u001b[39m)) \u001b[39m+\u001b[39m mid\n\u001b[1;32m--> 542\u001b[0m bucket_pos \u001b[39m=\u001b[39m np\u001b[39m.\u001b[39;49mwhere(abs_pos \u001b[39m<\u001b[39;49m\u001b[39m=\u001b[39;49m mid, relative_pos, log_pos \u001b[39m*\u001b[39;49m sign)\u001b[39m.\u001b[39mastype(np\u001b[39m.\u001b[39mint)\n\u001b[0;32m    543\u001b[0m \u001b[39mreturn\u001b[39;00m bucket_pos\n",
      "File \u001b[1;32m<__array_function__ internals>:180\u001b[0m, in \u001b[0;36mwhere\u001b[1;34m(*args, **kwargs)\u001b[0m\n",
      "\u001b[1;31mMemoryError\u001b[0m: Unable to allocate 2.00 MiB for an array with shape (512, 512) and data type float64"
     ]
    }
   ],
   "source": [
    "EmbeddingFetcher = GetBERTEmbeddings(d['full_text'],'model/deberta-v3-large')\n",
    "EmbeddingFetcher.inf(stop=1500,SeqLen = 512 )"
   ]
  },
  {
   "attachments": {},
   "cell_type": "markdown",
   "metadata": {},
   "source": [
    "### Save to disk"
   ]
  },
  {
   "cell_type": "code",
   "execution_count": 23,
   "metadata": {},
   "outputs": [],
   "source": [
    "x = EmbeddingFetcher.GetEmbeddings('MeanP')"
   ]
  },
  {
   "cell_type": "code",
   "execution_count": null,
   "metadata": {},
   "outputs": [],
   "source": [
    "torch.save(x,'features/kaggle-meanp.pt')"
   ]
  },
  {
   "attachments": {},
   "cell_type": "markdown",
   "metadata": {},
   "source": [
    "## Fine-grained feature"
   ]
  },
  {
   "cell_type": "code",
   "execution_count": null,
   "metadata": {},
   "outputs": [],
   "source": [
    "for i in range(len(d)):\n",
    "    t = d['full_text'][i]\n",
    "    extractor = FeatureExtraction(t)\n",
    "    extractor.process()\n",
    "    features = extractor.get_data()\n",
    "    with open('features/kaggle-fine.csv','a',encoding='utf-8') as f:\n",
    "        f.write('{},'.format(i))\n",
    "        f.write(','.join([str(i) for i in features]))\n",
    "        f.write('\\n')\n",
    "    print(i)"
   ]
  },
  {
   "attachments": {},
   "cell_type": "markdown",
   "metadata": {},
   "source": [
    "## Split Train and Test data"
   ]
  },
  {
   "cell_type": "code",
   "execution_count": 59,
   "metadata": {},
   "outputs": [],
   "source": [
    "ind = [i for i in range(3911)]\n",
    "ind = shuffle(ind)\n",
    "trainIn,testIn = ind[:3100],ind[3100:]"
   ]
  },
  {
   "cell_type": "code",
   "execution_count": 69,
   "metadata": {},
   "outputs": [],
   "source": [
    "x = [np.array(i).reshape(1024) for i in x]\n",
    "columns = ['cohesion', 'syntax', 'vocabulary','phraseology', 'grammar', 'conventions']\n",
    "TrainX,TestX = [x[i] for i in trainIn],[x[i] for i in testIn]"
   ]
  },
  {
   "cell_type": "code",
   "execution_count": 61,
   "metadata": {},
   "outputs": [],
   "source": [
    "TrainY,TestY = [],[]\n",
    "for i in columns:\n",
    "    TrainY.append(d[i].iloc[trainIn])\n",
    "    TestY.append(d[i].iloc[testIn])"
   ]
  },
  {
   "attachments": {},
   "cell_type": "markdown",
   "metadata": {},
   "source": [
    "## Hyper parameter tuning"
   ]
  },
  {
   "cell_type": "code",
   "execution_count": null,
   "metadata": {},
   "outputs": [],
   "source": [
    "def objective(trial):\n",
    "    params = {\"random_state\":trial.suggest_categorical(\"random_state\", [42]),           \n",
    "        'learning_rate' : trial.suggest_float('learning_rate', 0.01, 1),  \n",
    "        \"max_depth\" : trial.suggest_int(\"max_depth\", 5, 15),\n",
    "        \"alpha\" : trial.suggest_float('alpha',0.9,1),\n",
    "    }\n",
    "    error = []\n",
    "    for i in range(6):\n",
    "        model = xgb.XGBRegressor(**params)\n",
    "        model.fit(TrainX,TrainY[i])\n",
    "        PredY = model.predict(TestX)\n",
    "        e = mean_squared_error(TestY[i],PredY,squared=False)\n",
    "        error.append(e)\n",
    "    mcrmse = sum(error)/6\n",
    "    return mcrmse\n",
    "#study = optuna.create_study()\n",
    "#study.optimize(objective, n_trials=100) "
   ]
  },
  {
   "cell_type": "code",
   "execution_count": null,
   "metadata": {},
   "outputs": [],
   "source": [
    "from optuna.visualization.matplotlib import plot_optimization_history\n",
    "#plot_optimization_history(study)"
   ]
  },
  {
   "attachments": {},
   "cell_type": "markdown",
   "metadata": {},
   "source": [
    "## No tuning"
   ]
  },
  {
   "cell_type": "code",
   "execution_count": 71,
   "metadata": {},
   "outputs": [],
   "source": [
    "def objective():\n",
    "    mlist = []\n",
    "    error = []\n",
    "    aberror = []\n",
    "    for i in range(6):\n",
    "        model = xgb.XGBRegressor(tree_method=\"hist\",learning_rate=0.042)\n",
    "        model.fit(TrainX,TrainY[i])\n",
    "        PredY = model.predict(TestX)\n",
    "        e = mean_squared_error(TestY[i],PredY,squared=False)\n",
    "        ae = mean_absolute_error(TestY[i],PredY)\n",
    "        error.append(e)\n",
    "        aberror.append(ae)\n",
    "        mlist.append(model)\n",
    "    mcrmse = sum(error)/6\n",
    "    mmae = sum(aberror)/6\n",
    "    return [mcrmse,error,mmae,aberror],mlist\n"
   ]
  },
  {
   "cell_type": "code",
   "execution_count": 70,
   "metadata": {},
   "outputs": [
    {
     "data": {
      "text/plain": [
       "[0.4901127988767116,\n",
       " [0.5189144681316188,\n",
       "  0.48164353903948215,\n",
       "  0.45622084121633005,\n",
       "  0.49302976424567607,\n",
       "  0.499472407159096,\n",
       "  0.4913957734680665],\n",
       " 0.38971831153755176,\n",
       " [0.41634049030473286,\n",
       "  0.3854310790354756,\n",
       "  0.3589799191008073,\n",
       "  0.3938603920060521,\n",
       "  0.3974893684010911,\n",
       "  0.38620862037715137]]"
      ]
     },
     "execution_count": 70,
     "metadata": {},
     "output_type": "execute_result"
    }
   ],
   "source": [
    "res = objective()\n",
    "res[0]"
   ]
  },
  {
   "cell_type": "code",
   "execution_count": 58,
   "metadata": {},
   "outputs": [
    {
     "data": {
      "text/plain": [
       "<AxesSubplot: title={'center': 'Feature importance'}, xlabel='F score', ylabel='Features'>"
      ]
     },
     "execution_count": 58,
     "metadata": {},
     "output_type": "execute_result"
    },
    {
     "data": {
      "image/png": "[encoded data removed]",
      "text/plain": [
       "<Figure size 640x480 with 1 Axes>"
      ]
     },
     "metadata": {},
     "output_type": "display_data"
    }
   ],
   "source": [
    "xgb.plot_importance(res[1][2],max_num_features=15)"
   ]
  },
  {
   "attachments": {},
   "cell_type": "markdown",
   "metadata": {},
   "source": [
    "## Features only"
   ]
  },
  {
   "attachments": {},
   "cell_type": "markdown",
   "metadata": {},
   "source": [
    "767m48.5s"
   ]
  },
  {
   "cell_type": "code",
   "execution_count": null,
   "metadata": {},
   "outputs": [],
   "source": [
    "x1 = []\n",
    "c= 0\n",
    "for essay in d['full_text']:\n",
    "    ext = FeatureExtraction(essay)\n",
    "    i = ext.GetFine()\n",
    "    c += 1\n",
    "    x1.append(i)\n",
    "    if c % 10 == 0:\n",
    "        print(c)\n",
    "    with open('a.txt','a') as f:\n",
    "        f.write(','.join([str(f) for f in i]))\n",
    "        f.write('\\n')\n",
    "x1[0]"
   ]
  },
  {
   "cell_type": "code",
   "execution_count": 64,
   "metadata": {},
   "outputs": [],
   "source": [
    "x1 = []\n",
    "with open('a.txt') as f:\n",
    "    for l in f.readlines():\n",
    "        feat = [float(i) for i in l.split(',')]\n",
    "        x1.append(feat)"
   ]
  },
  {
   "cell_type": "code",
   "execution_count": 65,
   "metadata": {},
   "outputs": [],
   "source": [
    "TrainX,TestX = [x[i] for i in trainIn],[x[i] for i in testIn]"
   ]
  },
  {
   "cell_type": "code",
   "execution_count": 36,
   "metadata": {},
   "outputs": [
    {
     "data": {
      "text/plain": [
       "([0.6566103741152405,\n",
       "  [0.6742114618951561,\n",
       "   0.6491155070637221,\n",
       "   0.5811288459420132,\n",
       "   0.647390551599236,\n",
       "   0.7198891145851979,\n",
       "   0.6679267636061174],\n",
       "  0.5312721166304978,\n",
       "  [0.5487662422965693,\n",
       "   0.5133060041985,\n",
       "   0.4682672558818587,\n",
       "   0.5291697493904763,\n",
       "   0.5952096094185563,\n",
       "   0.532913838597026]],\n",
       " [XGBRegressor(base_score=0.5, booster='gbtree', callbacks=None,\n",
       "               colsample_bylevel=1, colsample_bynode=1, colsample_bytree=1,\n",
       "               early_stopping_rounds=None, enable_categorical=False,\n",
       "               eval_metric=None, gamma=0, gpu_id=-1, grow_policy='depthwise',\n",
       "               importance_type=None, interaction_constraints='',\n",
       "               learning_rate=0.042, max_bin=256, max_cat_to_onehot=4,\n",
       "               max_delta_step=0, max_depth=6, max_leaves=0, min_child_weight=1,\n",
       "               missing=nan, monotone_constraints='()', n_estimators=100, n_jobs=0,\n",
       "               num_parallel_tree=1, predictor='auto', random_state=0, reg_alpha=0,\n",
       "               reg_lambda=1, ...),\n",
       "  XGBRegressor(base_score=0.5, booster='gbtree', callbacks=None,\n",
       "               colsample_bylevel=1, colsample_bynode=1, colsample_bytree=1,\n",
       "               early_stopping_rounds=None, enable_categorical=False,\n",
       "               eval_metric=None, gamma=0, gpu_id=-1, grow_policy='depthwise',\n",
       "               importance_type=None, interaction_constraints='',\n",
       "               learning_rate=0.042, max_bin=256, max_cat_to_onehot=4,\n",
       "               max_delta_step=0, max_depth=6, max_leaves=0, min_child_weight=1,\n",
       "               missing=nan, monotone_constraints='()', n_estimators=100, n_jobs=0,\n",
       "               num_parallel_tree=1, predictor='auto', random_state=0, reg_alpha=0,\n",
       "               reg_lambda=1, ...),\n",
       "  XGBRegressor(base_score=0.5, booster='gbtree', callbacks=None,\n",
       "               colsample_bylevel=1, colsample_bynode=1, colsample_bytree=1,\n",
       "               early_stopping_rounds=None, enable_categorical=False,\n",
       "               eval_metric=None, gamma=0, gpu_id=-1, grow_policy='depthwise',\n",
       "               importance_type=None, interaction_constraints='',\n",
       "               learning_rate=0.042, max_bin=256, max_cat_to_onehot=4,\n",
       "               max_delta_step=0, max_depth=6, max_leaves=0, min_child_weight=1,\n",
       "               missing=nan, monotone_constraints='()', n_estimators=100, n_jobs=0,\n",
       "               num_parallel_tree=1, predictor='auto', random_state=0, reg_alpha=0,\n",
       "               reg_lambda=1, ...),\n",
       "  XGBRegressor(base_score=0.5, booster='gbtree', callbacks=None,\n",
       "               colsample_bylevel=1, colsample_bynode=1, colsample_bytree=1,\n",
       "               early_stopping_rounds=None, enable_categorical=False,\n",
       "               eval_metric=None, gamma=0, gpu_id=-1, grow_policy='depthwise',\n",
       "               importance_type=None, interaction_constraints='',\n",
       "               learning_rate=0.042, max_bin=256, max_cat_to_onehot=4,\n",
       "               max_delta_step=0, max_depth=6, max_leaves=0, min_child_weight=1,\n",
       "               missing=nan, monotone_constraints='()', n_estimators=100, n_jobs=0,\n",
       "               num_parallel_tree=1, predictor='auto', random_state=0, reg_alpha=0,\n",
       "               reg_lambda=1, ...),\n",
       "  XGBRegressor(base_score=0.5, booster='gbtree', callbacks=None,\n",
       "               colsample_bylevel=1, colsample_bynode=1, colsample_bytree=1,\n",
       "               early_stopping_rounds=None, enable_categorical=False,\n",
       "               eval_metric=None, gamma=0, gpu_id=-1, grow_policy='depthwise',\n",
       "               importance_type=None, interaction_constraints='',\n",
       "               learning_rate=0.042, max_bin=256, max_cat_to_onehot=4,\n",
       "               max_delta_step=0, max_depth=6, max_leaves=0, min_child_weight=1,\n",
       "               missing=nan, monotone_constraints='()', n_estimators=100, n_jobs=0,\n",
       "               num_parallel_tree=1, predictor='auto', random_state=0, reg_alpha=0,\n",
       "               reg_lambda=1, ...),\n",
       "  XGBRegressor(base_score=0.5, booster='gbtree', callbacks=None,\n",
       "               colsample_bylevel=1, colsample_bynode=1, colsample_bytree=1,\n",
       "               early_stopping_rounds=None, enable_categorical=False,\n",
       "               eval_metric=None, gamma=0, gpu_id=-1, grow_policy='depthwise',\n",
       "               importance_type=None, interaction_constraints='',\n",
       "               learning_rate=0.042, max_bin=256, max_cat_to_onehot=4,\n",
       "               max_delta_step=0, max_depth=6, max_leaves=0, min_child_weight=1,\n",
       "               missing=nan, monotone_constraints='()', n_estimators=100, n_jobs=0,\n",
       "               num_parallel_tree=1, predictor='auto', random_state=0, reg_alpha=0,\n",
       "               reg_lambda=1, ...)])"
      ]
     },
     "execution_count": 36,
     "metadata": {},
     "output_type": "execute_result"
    }
   ],
   "source": [
    "res = objective()\n",
    "res[0]"
   ]
  },
  {
   "attachments": {},
   "cell_type": "markdown",
   "metadata": {},
   "source": [
    "## Features+embeddings"
   ]
  },
  {
   "cell_type": "code",
   "execution_count": 66,
   "metadata": {},
   "outputs": [],
   "source": [
    "x2 = []\n",
    "for i in range(3911):\n",
    "    a = np.concatenate((x[i],x1[i]))\n",
    "    x2.append(a)\n",
    "TrainX,TestX = [x[i] for i in trainIn],[x[i] for i in testIn]"
   ]
  },
  {
   "cell_type": "code",
   "execution_count": 67,
   "metadata": {},
   "outputs": [
    {
     "data": {
      "text/plain": [
       "[0.46874437043095823,\n",
       " [0.4997165420457511,\n",
       "  0.4629332935223624,\n",
       "  0.43024884420963827,\n",
       "  0.4726074528138384,\n",
       "  0.4834400040067978,\n",
       "  0.46352008598736155],\n",
       " 0.3731959862714925,\n",
       " [0.40033280614272,\n",
       "  0.37067794505823703,\n",
       "  0.33788423017861663,\n",
       "  0.37759669141616536,\n",
       "  0.38716116316074506,\n",
       "  0.3655230816724709]]"
      ]
     },
     "execution_count": 67,
     "metadata": {},
     "output_type": "execute_result"
    }
   ],
   "source": [
    "res = objective()\n",
    "res[0]"
   ]
  },
  {
   "attachments": {},
   "cell_type": "markdown",
   "metadata": {},
   "source": [
    "## L2"
   ]
  },
  {
   "cell_type": "code",
   "execution_count": 52,
   "metadata": {},
   "outputs": [],
   "source": [
    "with open('b1.txt') as f:\n",
    "    l2 = f.readlines()\n",
    "xl = dict()\n",
    "for l in l2:\n",
    "    i = int(l.split(',')[0].split('.')[0])\n",
    "    feat = l.rstrip('\\n').split(',')[-14:]\n",
    "    feat = [float(s) for s in feat]\n",
    "    xl[i] = feat\n",
    "x4 = []\n",
    "for i in range(3911):\n",
    "    x4.append(xl[i])"
   ]
  },
  {
   "cell_type": "code",
   "execution_count": 53,
   "metadata": {},
   "outputs": [],
   "source": [
    "TrainX,TestX = x4[:3100],x4[3100:]"
   ]
  },
  {
   "cell_type": "code",
   "execution_count": 54,
   "metadata": {},
   "outputs": [
    {
     "data": {
      "text/plain": [
       "[0.6163962719820254,\n",
       " [0.6397027154083018,\n",
       "  0.5849239355886143,\n",
       "  0.5589177689471,\n",
       "  0.6086826307275333,\n",
       "  0.6881419588661435,\n",
       "  0.6180086223544601],\n",
       " 0.4983672518520457,\n",
       " [0.5201878422726538,\n",
       "  0.4727889631591214,\n",
       "  0.4343680009594975,\n",
       "  0.4977107791806561,\n",
       "  0.568865179721583,\n",
       "  0.4962827458187625]]"
      ]
     },
     "execution_count": 54,
     "metadata": {},
     "output_type": "execute_result"
    }
   ],
   "source": [
    "res = objective()\n",
    "res[0]"
   ]
  },
  {
   "cell_type": "code",
   "execution_count": 44,
   "metadata": {},
   "outputs": [],
   "source": [
    "x5 = []\n",
    "for i in range(3911):\n",
    "    a = np.concatenate((x[i],x4[i]))\n",
    "    x5.append(a)\n",
    "TrainX,TestX = x5[:3100],x5[3100:]"
   ]
  },
  {
   "cell_type": "code",
   "execution_count": 45,
   "metadata": {},
   "outputs": [
    {
     "data": {
      "text/plain": [
       "[0.4650907062248734,\n",
       " [0.503362417887616,\n",
       "  0.46286441909149273,\n",
       "  0.4155043524781967,\n",
       "  0.45535011406881476,\n",
       "  0.4931740878523469,\n",
       "  0.4602888459707733],\n",
       " 0.37196535445317974,\n",
       " [0.4068213003043329,\n",
       "  0.3691242558447559,\n",
       "  0.3260172035191415,\n",
       "  0.3720397206916762,\n",
       "  0.391796720748177,\n",
       "  0.365992925610995]]"
      ]
     },
     "execution_count": 45,
     "metadata": {},
     "output_type": "execute_result"
    }
   ],
   "source": [
    "res = objective()\n",
    "res[0]"
   ]
  }
 ],
 "metadata": {
  "kernelspec": {
   "display_name": "Python 3.10.8 64-bit",
   "language": "python",
   "name": "python3"
  },
  "language_info": {
   "codemirror_mode": {
    "name": "ipython",
    "version": 3
   },
   "file_extension": ".py",
   "mimetype": "text/x-python",
   "name": "python",
   "nbconvert_exporter": "python",
   "pygments_lexer": "ipython3",
   "version": "3.10.8"
  },
  "orig_nbformat": 4,
  "vscode": {
   "interpreter": {
    "hash": "593988f55108e9a22df825be697685e2e60f0c546ce2b7da78c95a16021f878c"
   }
  }
 },
 "nbformat": 4,
 "nbformat_minor": 2
}
