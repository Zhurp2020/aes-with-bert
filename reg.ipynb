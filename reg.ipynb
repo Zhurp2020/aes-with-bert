{
 "cells": [
  {
   "cell_type": "markdown",
   "metadata": {},
   "source": [
    "## Import library"
   ]
  },
  {
   "cell_type": "code",
   "execution_count": 1,
   "metadata": {},
   "outputs": [],
   "source": [
    "%run bert\n",
    "%run utils.ipynb\n",
    "%run feat\n",
    "\n",
    "import numpy as np\n",
    "import pandas as pd\n",
    "import sklearn as sk\n",
    "from sklearn import linear_model \n",
    "from sklearn.metrics import cohen_kappa_score,mean_absolute_error,mean_squared_error,accuracy_score,explained_variance_score\n",
    "import matplotlib.pyplot as plt\n",
    "import seaborn as sns\n",
    "import xgboost as xgb\n",
    "import optuna"
   ]
  },
  {
   "cell_type": "markdown",
   "metadata": {},
   "source": [
    "### For plotting"
   ]
  },
  {
   "cell_type": "code",
   "execution_count": 2,
   "metadata": {},
   "outputs": [],
   "source": [
    "sns.set_theme(style='darkgrid')"
   ]
  },
  {
   "cell_type": "markdown",
   "metadata": {},
   "source": [
    "## Load Data"
   ]
  },
  {
   "cell_type": "code",
   "execution_count": 3,
   "metadata": {},
   "outputs": [
    {
     "data": {
      "text/html": [
       "<div>\n",
       "<style scoped>\n",
       "    .dataframe tbody tr th:only-of-type {\n",
       "        vertical-align: middle;\n",
       "    }\n",
       "\n",
       "    .dataframe tbody tr th {\n",
       "        vertical-align: top;\n",
       "    }\n",
       "\n",
       "    .dataframe thead th {\n",
       "        text-align: right;\n",
       "    }\n",
       "</style>\n",
       "<table border=\"1\" class=\"dataframe\">\n",
       "  <thead>\n",
       "    <tr style=\"text-align: right;\">\n",
       "      <th></th>\n",
       "      <th>text_id</th>\n",
       "      <th>full_text</th>\n",
       "      <th>cohesion</th>\n",
       "      <th>syntax</th>\n",
       "      <th>vocabulary</th>\n",
       "      <th>phraseology</th>\n",
       "      <th>grammar</th>\n",
       "      <th>conventions</th>\n",
       "    </tr>\n",
       "  </thead>\n",
       "  <tbody>\n",
       "    <tr>\n",
       "      <th>0</th>\n",
       "      <td>0016926B079C</td>\n",
       "      <td>I think that students would benefit from learn...</td>\n",
       "      <td>3.5</td>\n",
       "      <td>3.5</td>\n",
       "      <td>3.0</td>\n",
       "      <td>3.0</td>\n",
       "      <td>4.0</td>\n",
       "      <td>3.0</td>\n",
       "    </tr>\n",
       "    <tr>\n",
       "      <th>1</th>\n",
       "      <td>0022683E9EA5</td>\n",
       "      <td>When a problem is a change you have to let it ...</td>\n",
       "      <td>2.5</td>\n",
       "      <td>2.5</td>\n",
       "      <td>3.0</td>\n",
       "      <td>2.0</td>\n",
       "      <td>2.0</td>\n",
       "      <td>2.5</td>\n",
       "    </tr>\n",
       "    <tr>\n",
       "      <th>2</th>\n",
       "      <td>00299B378633</td>\n",
       "      <td>Dear, Principal\\n\\nIf u change the school poli...</td>\n",
       "      <td>3.0</td>\n",
       "      <td>3.5</td>\n",
       "      <td>3.0</td>\n",
       "      <td>3.0</td>\n",
       "      <td>3.0</td>\n",
       "      <td>2.5</td>\n",
       "    </tr>\n",
       "    <tr>\n",
       "      <th>3</th>\n",
       "      <td>003885A45F42</td>\n",
       "      <td>The best time in life is when you become yours...</td>\n",
       "      <td>4.5</td>\n",
       "      <td>4.5</td>\n",
       "      <td>4.5</td>\n",
       "      <td>4.5</td>\n",
       "      <td>4.0</td>\n",
       "      <td>5.0</td>\n",
       "    </tr>\n",
       "    <tr>\n",
       "      <th>4</th>\n",
       "      <td>0049B1DF5CCC</td>\n",
       "      <td>Small act of kindness can impact in other peop...</td>\n",
       "      <td>2.5</td>\n",
       "      <td>3.0</td>\n",
       "      <td>3.0</td>\n",
       "      <td>3.0</td>\n",
       "      <td>2.5</td>\n",
       "      <td>2.5</td>\n",
       "    </tr>\n",
       "  </tbody>\n",
       "</table>\n",
       "</div>"
      ],
      "text/plain": [
       "        text_id                                          full_text  cohesion  \\\n",
       "0  0016926B079C  I think that students would benefit from learn...       3.5   \n",
       "1  0022683E9EA5  When a problem is a change you have to let it ...       2.5   \n",
       "2  00299B378633  Dear, Principal\\n\\nIf u change the school poli...       3.0   \n",
       "3  003885A45F42  The best time in life is when you become yours...       4.5   \n",
       "4  0049B1DF5CCC  Small act of kindness can impact in other peop...       2.5   \n",
       "\n",
       "   syntax  vocabulary  phraseology  grammar  conventions  \n",
       "0     3.5         3.0          3.0      4.0          3.0  \n",
       "1     2.5         3.0          2.0      2.0          2.5  \n",
       "2     3.5         3.0          3.0      3.0          2.5  \n",
       "3     4.5         4.5          4.5      4.0          5.0  \n",
       "4     3.0         3.0          3.0      2.5          2.5  "
      ]
     },
     "execution_count": 3,
     "metadata": {},
     "output_type": "execute_result"
    }
   ],
   "source": [
    "loader = DataLoader()\n",
    "d = loader.GetData('L2Writing')\n",
    "d.head()"
   ]
  },
  {
   "cell_type": "code",
   "execution_count": 7,
   "metadata": {},
   "outputs": [
    {
     "data": {
      "text/html": [
       "<div>\n",
       "<style scoped>\n",
       "    .dataframe tbody tr th:only-of-type {\n",
       "        vertical-align: middle;\n",
       "    }\n",
       "\n",
       "    .dataframe tbody tr th {\n",
       "        vertical-align: top;\n",
       "    }\n",
       "\n",
       "    .dataframe thead th {\n",
       "        text-align: right;\n",
       "    }\n",
       "</style>\n",
       "<table border=\"1\" class=\"dataframe\">\n",
       "  <thead>\n",
       "    <tr style=\"text-align: right;\">\n",
       "      <th></th>\n",
       "      <th>syntax</th>\n",
       "      <th>vocabulary</th>\n",
       "      <th>phraseology</th>\n",
       "      <th>grammar</th>\n",
       "      <th>conventions</th>\n",
       "    </tr>\n",
       "  </thead>\n",
       "  <tbody>\n",
       "    <tr>\n",
       "      <th>count</th>\n",
       "      <td>3911.000000</td>\n",
       "      <td>3911.000000</td>\n",
       "      <td>3911.000000</td>\n",
       "      <td>3911.000000</td>\n",
       "      <td>3911.000000</td>\n",
       "    </tr>\n",
       "    <tr>\n",
       "      <th>mean</th>\n",
       "      <td>3.028254</td>\n",
       "      <td>3.235745</td>\n",
       "      <td>3.116850</td>\n",
       "      <td>3.032856</td>\n",
       "      <td>3.081053</td>\n",
       "    </tr>\n",
       "    <tr>\n",
       "      <th>std</th>\n",
       "      <td>0.644399</td>\n",
       "      <td>0.583148</td>\n",
       "      <td>0.655997</td>\n",
       "      <td>0.699841</td>\n",
       "      <td>0.671450</td>\n",
       "    </tr>\n",
       "    <tr>\n",
       "      <th>min</th>\n",
       "      <td>1.000000</td>\n",
       "      <td>1.000000</td>\n",
       "      <td>1.000000</td>\n",
       "      <td>1.000000</td>\n",
       "      <td>1.000000</td>\n",
       "    </tr>\n",
       "    <tr>\n",
       "      <th>25%</th>\n",
       "      <td>2.500000</td>\n",
       "      <td>3.000000</td>\n",
       "      <td>2.500000</td>\n",
       "      <td>2.500000</td>\n",
       "      <td>2.500000</td>\n",
       "    </tr>\n",
       "    <tr>\n",
       "      <th>50%</th>\n",
       "      <td>3.000000</td>\n",
       "      <td>3.000000</td>\n",
       "      <td>3.000000</td>\n",
       "      <td>3.000000</td>\n",
       "      <td>3.000000</td>\n",
       "    </tr>\n",
       "    <tr>\n",
       "      <th>75%</th>\n",
       "      <td>3.500000</td>\n",
       "      <td>3.500000</td>\n",
       "      <td>3.500000</td>\n",
       "      <td>3.500000</td>\n",
       "      <td>3.500000</td>\n",
       "    </tr>\n",
       "    <tr>\n",
       "      <th>max</th>\n",
       "      <td>5.000000</td>\n",
       "      <td>5.000000</td>\n",
       "      <td>5.000000</td>\n",
       "      <td>5.000000</td>\n",
       "      <td>5.000000</td>\n",
       "    </tr>\n",
       "  </tbody>\n",
       "</table>\n",
       "</div>"
      ],
      "text/plain": [
       "            syntax   vocabulary  phraseology      grammar  conventions\n",
       "count  3911.000000  3911.000000  3911.000000  3911.000000  3911.000000\n",
       "mean      3.028254     3.235745     3.116850     3.032856     3.081053\n",
       "std       0.644399     0.583148     0.655997     0.699841     0.671450\n",
       "min       1.000000     1.000000     1.000000     1.000000     1.000000\n",
       "25%       2.500000     3.000000     2.500000     2.500000     2.500000\n",
       "50%       3.000000     3.000000     3.000000     3.000000     3.000000\n",
       "75%       3.500000     3.500000     3.500000     3.500000     3.500000\n",
       "max       5.000000     5.000000     5.000000     5.000000     5.000000"
      ]
     },
     "execution_count": 7,
     "metadata": {},
     "output_type": "execute_result"
    }
   ],
   "source": [
    "d[['syntax','vocabulary','phraseology','grammar','conventions']].describe()"
   ]
  },
  {
   "cell_type": "code",
   "execution_count": 8,
   "metadata": {},
   "outputs": [
    {
     "name": "stdout",
     "output_type": "stream",
     "text": [
      "100\n",
      "200\n",
      "300\n",
      "400\n",
      "500\n",
      "600\n",
      "700\n",
      "800\n",
      "900\n",
      "1000\n",
      "1100\n",
      "1200\n",
      "1300\n",
      "1400\n",
      "1500\n",
      "1600\n",
      "1700\n",
      "1800\n",
      "1900\n",
      "2000\n",
      "2100\n",
      "2200\n",
      "2300\n",
      "2400\n",
      "2500\n",
      "2600\n",
      "2700\n",
      "2800\n",
      "2900\n",
      "3000\n",
      "3100\n",
      "3200\n",
      "3300\n",
      "3400\n",
      "3500\n",
      "3600\n",
      "3700\n",
      "3800\n",
      "3900\n"
     ]
    }
   ],
   "source": [
    "tcount = []\n",
    "i=0\n",
    "for e in d['full_text']:\n",
    "    i+= 1\n",
    "    if i %100 == 0:\n",
    "        print(i)\n",
    "    ext = extractor.pass_text(e)\n",
    "    f = ext.preprocess()\n",
    "    tcount.append(f['n_token'])"
   ]
  },
  {
   "cell_type": "code",
   "execution_count": 9,
   "metadata": {},
   "outputs": [
    {
     "data": {
      "text/plain": [
       "count    3911.000000\n",
       "mean      333.484019\n",
       "std       147.754908\n",
       "min        12.000000\n",
       "25%       228.500000\n",
       "50%       311.000000\n",
       "75%       408.000000\n",
       "max       955.000000\n",
       "Name: token, dtype: float64"
      ]
     },
     "execution_count": 9,
     "metadata": {},
     "output_type": "execute_result"
    }
   ],
   "source": [
    "d['token'] = tcount\n",
    "d['token'].describe()"
   ]
  },
  {
   "cell_type": "code",
   "execution_count": 18,
   "metadata": {},
   "outputs": [
    {
     "data": {
      "text/plain": [
       "<AxesSubplot: xlabel='token', ylabel='Count'>"
      ]
     },
     "execution_count": 18,
     "metadata": {},
     "output_type": "execute_result"
    },
    {
     "data": {
      "image/png": "[encoded data removed]",
      "text/plain": [
       "<Figure size 640x480 with 1 Axes>"
      ]
     },
     "metadata": {},
     "output_type": "display_data"
    }
   ],
   "source": [
    "sns.histplot(d['token'])"
   ]
  },
  {
   "cell_type": "code",
   "execution_count": 22,
   "metadata": {},
   "outputs": [
    {
     "data": {
      "image/png": "[encoded data removed]",
      "text/plain": [
       "<Figure size 640x480 with 1 Axes>"
      ]
     },
     "metadata": {},
     "output_type": "display_data"
    }
   ],
   "source": [
    "g = sns.histplot(d['conventions'],discrete=True)"
   ]
  },
  {
   "cell_type": "markdown",
   "metadata": {},
   "source": [
    "## Model Inference"
   ]
  },
  {
   "cell_type": "markdown",
   "metadata": {},
   "source": [
    "25m19.4s"
   ]
  },
  {
   "cell_type": "code",
   "execution_count": 4,
   "metadata": {},
   "outputs": [
    {
     "name": "stdout",
     "output_type": "stream",
     "text": [
      "tokenized\n",
      "0/1500, run:0\n",
      "10/1500, run:0\n",
      "20/1500, run:0\n",
      "30/1500, run:0\n",
      "40/1500, run:0\n",
      "50/1500, run:0\n",
      "60/1500, run:0\n",
      "70/1500, run:0\n",
      "80/1500, run:0\n",
      "90/1500, run:0\n",
      "100/1500, run:0\n",
      "110/1500, run:0\n",
      "120/1500, run:0\n",
      "130/1500, run:0\n",
      "140/1500, run:0\n",
      "150/1500, run:0\n",
      "160/1500, run:0\n",
      "170/1500, run:0\n",
      "180/1500, run:0\n",
      "190/1500, run:0\n",
      "200/1500, run:0\n",
      "210/1500, run:0\n",
      "220/1500, run:0\n",
      "230/1500, run:0\n",
      "240/1500, run:0\n",
      "250/1500, run:0\n",
      "260/1500, run:0\n",
      "270/1500, run:0\n",
      "280/1500, run:0\n",
      "290/1500, run:0\n",
      "300/1500, run:0\n",
      "310/1500, run:0\n",
      "320/1500, run:0\n",
      "330/1500, run:0\n",
      "340/1500, run:0\n",
      "350/1500, run:0\n",
      "360/1500, run:0\n",
      "370/1500, run:0\n",
      "380/1500, run:0\n",
      "390/1500, run:0\n",
      "400/1500, run:0\n",
      "410/1500, run:0\n",
      "420/1500, run:0\n",
      "430/1500, run:0\n",
      "440/1500, run:0\n",
      "450/1500, run:0\n",
      "460/1500, run:0\n",
      "470/1500, run:0\n",
      "480/1500, run:0\n",
      "490/1500, run:0\n",
      "500/1500, run:0\n",
      "510/1500, run:0\n",
      "520/1500, run:0\n",
      "530/1500, run:0\n",
      "540/1500, run:0\n",
      "550/1500, run:0\n",
      "560/1500, run:0\n",
      "570/1500, run:0\n",
      "580/1500, run:0\n",
      "590/1500, run:0\n",
      "600/1500, run:0\n",
      "610/1500, run:0\n",
      "620/1500, run:0\n",
      "630/1500, run:0\n",
      "640/1500, run:0\n",
      "650/1500, run:0\n",
      "660/1500, run:0\n",
      "670/1500, run:0\n",
      "680/1500, run:0\n",
      "690/1500, run:0\n",
      "700/1500, run:0\n",
      "710/1500, run:0\n",
      "720/1500, run:0\n",
      "730/1500, run:0\n",
      "740/1500, run:0\n",
      "750/1500, run:0\n",
      "760/1500, run:0\n",
      "770/1500, run:0\n",
      "780/1500, run:0\n",
      "790/1500, run:0\n",
      "800/1500, run:0\n",
      "810/1500, run:0\n",
      "820/1500, run:0\n",
      "830/1500, run:0\n",
      "840/1500, run:0\n",
      "850/1500, run:0\n",
      "860/1500, run:0\n",
      "870/1500, run:0\n",
      "880/1500, run:0\n",
      "890/1500, run:0\n",
      "900/1500, run:0\n",
      "910/1500, run:0\n",
      "920/1500, run:0\n",
      "930/1500, run:0\n",
      "940/1500, run:0\n",
      "950/1500, run:0\n",
      "960/1500, run:0\n",
      "970/1500, run:0\n",
      "980/1500, run:0\n",
      "990/1500, run:0\n",
      "1000/1500, run:0\n",
      "1010/1500, run:0\n",
      "1020/1500, run:0\n",
      "1030/1500, run:0\n",
      "1040/1500, run:0\n",
      "1050/1500, run:0\n",
      "1060/1500, run:0\n",
      "1070/1500, run:0\n",
      "1080/1500, run:0\n",
      "1090/1500, run:0\n",
      "1100/1500, run:0\n",
      "1110/1500, run:0\n",
      "1120/1500, run:0\n",
      "1130/1500, run:0\n",
      "1140/1500, run:0\n",
      "1150/1500, run:0\n",
      "1160/1500, run:0\n",
      "1170/1500, run:0\n",
      "1180/1500, run:0\n",
      "1190/1500, run:0\n",
      "1200/1500, run:0\n",
      "1210/1500, run:0\n",
      "1220/1500, run:0\n",
      "1230/1500, run:0\n",
      "1240/1500, run:0\n",
      "1250/1500, run:0\n",
      "1260/1500, run:0\n",
      "1270/1500, run:0\n",
      "1280/1500, run:0\n",
      "1290/1500, run:0\n",
      "1300/1500, run:0\n",
      "1310/1500, run:0\n",
      "1320/1500, run:0\n",
      "1330/1500, run:0\n",
      "1340/1500, run:0\n",
      "1350/1500, run:0\n",
      "1360/1500, run:0\n",
      "1370/1500, run:0\n",
      "1380/1500, run:0\n",
      "1390/1500, run:0\n",
      "1400/1500, run:0\n",
      "1410/1500, run:0\n",
      "1420/1500, run:0\n",
      "1430/1500, run:0\n",
      "1440/1500, run:0\n",
      "1450/1500, run:0\n",
      "1460/1500, run:0\n",
      "1470/1500, run:0\n",
      "1480/1500, run:0\n",
      "1490/1500, run:0\n",
      "0/1500, run:1\n",
      "10/1500, run:1\n",
      "20/1500, run:1\n",
      "30/1500, run:1\n",
      "40/1500, run:1\n",
      "50/1500, run:1\n",
      "60/1500, run:1\n",
      "70/1500, run:1\n",
      "80/1500, run:1\n",
      "90/1500, run:1\n",
      "100/1500, run:1\n",
      "110/1500, run:1\n",
      "120/1500, run:1\n",
      "130/1500, run:1\n",
      "140/1500, run:1\n",
      "150/1500, run:1\n",
      "160/1500, run:1\n",
      "170/1500, run:1\n",
      "180/1500, run:1\n",
      "190/1500, run:1\n",
      "200/1500, run:1\n",
      "210/1500, run:1\n",
      "220/1500, run:1\n",
      "230/1500, run:1\n",
      "240/1500, run:1\n",
      "250/1500, run:1\n",
      "260/1500, run:1\n",
      "270/1500, run:1\n",
      "280/1500, run:1\n",
      "290/1500, run:1\n",
      "300/1500, run:1\n",
      "310/1500, run:1\n",
      "320/1500, run:1\n",
      "330/1500, run:1\n",
      "340/1500, run:1\n",
      "350/1500, run:1\n",
      "360/1500, run:1\n",
      "370/1500, run:1\n",
      "380/1500, run:1\n",
      "390/1500, run:1\n",
      "400/1500, run:1\n",
      "410/1500, run:1\n",
      "420/1500, run:1\n",
      "430/1500, run:1\n",
      "440/1500, run:1\n",
      "450/1500, run:1\n",
      "460/1500, run:1\n",
      "470/1500, run:1\n",
      "480/1500, run:1\n",
      "490/1500, run:1\n",
      "500/1500, run:1\n",
      "510/1500, run:1\n",
      "520/1500, run:1\n",
      "530/1500, run:1\n",
      "540/1500, run:1\n",
      "550/1500, run:1\n",
      "560/1500, run:1\n",
      "570/1500, run:1\n",
      "580/1500, run:1\n",
      "590/1500, run:1\n",
      "600/1500, run:1\n",
      "610/1500, run:1\n",
      "620/1500, run:1\n",
      "630/1500, run:1\n",
      "640/1500, run:1\n",
      "650/1500, run:1\n",
      "660/1500, run:1\n",
      "670/1500, run:1\n",
      "680/1500, run:1\n",
      "690/1500, run:1\n",
      "700/1500, run:1\n",
      "710/1500, run:1\n",
      "720/1500, run:1\n",
      "730/1500, run:1\n",
      "740/1500, run:1\n",
      "750/1500, run:1\n",
      "760/1500, run:1\n",
      "770/1500, run:1\n",
      "780/1500, run:1\n",
      "790/1500, run:1\n",
      "800/1500, run:1\n",
      "810/1500, run:1\n",
      "820/1500, run:1\n",
      "830/1500, run:1\n",
      "840/1500, run:1\n",
      "850/1500, run:1\n",
      "860/1500, run:1\n",
      "870/1500, run:1\n",
      "880/1500, run:1\n",
      "890/1500, run:1\n",
      "900/1500, run:1\n",
      "910/1500, run:1\n",
      "920/1500, run:1\n",
      "930/1500, run:1\n",
      "940/1500, run:1\n",
      "950/1500, run:1\n",
      "960/1500, run:1\n",
      "970/1500, run:1\n",
      "980/1500, run:1\n",
      "990/1500, run:1\n",
      "1000/1500, run:1\n",
      "1010/1500, run:1\n",
      "1020/1500, run:1\n",
      "1030/1500, run:1\n",
      "1040/1500, run:1\n",
      "1050/1500, run:1\n",
      "1060/1500, run:1\n",
      "1070/1500, run:1\n",
      "1080/1500, run:1\n",
      "1090/1500, run:1\n",
      "1100/1500, run:1\n",
      "1110/1500, run:1\n",
      "1120/1500, run:1\n",
      "1130/1500, run:1\n",
      "1140/1500, run:1\n",
      "1150/1500, run:1\n",
      "1160/1500, run:1\n",
      "1170/1500, run:1\n",
      "1180/1500, run:1\n",
      "1190/1500, run:1\n",
      "1200/1500, run:1\n",
      "1210/1500, run:1\n",
      "1220/1500, run:1\n",
      "1230/1500, run:1\n",
      "1240/1500, run:1\n",
      "1250/1500, run:1\n",
      "1260/1500, run:1\n",
      "1270/1500, run:1\n",
      "1280/1500, run:1\n",
      "1290/1500, run:1\n",
      "1300/1500, run:1\n",
      "1310/1500, run:1\n",
      "1320/1500, run:1\n",
      "1330/1500, run:1\n",
      "1340/1500, run:1\n",
      "1350/1500, run:1\n",
      "1360/1500, run:1\n",
      "1370/1500, run:1\n",
      "1380/1500, run:1\n",
      "1390/1500, run:1\n",
      "1400/1500, run:1\n",
      "1410/1500, run:1\n",
      "1420/1500, run:1\n",
      "1430/1500, run:1\n",
      "1440/1500, run:1\n",
      "1450/1500, run:1\n",
      "1460/1500, run:1\n",
      "1470/1500, run:1\n",
      "1480/1500, run:1\n",
      "1490/1500, run:1\n",
      "3000/1500, run:f\n",
      "3010/1500, run:f\n",
      "3020/1500, run:f\n",
      "3030/1500, run:f\n",
      "3040/1500, run:f\n",
      "3050/1500, run:f\n",
      "3060/1500, run:f\n",
      "3070/1500, run:f\n",
      "3080/1500, run:f\n",
      "3090/1500, run:f\n",
      "3100/1500, run:f\n",
      "3110/1500, run:f\n",
      "3120/1500, run:f\n",
      "3130/1500, run:f\n",
      "3140/1500, run:f\n",
      "3150/1500, run:f\n",
      "3160/1500, run:f\n",
      "3170/1500, run:f\n",
      "3180/1500, run:f\n",
      "3190/1500, run:f\n",
      "3200/1500, run:f\n",
      "3210/1500, run:f\n",
      "3220/1500, run:f\n",
      "3230/1500, run:f\n",
      "3240/1500, run:f\n",
      "3250/1500, run:f\n",
      "3260/1500, run:f\n",
      "3270/1500, run:f\n",
      "3280/1500, run:f\n",
      "3290/1500, run:f\n",
      "3300/1500, run:f\n",
      "3310/1500, run:f\n",
      "3320/1500, run:f\n",
      "3330/1500, run:f\n",
      "3340/1500, run:f\n",
      "3350/1500, run:f\n",
      "3360/1500, run:f\n",
      "3370/1500, run:f\n",
      "3380/1500, run:f\n",
      "3390/1500, run:f\n",
      "3400/1500, run:f\n",
      "3410/1500, run:f\n",
      "3420/1500, run:f\n",
      "3430/1500, run:f\n",
      "3440/1500, run:f\n",
      "3450/1500, run:f\n",
      "3460/1500, run:f\n",
      "3470/1500, run:f\n",
      "3480/1500, run:f\n",
      "3490/1500, run:f\n",
      "3500/1500, run:f\n",
      "3510/1500, run:f\n",
      "3520/1500, run:f\n",
      "3530/1500, run:f\n",
      "3540/1500, run:f\n",
      "3550/1500, run:f\n",
      "3560/1500, run:f\n",
      "3570/1500, run:f\n",
      "3580/1500, run:f\n",
      "3590/1500, run:f\n",
      "3600/1500, run:f\n",
      "3610/1500, run:f\n",
      "3620/1500, run:f\n",
      "3630/1500, run:f\n",
      "3640/1500, run:f\n",
      "3650/1500, run:f\n",
      "3660/1500, run:f\n",
      "3670/1500, run:f\n",
      "3680/1500, run:f\n",
      "3690/1500, run:f\n",
      "3700/1500, run:f\n",
      "3710/1500, run:f\n",
      "3720/1500, run:f\n",
      "3730/1500, run:f\n",
      "3740/1500, run:f\n",
      "3750/1500, run:f\n",
      "3760/1500, run:f\n",
      "3770/1500, run:f\n",
      "3780/1500, run:f\n",
      "3790/1500, run:f\n",
      "3800/1500, run:f\n",
      "3810/1500, run:f\n",
      "3820/1500, run:f\n",
      "3830/1500, run:f\n",
      "3840/1500, run:f\n",
      "3850/1500, run:f\n",
      "3860/1500, run:f\n",
      "3870/1500, run:f\n",
      "3880/1500, run:f\n",
      "3890/1500, run:f\n",
      "3900/1500, run:f\n",
      "3910/1500, run:f\n"
     ]
    }
   ],
   "source": [
    "EmbeddingFetcher = GetBERTEmbeddings(d['full_text'],'model/deberta-v3-large')\n",
    "EmbeddingFetcher.inf(stop=1500,SeqLen = 512 )"
   ]
  },
  {
   "cell_type": "markdown",
   "metadata": {},
   "source": [
    "### Clear cuda cache"
   ]
  },
  {
   "cell_type": "code",
   "execution_count": 23,
   "metadata": {},
   "outputs": [],
   "source": [
    "del EmbeddingFetcher.model\n",
    "torch.cuda.empty_cache()"
   ]
  },
  {
   "cell_type": "markdown",
   "metadata": {},
   "source": [
    "## Extract Embeddings"
   ]
  },
  {
   "cell_type": "code",
   "execution_count": 55,
   "metadata": {},
   "outputs": [],
   "source": [
    "x = EmbeddingFetcher.GetEmbeddings('MeanP')"
   ]
  },
  {
   "cell_type": "markdown",
   "metadata": {},
   "source": [
    "## Split Train and Test data"
   ]
  },
  {
   "cell_type": "code",
   "execution_count": 59,
   "metadata": {},
   "outputs": [],
   "source": [
    "ind = [i for i in range(3911)]\n",
    "ind = shuffle(ind)\n",
    "trainIn,testIn = ind[:3100],ind[3100:]"
   ]
  },
  {
   "cell_type": "code",
   "execution_count": 69,
   "metadata": {},
   "outputs": [],
   "source": [
    "x = [np.array(i).reshape(1024) for i in x]\n",
    "columns = ['cohesion', 'syntax', 'vocabulary','phraseology', 'grammar', 'conventions']\n",
    "TrainX,TestX = [x[i] for i in trainIn],[x[i] for i in testIn]"
   ]
  },
  {
   "cell_type": "code",
   "execution_count": 61,
   "metadata": {},
   "outputs": [],
   "source": [
    "TrainY,TestY = [],[]\n",
    "for i in columns:\n",
    "    TrainY.append(d[i].iloc[trainIn])\n",
    "    TestY.append(d[i].iloc[testIn])"
   ]
  },
  {
   "cell_type": "markdown",
   "metadata": {},
   "source": [
    "## Hyper parameter tuning"
   ]
  },
  {
   "cell_type": "code",
   "execution_count": null,
   "metadata": {},
   "outputs": [],
   "source": [
    "def objective(trial):\n",
    "    params = {\"random_state\":trial.suggest_categorical(\"random_state\", [42]),           \n",
    "        'learning_rate' : trial.suggest_float('learning_rate', 0.01, 1),  \n",
    "        \"max_depth\" : trial.suggest_int(\"max_depth\", 5, 15),\n",
    "        \"alpha\" : trial.suggest_float('alpha',0.9,1),\n",
    "    }\n",
    "    error = []\n",
    "    for i in range(6):\n",
    "        model = xgb.XGBRegressor(**params)\n",
    "        model.fit(TrainX,TrainY[i])\n",
    "        PredY = model.predict(TestX)\n",
    "        e = mean_squared_error(TestY[i],PredY,squared=False)\n",
    "        error.append(e)\n",
    "    mcrmse = sum(error)/6\n",
    "    return mcrmse\n",
    "#study = optuna.create_study()\n",
    "#study.optimize(objective, n_trials=100) "
   ]
  },
  {
   "cell_type": "code",
   "execution_count": null,
   "metadata": {},
   "outputs": [],
   "source": [
    "from optuna.visualization.matplotlib import plot_optimization_history\n",
    "#plot_optimization_history(study)"
   ]
  },
  {
   "cell_type": "markdown",
   "metadata": {},
   "source": [
    "## No tuning"
   ]
  },
  {
   "cell_type": "code",
   "execution_count": 71,
   "metadata": {},
   "outputs": [],
   "source": [
    "def objective():\n",
    "    mlist = []\n",
    "    error = []\n",
    "    aberror = []\n",
    "    for i in range(6):\n",
    "        model = xgb.XGBRegressor(tree_method=\"hist\",learning_rate=0.042)\n",
    "        model.fit(TrainX,TrainY[i])\n",
    "        PredY = model.predict(TestX)\n",
    "        e = mean_squared_error(TestY[i],PredY,squared=False)\n",
    "        ae = mean_absolute_error(TestY[i],PredY)\n",
    "        error.append(e)\n",
    "        aberror.append(ae)\n",
    "        mlist.append(model)\n",
    "    mcrmse = sum(error)/6\n",
    "    mmae = sum(aberror)/6\n",
    "    return [mcrmse,error,mmae,aberror],mlist\n"
   ]
  },
  {
   "cell_type": "code",
   "execution_count": 70,
   "metadata": {},
   "outputs": [
    {
     "data": {
      "text/plain": [
       "[0.4901127988767116,\n",
       " [0.5189144681316188,\n",
       "  0.48164353903948215,\n",
       "  0.45622084121633005,\n",
       "  0.49302976424567607,\n",
       "  0.499472407159096,\n",
       "  0.4913957734680665],\n",
       " 0.38971831153755176,\n",
       " [0.41634049030473286,\n",
       "  0.3854310790354756,\n",
       "  0.3589799191008073,\n",
       "  0.3938603920060521,\n",
       "  0.3974893684010911,\n",
       "  0.38620862037715137]]"
      ]
     },
     "execution_count": 70,
     "metadata": {},
     "output_type": "execute_result"
    }
   ],
   "source": [
    "res = objective()\n",
    "res[0]"
   ]
  },
  {
   "cell_type": "code",
   "execution_count": 58,
   "metadata": {},
   "outputs": [
    {
     "data": {
      "text/plain": [
       "<AxesSubplot: title={'center': 'Feature importance'}, xlabel='F score', ylabel='Features'>"
      ]
     },
     "execution_count": 58,
     "metadata": {},
     "output_type": "execute_result"
    },
    {
     "data": {
      "image/png": "[encoded data removed]",
      "text/plain": [
       "<Figure size 640x480 with 1 Axes>"
      ]
     },
     "metadata": {},
     "output_type": "display_data"
    }
   ],
   "source": [
    "xgb.plot_importance(res[1][2],max_num_features=15)"
   ]
  },
  {
   "cell_type": "markdown",
   "metadata": {},
   "source": [
    "## Features only"
   ]
  },
  {
   "cell_type": "code",
   "execution_count": null,
   "metadata": {},
   "outputs": [
    {
     "data": {
      "text/plain": [
       "False"
      ]
     },
     "execution_count": 46,
     "metadata": {},
     "output_type": "execute_result"
    }
   ],
   "source": [
    "spacy.prefer_gpu = False\n",
    "spacy.prefer_gpu"
   ]
  },
  {
   "cell_type": "markdown",
   "metadata": {},
   "source": [
    "767m48.5s"
   ]
  },
  {
   "cell_type": "code",
   "execution_count": null,
   "metadata": {},
   "outputs": [],
   "source": [
    "x1 = []\n",
    "c= 0\n",
    "for essay in d['full_text']:\n",
    "    ext = FeatureExtraction(essay)\n",
    "    i = ext.GetFine()\n",
    "    c += 1\n",
    "    x1.append(i)\n",
    "    if c % 10 == 0:\n",
    "        print(c)\n",
    "    with open('a.txt','a') as f:\n",
    "        f.write(','.join([str(f) for f in i]))\n",
    "        f.write('\\n')\n",
    "x1[0]"
   ]
  },
  {
   "cell_type": "code",
   "execution_count": 64,
   "metadata": {},
   "outputs": [],
   "source": [
    "x1 = []\n",
    "with open('a.txt') as f:\n",
    "    for l in f.readlines():\n",
    "        feat = [float(i) for i in l.split(',')]\n",
    "        x1.append(feat)"
   ]
  },
  {
   "cell_type": "code",
   "execution_count": 65,
   "metadata": {},
   "outputs": [],
   "source": [
    "TrainX,TestX = [x[i] for i in trainIn],[x[i] for i in testIn]"
   ]
  },
  {
   "cell_type": "code",
   "execution_count": 36,
   "metadata": {},
   "outputs": [
    {
     "data": {
      "text/plain": [
       "([0.6566103741152405,\n",
       "  [0.6742114618951561,\n",
       "   0.6491155070637221,\n",
       "   0.5811288459420132,\n",
       "   0.647390551599236,\n",
       "   0.7198891145851979,\n",
       "   0.6679267636061174],\n",
       "  0.5312721166304978,\n",
       "  [0.5487662422965693,\n",
       "   0.5133060041985,\n",
       "   0.4682672558818587,\n",
       "   0.5291697493904763,\n",
       "   0.5952096094185563,\n",
       "   0.532913838597026]],\n",
       " [XGBRegressor(base_score=0.5, booster='gbtree', callbacks=None,\n",
       "               colsample_bylevel=1, colsample_bynode=1, colsample_bytree=1,\n",
       "               early_stopping_rounds=None, enable_categorical=False,\n",
       "               eval_metric=None, gamma=0, gpu_id=-1, grow_policy='depthwise',\n",
       "               importance_type=None, interaction_constraints='',\n",
       "               learning_rate=0.042, max_bin=256, max_cat_to_onehot=4,\n",
       "               max_delta_step=0, max_depth=6, max_leaves=0, min_child_weight=1,\n",
       "               missing=nan, monotone_constraints='()', n_estimators=100, n_jobs=0,\n",
       "               num_parallel_tree=1, predictor='auto', random_state=0, reg_alpha=0,\n",
       "               reg_lambda=1, ...),\n",
       "  XGBRegressor(base_score=0.5, booster='gbtree', callbacks=None,\n",
       "               colsample_bylevel=1, colsample_bynode=1, colsample_bytree=1,\n",
       "               early_stopping_rounds=None, enable_categorical=False,\n",
       "               eval_metric=None, gamma=0, gpu_id=-1, grow_policy='depthwise',\n",
       "               importance_type=None, interaction_constraints='',\n",
       "               learning_rate=0.042, max_bin=256, max_cat_to_onehot=4,\n",
       "               max_delta_step=0, max_depth=6, max_leaves=0, min_child_weight=1,\n",
       "               missing=nan, monotone_constraints='()', n_estimators=100, n_jobs=0,\n",
       "               num_parallel_tree=1, predictor='auto', random_state=0, reg_alpha=0,\n",
       "               reg_lambda=1, ...),\n",
       "  XGBRegressor(base_score=0.5, booster='gbtree', callbacks=None,\n",
       "               colsample_bylevel=1, colsample_bynode=1, colsample_bytree=1,\n",
       "               early_stopping_rounds=None, enable_categorical=False,\n",
       "               eval_metric=None, gamma=0, gpu_id=-1, grow_policy='depthwise',\n",
       "               importance_type=None, interaction_constraints='',\n",
       "               learning_rate=0.042, max_bin=256, max_cat_to_onehot=4,\n",
       "               max_delta_step=0, max_depth=6, max_leaves=0, min_child_weight=1,\n",
       "               missing=nan, monotone_constraints='()', n_estimators=100, n_jobs=0,\n",
       "               num_parallel_tree=1, predictor='auto', random_state=0, reg_alpha=0,\n",
       "               reg_lambda=1, ...),\n",
       "  XGBRegressor(base_score=0.5, booster='gbtree', callbacks=None,\n",
       "               colsample_bylevel=1, colsample_bynode=1, colsample_bytree=1,\n",
       "               early_stopping_rounds=None, enable_categorical=False,\n",
       "               eval_metric=None, gamma=0, gpu_id=-1, grow_policy='depthwise',\n",
       "               importance_type=None, interaction_constraints='',\n",
       "               learning_rate=0.042, max_bin=256, max_cat_to_onehot=4,\n",
       "               max_delta_step=0, max_depth=6, max_leaves=0, min_child_weight=1,\n",
       "               missing=nan, monotone_constraints='()', n_estimators=100, n_jobs=0,\n",
       "               num_parallel_tree=1, predictor='auto', random_state=0, reg_alpha=0,\n",
       "               reg_lambda=1, ...),\n",
       "  XGBRegressor(base_score=0.5, booster='gbtree', callbacks=None,\n",
       "               colsample_bylevel=1, colsample_bynode=1, colsample_bytree=1,\n",
       "               early_stopping_rounds=None, enable_categorical=False,\n",
       "               eval_metric=None, gamma=0, gpu_id=-1, grow_policy='depthwise',\n",
       "               importance_type=None, interaction_constraints='',\n",
       "               learning_rate=0.042, max_bin=256, max_cat_to_onehot=4,\n",
       "               max_delta_step=0, max_depth=6, max_leaves=0, min_child_weight=1,\n",
       "               missing=nan, monotone_constraints='()', n_estimators=100, n_jobs=0,\n",
       "               num_parallel_tree=1, predictor='auto', random_state=0, reg_alpha=0,\n",
       "               reg_lambda=1, ...),\n",
       "  XGBRegressor(base_score=0.5, booster='gbtree', callbacks=None,\n",
       "               colsample_bylevel=1, colsample_bynode=1, colsample_bytree=1,\n",
       "               early_stopping_rounds=None, enable_categorical=False,\n",
       "               eval_metric=None, gamma=0, gpu_id=-1, grow_policy='depthwise',\n",
       "               importance_type=None, interaction_constraints='',\n",
       "               learning_rate=0.042, max_bin=256, max_cat_to_onehot=4,\n",
       "               max_delta_step=0, max_depth=6, max_leaves=0, min_child_weight=1,\n",
       "               missing=nan, monotone_constraints='()', n_estimators=100, n_jobs=0,\n",
       "               num_parallel_tree=1, predictor='auto', random_state=0, reg_alpha=0,\n",
       "               reg_lambda=1, ...)])"
      ]
     },
     "execution_count": 36,
     "metadata": {},
     "output_type": "execute_result"
    }
   ],
   "source": [
    "res = objective()\n",
    "res[0]"
   ]
  },
  {
   "cell_type": "markdown",
   "metadata": {},
   "source": [
    "## Features+embeddings"
   ]
  },
  {
   "cell_type": "code",
   "execution_count": 66,
   "metadata": {},
   "outputs": [],
   "source": [
    "x2 = []\n",
    "for i in range(3911):\n",
    "    a = np.concatenate((x[i],x1[i]))\n",
    "    x2.append(a)\n",
    "TrainX,TestX = [x[i] for i in trainIn],[x[i] for i in testIn]"
   ]
  },
  {
   "cell_type": "code",
   "execution_count": 67,
   "metadata": {},
   "outputs": [
    {
     "data": {
      "text/plain": [
       "[0.46874437043095823,\n",
       " [0.4997165420457511,\n",
       "  0.4629332935223624,\n",
       "  0.43024884420963827,\n",
       "  0.4726074528138384,\n",
       "  0.4834400040067978,\n",
       "  0.46352008598736155],\n",
       " 0.3731959862714925,\n",
       " [0.40033280614272,\n",
       "  0.37067794505823703,\n",
       "  0.33788423017861663,\n",
       "  0.37759669141616536,\n",
       "  0.38716116316074506,\n",
       "  0.3655230816724709]]"
      ]
     },
     "execution_count": 67,
     "metadata": {},
     "output_type": "execute_result"
    }
   ],
   "source": [
    "res = objective()\n",
    "res[0]"
   ]
  },
  {
   "cell_type": "markdown",
   "metadata": {},
   "source": [
    "## L2"
   ]
  },
  {
   "cell_type": "code",
   "execution_count": 52,
   "metadata": {},
   "outputs": [],
   "source": [
    "with open('b1.txt') as f:\n",
    "    l2 = f.readlines()\n",
    "xl = dict()\n",
    "for l in l2:\n",
    "    i = int(l.split(',')[0].split('.')[0])\n",
    "    feat = l.rstrip('\\n').split(',')[-14:]\n",
    "    feat = [float(s) for s in feat]\n",
    "    xl[i] = feat\n",
    "x4 = []\n",
    "for i in range(3911):\n",
    "    x4.append(xl[i])"
   ]
  },
  {
   "cell_type": "code",
   "execution_count": 53,
   "metadata": {},
   "outputs": [],
   "source": [
    "TrainX,TestX = x4[:3100],x4[3100:]"
   ]
  },
  {
   "cell_type": "code",
   "execution_count": 54,
   "metadata": {},
   "outputs": [
    {
     "data": {
      "text/plain": [
       "[0.6163962719820254,\n",
       " [0.6397027154083018,\n",
       "  0.5849239355886143,\n",
       "  0.5589177689471,\n",
       "  0.6086826307275333,\n",
       "  0.6881419588661435,\n",
       "  0.6180086223544601],\n",
       " 0.4983672518520457,\n",
       " [0.5201878422726538,\n",
       "  0.4727889631591214,\n",
       "  0.4343680009594975,\n",
       "  0.4977107791806561,\n",
       "  0.568865179721583,\n",
       "  0.4962827458187625]]"
      ]
     },
     "execution_count": 54,
     "metadata": {},
     "output_type": "execute_result"
    }
   ],
   "source": [
    "res = objective()\n",
    "res[0]"
   ]
  },
  {
   "cell_type": "code",
   "execution_count": 44,
   "metadata": {},
   "outputs": [],
   "source": [
    "x5 = []\n",
    "for i in range(3911):\n",
    "    a = np.concatenate((x[i],x4[i]))\n",
    "    x5.append(a)\n",
    "TrainX,TestX = x5[:3100],x5[3100:]"
   ]
  },
  {
   "cell_type": "code",
   "execution_count": 45,
   "metadata": {},
   "outputs": [
    {
     "data": {
      "text/plain": [
       "[0.4650907062248734,\n",
       " [0.503362417887616,\n",
       "  0.46286441909149273,\n",
       "  0.4155043524781967,\n",
       "  0.45535011406881476,\n",
       "  0.4931740878523469,\n",
       "  0.4602888459707733],\n",
       " 0.37196535445317974,\n",
       " [0.4068213003043329,\n",
       "  0.3691242558447559,\n",
       "  0.3260172035191415,\n",
       "  0.3720397206916762,\n",
       "  0.391796720748177,\n",
       "  0.365992925610995]]"
      ]
     },
     "execution_count": 45,
     "metadata": {},
     "output_type": "execute_result"
    }
   ],
   "source": [
    "res = objective()\n",
    "res[0]"
   ]
  }
 ],
 "metadata": {
  "kernelspec": {
   "display_name": "Python 3.10.8 64-bit",
   "language": "python",
   "name": "python3"
  },
  "language_info": {
   "codemirror_mode": {
    "name": "ipython",
    "version": 3
   },
   "file_extension": ".py",
   "mimetype": "text/x-python",
   "name": "python",
   "nbconvert_exporter": "python",
   "pygments_lexer": "ipython3",
   "version": "3.10.8"
  },
  "orig_nbformat": 4,
  "vscode": {
   "interpreter": {
    "hash": "593988f55108e9a22df825be697685e2e60f0c546ce2b7da78c95a16021f878c"
   }
  }
 },
 "nbformat": 4,
 "nbformat_minor": 2
}
