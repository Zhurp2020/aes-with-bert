{
 "cells": [
  {
   "attachments": {},
   "cell_type": "markdown",
   "metadata": {},
   "source": [
    "# This file computes syntactic complexity measures and bert embeddings for all essays in the ASAP #2 dataset, and builds a classification model to score the essays.\n",
    "## Import library"
   ]
  },
  {
   "cell_type": "code",
   "execution_count": 1,
   "metadata": {},
   "outputs": [
    {
     "name": "stderr",
     "output_type": "stream",
     "text": [
      "c:\\Users\\GIGA\\AppData\\Local\\Programs\\Python\\Python310\\lib\\site-packages\\outdated\\utils.py:14: OutdatedPackageWarning: The package outdated is out of date. Your version is 0.2.1, the latest is 0.2.2.\n",
      "Set the environment variable OUTDATED_IGNORE=1 to disable these warnings.\n",
      "  return warn(\n"
     ]
    }
   ],
   "source": [
    "%run functions"
   ]
  },
  {
   "attachments": {},
   "cell_type": "markdown",
   "metadata": {},
   "source": [
    "## Load data"
   ]
  },
  {
   "cell_type": "code",
   "execution_count": 2,
   "metadata": {},
   "outputs": [
    {
     "data": {
      "text/html": [
       "<div>\n",
       "<style scoped>\n",
       "    .dataframe tbody tr th:only-of-type {\n",
       "        vertical-align: middle;\n",
       "    }\n",
       "\n",
       "    .dataframe tbody tr th {\n",
       "        vertical-align: top;\n",
       "    }\n",
       "\n",
       "    .dataframe thead th {\n",
       "        text-align: right;\n",
       "    }\n",
       "</style>\n",
       "<table border=\"1\" class=\"dataframe\">\n",
       "  <thead>\n",
       "    <tr style=\"text-align: right;\">\n",
       "      <th></th>\n",
       "      <th>essay_id</th>\n",
       "      <th>essay_set</th>\n",
       "      <th>essay</th>\n",
       "      <th>rater1_domain1</th>\n",
       "      <th>rater2_domain1</th>\n",
       "      <th>rater3_domain1</th>\n",
       "      <th>domain1_score</th>\n",
       "      <th>rater1_domain2</th>\n",
       "      <th>rater2_domain2</th>\n",
       "      <th>domain2_score</th>\n",
       "      <th>...</th>\n",
       "      <th>rater2_trait3</th>\n",
       "      <th>rater2_trait4</th>\n",
       "      <th>rater2_trait5</th>\n",
       "      <th>rater2_trait6</th>\n",
       "      <th>rater3_trait1</th>\n",
       "      <th>rater3_trait2</th>\n",
       "      <th>rater3_trait3</th>\n",
       "      <th>rater3_trait4</th>\n",
       "      <th>rater3_trait5</th>\n",
       "      <th>rater3_trait6</th>\n",
       "    </tr>\n",
       "  </thead>\n",
       "  <tbody>\n",
       "    <tr>\n",
       "      <th>1783</th>\n",
       "      <td>2978</td>\n",
       "      <td>2</td>\n",
       "      <td>Certain materials being removed from libraries...</td>\n",
       "      <td>4.0</td>\n",
       "      <td>4.0</td>\n",
       "      <td>NaN</td>\n",
       "      <td>4.0</td>\n",
       "      <td>4.0</td>\n",
       "      <td>4.0</td>\n",
       "      <td>4.0</td>\n",
       "      <td>...</td>\n",
       "      <td>NaN</td>\n",
       "      <td>NaN</td>\n",
       "      <td>NaN</td>\n",
       "      <td>NaN</td>\n",
       "      <td>NaN</td>\n",
       "      <td>NaN</td>\n",
       "      <td>NaN</td>\n",
       "      <td>NaN</td>\n",
       "      <td>NaN</td>\n",
       "      <td>NaN</td>\n",
       "    </tr>\n",
       "    <tr>\n",
       "      <th>1784</th>\n",
       "      <td>2979</td>\n",
       "      <td>2</td>\n",
       "      <td>Write a persuasive essay to a newspaper reflec...</td>\n",
       "      <td>1.0</td>\n",
       "      <td>2.0</td>\n",
       "      <td>NaN</td>\n",
       "      <td>1.0</td>\n",
       "      <td>1.0</td>\n",
       "      <td>2.0</td>\n",
       "      <td>1.0</td>\n",
       "      <td>...</td>\n",
       "      <td>NaN</td>\n",
       "      <td>NaN</td>\n",
       "      <td>NaN</td>\n",
       "      <td>NaN</td>\n",
       "      <td>NaN</td>\n",
       "      <td>NaN</td>\n",
       "      <td>NaN</td>\n",
       "      <td>NaN</td>\n",
       "      <td>NaN</td>\n",
       "      <td>NaN</td>\n",
       "    </tr>\n",
       "    <tr>\n",
       "      <th>1785</th>\n",
       "      <td>2980</td>\n",
       "      <td>2</td>\n",
       "      <td>Do you think that libraries should remove cert...</td>\n",
       "      <td>2.0</td>\n",
       "      <td>3.0</td>\n",
       "      <td>NaN</td>\n",
       "      <td>2.0</td>\n",
       "      <td>3.0</td>\n",
       "      <td>3.0</td>\n",
       "      <td>3.0</td>\n",
       "      <td>...</td>\n",
       "      <td>NaN</td>\n",
       "      <td>NaN</td>\n",
       "      <td>NaN</td>\n",
       "      <td>NaN</td>\n",
       "      <td>NaN</td>\n",
       "      <td>NaN</td>\n",
       "      <td>NaN</td>\n",
       "      <td>NaN</td>\n",
       "      <td>NaN</td>\n",
       "      <td>NaN</td>\n",
       "    </tr>\n",
       "    <tr>\n",
       "      <th>1786</th>\n",
       "      <td>2981</td>\n",
       "      <td>2</td>\n",
       "      <td>In @DATE1's world, there are many things found...</td>\n",
       "      <td>4.0</td>\n",
       "      <td>4.0</td>\n",
       "      <td>NaN</td>\n",
       "      <td>4.0</td>\n",
       "      <td>4.0</td>\n",
       "      <td>4.0</td>\n",
       "      <td>4.0</td>\n",
       "      <td>...</td>\n",
       "      <td>NaN</td>\n",
       "      <td>NaN</td>\n",
       "      <td>NaN</td>\n",
       "      <td>NaN</td>\n",
       "      <td>NaN</td>\n",
       "      <td>NaN</td>\n",
       "      <td>NaN</td>\n",
       "      <td>NaN</td>\n",
       "      <td>NaN</td>\n",
       "      <td>NaN</td>\n",
       "    </tr>\n",
       "    <tr>\n",
       "      <th>1787</th>\n",
       "      <td>2982</td>\n",
       "      <td>2</td>\n",
       "      <td>In life you have the 'offensive things'. The l...</td>\n",
       "      <td>4.0</td>\n",
       "      <td>4.0</td>\n",
       "      <td>NaN</td>\n",
       "      <td>4.0</td>\n",
       "      <td>4.0</td>\n",
       "      <td>4.0</td>\n",
       "      <td>4.0</td>\n",
       "      <td>...</td>\n",
       "      <td>NaN</td>\n",
       "      <td>NaN</td>\n",
       "      <td>NaN</td>\n",
       "      <td>NaN</td>\n",
       "      <td>NaN</td>\n",
       "      <td>NaN</td>\n",
       "      <td>NaN</td>\n",
       "      <td>NaN</td>\n",
       "      <td>NaN</td>\n",
       "      <td>NaN</td>\n",
       "    </tr>\n",
       "  </tbody>\n",
       "</table>\n",
       "<p>5 rows × 28 columns</p>\n",
       "</div>"
      ],
      "text/plain": [
       "      essay_id  essay_set                                              essay  \\\n",
       "1783      2978          2  Certain materials being removed from libraries...   \n",
       "1784      2979          2  Write a persuasive essay to a newspaper reflec...   \n",
       "1785      2980          2  Do you think that libraries should remove cert...   \n",
       "1786      2981          2  In @DATE1's world, there are many things found...   \n",
       "1787      2982          2  In life you have the 'offensive things'. The l...   \n",
       "\n",
       "      rater1_domain1  rater2_domain1  rater3_domain1  domain1_score  \\\n",
       "1783             4.0             4.0             NaN            4.0   \n",
       "1784             1.0             2.0             NaN            1.0   \n",
       "1785             2.0             3.0             NaN            2.0   \n",
       "1786             4.0             4.0             NaN            4.0   \n",
       "1787             4.0             4.0             NaN            4.0   \n",
       "\n",
       "      rater1_domain2  rater2_domain2  domain2_score  ...  rater2_trait3  \\\n",
       "1783             4.0             4.0            4.0  ...            NaN   \n",
       "1784             1.0             2.0            1.0  ...            NaN   \n",
       "1785             3.0             3.0            3.0  ...            NaN   \n",
       "1786             4.0             4.0            4.0  ...            NaN   \n",
       "1787             4.0             4.0            4.0  ...            NaN   \n",
       "\n",
       "      rater2_trait4  rater2_trait5  rater2_trait6  rater3_trait1  \\\n",
       "1783            NaN            NaN            NaN            NaN   \n",
       "1784            NaN            NaN            NaN            NaN   \n",
       "1785            NaN            NaN            NaN            NaN   \n",
       "1786            NaN            NaN            NaN            NaN   \n",
       "1787            NaN            NaN            NaN            NaN   \n",
       "\n",
       "      rater3_trait2  rater3_trait3  rater3_trait4  rater3_trait5  \\\n",
       "1783            NaN            NaN            NaN            NaN   \n",
       "1784            NaN            NaN            NaN            NaN   \n",
       "1785            NaN            NaN            NaN            NaN   \n",
       "1786            NaN            NaN            NaN            NaN   \n",
       "1787            NaN            NaN            NaN            NaN   \n",
       "\n",
       "      rater3_trait6  \n",
       "1783            NaN  \n",
       "1784            NaN  \n",
       "1785            NaN  \n",
       "1786            NaN  \n",
       "1787            NaN  \n",
       "\n",
       "[5 rows x 28 columns]"
      ]
     },
     "execution_count": 2,
     "metadata": {},
     "output_type": "execute_result"
    }
   ],
   "source": [
    "loader = DataLoader()\n",
    "d = loader.GetData('ASAP')\n",
    "d = d.loc[d['essay_set'] ==2] # essay set starts from 0\n",
    "d.head()"
   ]
  },
  {
   "attachments": {},
   "cell_type": "markdown",
   "metadata": {},
   "source": [
    "## Extract embeddings\n",
    "+ takes 19m27.4s on my computer in total\n",
    "+ For performance reasons (out of memory), the dataset had to be processed in batches"
   ]
  },
  {
   "cell_type": "code",
   "execution_count": null,
   "metadata": {},
   "outputs": [],
   "source": [
    "xc = []\n",
    "xp = []\n",
    "for i in range(0,2000,1000):\n",
    "    if i == 2000:\n",
    "        end = len(d)\n",
    "    else:\n",
    "        end = i+1000\n",
    "    EmbeddingFetcher = GetBERTEmbeddings(d['essay'][i:end],'model/deberta-v3-large')\n",
    "    EmbeddingFetcher.inf(stop=1000,SeqLen = 512)\n",
    "    xp.append(EmbeddingFetcher.GetEmbeddings('MeanP'))\n",
    "    xc.append(EmbeddingFetcher.GetEmbeddings('CLS')) \n",
    "    del EmbeddingFetcher\n",
    "    torch.cuda.empty_cache()"
   ]
  },
  {
   "attachments": {},
   "cell_type": "markdown",
   "metadata": {},
   "source": [
    "### Save feature to disk"
   ]
  },
  {
   "cell_type": "code",
   "execution_count": 48,
   "metadata": {},
   "outputs": [],
   "source": [
    "torch.save(xc,'features/asap-cls.pt')\n",
    "torch.save(xp,'features/asap-meanp.pt')"
   ]
  },
  {
   "attachments": {},
   "cell_type": "markdown",
   "metadata": {},
   "source": [
    "## Fine-grained complexity features"
   ]
  },
  {
   "cell_type": "code",
   "execution_count": null,
   "metadata": {},
   "outputs": [],
   "source": [
    "for i in d.index:\n",
    "    t = d['essay'][i]\n",
    "    if len(t) > 2:\n",
    "        extractor = FeatureExtraction(t)\n",
    "        extractor.process()\n",
    "        features = extractor.get_data()\n",
    "        with open('features/asap-fine.csv','a',encoding='utf-8') as f:\n",
    "            f.write('{}, '.format(i))\n",
    "            f.write(','.join([str(i) for i in features]))\n",
    "            f.write('\\n')\n",
    "    else:\n",
    "        with open('features/asap-fine.csv','a',encoding='utf-8') as f:\n",
    "            f.write('{},'.format(i))\n",
    "            f.write('\\n')\n",
    "    print(i)"
   ]
  },
  {
   "attachments": {},
   "cell_type": "markdown",
   "metadata": {},
   "source": [
    "## Classification model\n",
    "### Prepare train and test data"
   ]
  },
  {
   "cell_type": "code",
   "execution_count": 49,
   "metadata": {},
   "outputs": [],
   "source": [
    "from sklearn.preprocessing import LabelEncoder\n",
    "xec= [np.array(i).reshape(1024) for i in xc] # cls embeddings\n",
    "xep= [np.array(i).reshape(1024) for i in xp] # mean pooling embeddings\n",
    "le = LabelEncoder()\n",
    "le.fit(d['domain1_score'])\n",
    "y = le.transform(d['domain1_score']) \n",
    "TrainY,TestY = y[:1400],y[1400:]"
   ]
  },
  {
   "attachments": {},
   "cell_type": "markdown",
   "metadata": {},
   "source": [
    "### Classification with CLS token"
   ]
  },
  {
   "cell_type": "code",
   "execution_count": 22,
   "metadata": {},
   "outputs": [],
   "source": [
    "TrainX,TestX = np.array(xec[:1400]),np.array(xec[1400:])"
   ]
  },
  {
   "cell_type": "code",
   "execution_count": 28,
   "metadata": {},
   "outputs": [
    {
     "name": "stdout",
     "output_type": "stream",
     "text": [
      "0.67\n",
      "0.6561814191660571\n"
     ]
    }
   ],
   "source": [
    "model = xgb.XGBClassifier(tree_method=\"hist\",objective='multi:softmax',num_class=6,learning_rate=0.03)\n",
    "model.fit(TrainX,TrainY)\n",
    "PredY = model.predict(TestX)\n",
    "print(accuracy_score(TestY,PredY))\n",
    "print(cohen_kappa_score(TestY,PredY,weights='quadratic'))"
   ]
  },
  {
   "cell_type": "code",
   "execution_count": 29,
   "metadata": {},
   "outputs": [
    {
     "data": {
      "text/plain": [
       "Text(50.722222222222214, 0.5, 'True Label')"
      ]
     },
     "execution_count": 29,
     "metadata": {},
     "output_type": "execute_result"
    },
    {
     "data": {
      "image/png": "[encoded data removed]",
      "text/plain": [
       "<Figure size 640x480 with 2 Axes>"
      ]
     },
     "metadata": {},
     "output_type": "display_data"
    }
   ],
   "source": [
    "c = sns.light_palette((260, 75, 50),input = 'husl', as_cmap=True)\n",
    "cm = confusion_matrix(TestY,PredY)\n",
    "g = sns.heatmap(cm,annot=True,fmt='d',cmap=c)\n",
    "g.set_xlabel('Predicted Label')\n",
    "g.set_ylabel('True Label')"
   ]
  },
  {
   "attachments": {},
   "cell_type": "markdown",
   "metadata": {},
   "source": [
    "### Classification with mean pooling"
   ]
  },
  {
   "cell_type": "code",
   "execution_count": 50,
   "metadata": {},
   "outputs": [],
   "source": [
    "TrainX,TestX = np.array(xep[:1400]),np.array(xep[1400:])"
   ]
  },
  {
   "cell_type": "code",
   "execution_count": 53,
   "metadata": {},
   "outputs": [
    {
     "name": "stdout",
     "output_type": "stream",
     "text": [
      "0.6625\n",
      "0.6298241008138619\n"
     ]
    }
   ],
   "source": [
    "model = xgb.XGBClassifier(tree_method=\"hist\",objective='multi:softmax',num_class=6,learning_rate=0.03)\n",
    "model.fit(TrainX,TrainY)\n",
    "PredY = model.predict(TestX)\n",
    "print(accuracy_score(TestY,PredY))\n",
    "print(cohen_kappa_score(TestY,PredY,weights='quadratic'))"
   ]
  },
  {
   "cell_type": "code",
   "execution_count": 54,
   "metadata": {},
   "outputs": [
    {
     "data": {
      "text/plain": [
       "Text(50.722222222222214, 0.5, 'True Label')"
      ]
     },
     "execution_count": 54,
     "metadata": {},
     "output_type": "execute_result"
    },
    {
     "data": {
      "image/png": "[encoded data removed]",
      "text/plain": [
       "<Figure size 640x480 with 2 Axes>"
      ]
     },
     "metadata": {},
     "output_type": "display_data"
    }
   ],
   "source": [
    "c = sns.light_palette((260, 75, 50),input = 'husl', as_cmap=True)\n",
    "cm = confusion_matrix(TestY,PredY)\n",
    "g = sns.heatmap(cm,annot=True,fmt='d',cmap=c)\n",
    "g.set_xlabel('Predicted Label')\n",
    "g.set_ylabel('True Label')"
   ]
  },
  {
   "attachments": {},
   "cell_type": "markdown",
   "metadata": {},
   "source": [
    "### Classification with fine-grained complexity measures"
   ]
  },
  {
   "cell_type": "code",
   "execution_count": 57,
   "metadata": {},
   "outputs": [],
   "source": [
    "xf = []\n",
    "with open('features/asap-fine.csv') as f:\n",
    "    for l in f.readlines():\n",
    "        feat = [float(i) for i in l.split(',')[1:]]\n",
    "        xf.append(feat)"
   ]
  },
  {
   "cell_type": "code",
   "execution_count": 60,
   "metadata": {},
   "outputs": [],
   "source": [
    "TrainX,TestX = np.array(xf[:1400]),np.array(xf[1400:])"
   ]
  },
  {
   "cell_type": "code",
   "execution_count": 61,
   "metadata": {},
   "outputs": [
    {
     "name": "stdout",
     "output_type": "stream",
     "text": [
      "0.685\n",
      "0.6880650994575046\n"
     ]
    }
   ],
   "source": [
    "model = xgb.XGBClassifier(tree_method=\"hist\",objective='multi:softmax',num_class=6,learning_rate=0.03)\n",
    "model.fit(TrainX,TrainY)\n",
    "PredY = model.predict(TestX)\n",
    "print(accuracy_score(TestY,PredY))\n",
    "print(cohen_kappa_score(TestY,PredY,weights='quadratic'))"
   ]
  },
  {
   "cell_type": "code",
   "execution_count": 62,
   "metadata": {},
   "outputs": [
    {
     "data": {
      "text/plain": [
       "Text(50.722222222222214, 0.5, 'True Label')"
      ]
     },
     "execution_count": 62,
     "metadata": {},
     "output_type": "execute_result"
    },
    {
     "data": {
      "image/png": "[encoded data removed]",
      "text/plain": [
       "<Figure size 640x480 with 2 Axes>"
      ]
     },
     "metadata": {},
     "output_type": "display_data"
    }
   ],
   "source": [
    "c = sns.light_palette((260, 75, 50),input = 'husl', as_cmap=True)\n",
    "cm = confusion_matrix(TestY,PredY)\n",
    "g = sns.heatmap(cm,annot=True,fmt='d',cmap=c)\n",
    "g.set_xlabel('Predicted Label')\n",
    "g.set_ylabel('True Label')"
   ]
  },
  {
   "attachments": {},
   "cell_type": "markdown",
   "metadata": {},
   "source": [
    "### Classification with cls + fine-grained measures"
   ]
  },
  {
   "cell_type": "code",
   "execution_count": 64,
   "metadata": {},
   "outputs": [],
   "source": [
    "xcf = []\n",
    "for i in range(1800):\n",
    "    a = np.concatenate((xec[i],xf[i]))\n",
    "    xcf.append(a)\n",
    "TrainX,TestX = xcf[:1400],xcf[1400:]"
   ]
  },
  {
   "cell_type": "code",
   "execution_count": 65,
   "metadata": {},
   "outputs": [
    {
     "name": "stdout",
     "output_type": "stream",
     "text": [
      "0.6825\n",
      "0.6821983273596177\n"
     ]
    }
   ],
   "source": [
    "model = xgb.XGBClassifier(tree_method=\"hist\",objective='multi:softmax',num_class=6,learning_rate=0.03)\n",
    "model.fit(TrainX,TrainY)\n",
    "PredY = model.predict(TestX)\n",
    "print(accuracy_score(TestY,PredY))\n",
    "print(cohen_kappa_score(TestY,PredY,weights='quadratic'))"
   ]
  },
  {
   "cell_type": "code",
   "execution_count": 66,
   "metadata": {},
   "outputs": [
    {
     "data": {
      "text/plain": [
       "Text(50.722222222222214, 0.5, 'True Label')"
      ]
     },
     "execution_count": 66,
     "metadata": {},
     "output_type": "execute_result"
    },
    {
     "data": {
      "image/png": "[encoded data removed]",
      "text/plain": [
       "<Figure size 640x480 with 2 Axes>"
      ]
     },
     "metadata": {},
     "output_type": "display_data"
    }
   ],
   "source": [
    "c = sns.light_palette((260, 75, 50),input = 'husl', as_cmap=True)\n",
    "cm = confusion_matrix(TestY,PredY)\n",
    "g = sns.heatmap(cm,annot=True,fmt='d',cmap=c)\n",
    "g.set_xlabel('Predicted Label')\n",
    "g.set_ylabel('True Label')"
   ]
  }
 ],
 "metadata": {
  "kernelspec": {
   "display_name": "Python 3.10.8 64-bit",
   "language": "python",
   "name": "python3"
  },
  "language_info": {
   "codemirror_mode": {
    "name": "ipython",
    "version": 3
   },
   "file_extension": ".py",
   "mimetype": "text/x-python",
   "name": "python",
   "nbconvert_exporter": "python",
   "pygments_lexer": "ipython3",
   "version": "3.10.8"
  },
  "orig_nbformat": 4,
  "vscode": {
   "interpreter": {
    "hash": "593988f55108e9a22df825be697685e2e60f0c546ce2b7da78c95a16021f878c"
   }
  }
 },
 "nbformat": 4,
 "nbformat_minor": 2
}
