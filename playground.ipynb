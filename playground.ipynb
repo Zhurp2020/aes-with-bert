{
 "cells": [
  {
   "cell_type": "code",
   "execution_count": 1,
   "metadata": {},
   "outputs": [
    {
     "name": "stderr",
     "output_type": "stream",
     "text": [
      "c:\\Users\\GIGA\\AppData\\Local\\Programs\\Python\\Python310\\lib\\site-packages\\outdated\\utils.py:14: OutdatedPackageWarning: The package outdated is out of date. Your version is 0.2.1, the latest is 0.2.2.\n",
      "Set the environment variable OUTDATED_IGNORE=1 to disable these warnings.\n",
      "  return warn(\n"
     ]
    }
   ],
   "source": [
    "%run functions"
   ]
  },
  {
   "cell_type": "code",
   "execution_count": 6,
   "metadata": {},
   "outputs": [],
   "source": [
    "loader = DataLoader()\n",
    "d = loader.GetData('final')"
   ]
  },
  {
   "cell_type": "code",
   "execution_count": 7,
   "metadata": {},
   "outputs": [],
   "source": [
    "clean_text = []\n",
    "preproc = preprocessing.make_pipeline(preprocessing.normalize.whitespace)\n",
    "for essay in d['text']:\n",
    "    for punct in [':',',','.','?',';',\"'\",'!']:\n",
    "        essay = essay.replace(punct,punct+' ')\n",
    "    cleaned = preproc(essay.replace('\\n',''))\n",
    "    clean_text.append(cleaned)\n",
    "d['text'] = clean_text"
   ]
  },
  {
   "cell_type": "code",
   "execution_count": 4,
   "metadata": {},
   "outputs": [],
   "source": [
    "d = d.loc[d['score'] > 0,:]"
   ]
  },
  {
   "cell_type": "code",
   "execution_count": null,
   "metadata": {},
   "outputs": [],
   "source": [
    "topics = {\n",
    "    '19121413':'dormitory',\n",
    "    '19121416':'reading',\n",
    "    '19121417':'English',\n",
    "    '19121435':'friends',\n",
    "    '19121436':'langauge',\n",
    "    '19121437':'parents',\n",
    "    '19121438':'fit',\n",
    "    '19121439':'homesickness',\n",
    "    '19121440':'books',\n",
    "    '1000561535':'internet'\n",
    "}"
   ]
  },
  {
   "cell_type": "code",
   "execution_count": 28,
   "metadata": {},
   "outputs": [],
   "source": [
    "sns.set_style('darkgrid')"
   ]
  },
  {
   "cell_type": "code",
   "execution_count": 69,
   "metadata": {},
   "outputs": [
    {
     "name": "stderr",
     "output_type": "stream",
     "text": [
      "c:\\Users\\GIGA\\AppData\\Local\\Programs\\Python\\Python310\\lib\\site-packages\\seaborn\\distributions.py:269: FutureWarning: In a future version, `df.iloc[:, i] = newvals` will attempt to set the values inplace instead of always setting a new array. To retain the old behavior, use either `df[df.columns[i]] = newvals` or, if columns are non-unique, `df.isetitem(i, newvals)`\n",
      "  baselines.iloc[:, cols] = (curves\n"
     ]
    },
    {
     "data": {
      "text/plain": [
       "<AxesSubplot: xlabel='token', ylabel='Count'>"
      ]
     },
     "execution_count": 69,
     "metadata": {},
     "output_type": "execute_result"
    },
    {
     "data": {
      "image/png": "[encoded data removed]",
      "text/plain": [
       "<Figure size 640x480 with 1 Axes>"
      ]
     },
     "metadata": {},
     "output_type": "display_data"
    }
   ],
   "source": [
    "sns.histplot(d,x='token',hue='Class',multiple='stack',binwidth=10,hue_order=['A','B','C','D'])\n",
    "#plt.legend(title='Grade',labels=['A','B','C','D'])"
   ]
  },
  {
   "cell_type": "code",
   "execution_count": 48,
   "metadata": {},
   "outputs": [],
   "source": [
    "token = []\n",
    "with open('features/final-winter-fine.csv') as f:\n",
    "    raw = f.readlines()[1:3831]\n",
    "for i in range(len(raw)):\n",
    "    l = raw[i]\n",
    "    l = l.rstrip('\\n').split(',')[2:]\n",
    "    l = [float(i) for i in l]\n",
    "    if i in list(d.index):\n",
    "        token.append(l[-7])\n",
    "    else:\n",
    "        token.append(0)"
   ]
  },
  {
   "cell_type": "code",
   "execution_count": 78,
   "metadata": {},
   "outputs": [
    {
     "data": {
      "text/plain": [
       "1164                            I like reading very much.\n",
       "2604    What are Consequences of Intemet addiction.kim...\n",
       "Name: text, dtype: object"
      ]
     },
     "execution_count": 78,
     "metadata": {},
     "output_type": "execute_result"
    }
   ],
   "source": [
    "d[d['token'] == 5]['text']"
   ]
  },
  {
   "cell_type": "code",
   "execution_count": 79,
   "metadata": {},
   "outputs": [
    {
     "data": {
      "text/plain": [
       "'What are Consequences of Intemet addiction.kimiwananimo'"
      ]
     },
     "execution_count": 79,
     "metadata": {},
     "output_type": "execute_result"
    }
   ],
   "source": [
    "d['text'][2604]"
   ]
  },
  {
   "cell_type": "code",
   "execution_count": 64,
   "metadata": {},
   "outputs": [
    {
     "data": {
      "text/plain": [
       "count    3784.000000\n",
       "mean      187.057347\n",
       "std        43.617897\n",
       "min         5.000000\n",
       "25%       160.000000\n",
       "50%       180.000000\n",
       "75%       207.000000\n",
       "max       625.000000\n",
       "Name: token, dtype: float64"
      ]
     },
     "execution_count": 64,
     "metadata": {},
     "output_type": "execute_result"
    }
   ],
   "source": [
    "d['token'].describe()"
   ]
  },
  {
   "cell_type": "code",
   "execution_count": 6,
   "metadata": {},
   "outputs": [],
   "source": [
    "NLP = spacy.load('en_core_web_trf')\n",
    "SuPar = Parser.load('crf-con-en')"
   ]
  },
  {
   "cell_type": "code",
   "execution_count": 3,
   "metadata": {},
   "outputs": [],
   "source": [
    "#doc = NLP(d.iloc[0])\n",
    "doc = NLP('I drank a cup of water that has some juice in it.')"
   ]
  },
  {
   "cell_type": "code",
   "execution_count": 9,
   "metadata": {},
   "outputs": [],
   "source": [
    "s = [[token.text for token in sent if token.text] for sent in list(doc.sents)]"
   ]
  },
  {
   "cell_type": "code",
   "execution_count": 13,
   "metadata": {},
   "outputs": [
    {
     "data": {
      "text/plain": [
       "'(TOP (S (NP (_ I)) (VP (_ drank) (NP (NP (_ a) (_ cup)) (PP (_ of) (NP (_ water))) (SBAR (WHNP (_ that)) (S (VP (_ has) (NP (_ some) (_ juice)) (PP (_ in) (NP (_ it)))))))) (_ .)))'"
      ]
     },
     "execution_count": 13,
     "metadata": {},
     "output_type": "execute_result"
    }
   ],
   "source": [
    "sent_trees = str(SuPar.predict(s[0],prob=True,verbose= False).sentences[0])\n",
    "sent_trees"
   ]
  },
  {
   "cell_type": "code",
   "execution_count": 14,
   "metadata": {},
   "outputs": [],
   "source": [
    "a = nltk.Tree.fromstring(sent_trees)"
   ]
  },
  {
   "cell_type": "code",
   "execution_count": 15,
   "metadata": {},
   "outputs": [
    {
     "data": {
      "image/png": "[encoded data removed]",
      "text/plain": [
       "Tree('TOP', [Tree('S', [Tree('NP', [Tree('_', ['I'])]), Tree('VP', [Tree('_', ['drank']), Tree('NP', [Tree('NP', [Tree('_', ['a']), Tree('_', ['cup'])]), Tree('PP', [Tree('_', ['of']), Tree('NP', [Tree('_', ['water'])])]), Tree('SBAR', [Tree('WHNP', [Tree('_', ['that'])]), Tree('S', [Tree('VP', [Tree('_', ['has']), Tree('NP', [Tree('_', ['some']), Tree('_', ['juice'])]), Tree('PP', [Tree('_', ['in']), Tree('NP', [Tree('_', ['it'])])])])])])])]), Tree('_', ['.'])])])"
      ]
     },
     "execution_count": 15,
     "metadata": {},
     "output_type": "execute_result"
    }
   ],
   "source": [
    "a"
   ]
  },
  {
   "attachments": {},
   "cell_type": "markdown",
   "metadata": {},
   "source": [
    "if labels of $n_1$ and $n_2$ are the same:\n",
    "$$\n",
    "C(n_1,n_2) = 1 + \\sum_{J_1,J_2,|J_1| = |J_2|}\\prod_{i=1}^{|J_1|}C(ch_{n1}[J_{1i}],ch_{n2}[J_{2i}])\n",
    "$$\n",
    "we are summing over all pairs of possible subsequences of children of all possible length (smaller than shorter tree length), allowing partial trees with gaps   \n",
    "With decay factors :\n",
    "$$\n",
    "C(n_1,n_2) = \\mu (\\lambda^2 + \\sum_{J_1,J_2,|J_1| = |J_2|} \\lambda^{(d(J_1)+d(J_2))}\\prod_{i=1}^{|J_1|}C(ch_{n1}[J_{1i}],ch_{n2}[J_{2i}]))\n",
    "$$\n",
    "where\n",
    "$$\n",
    "d(J_1) = J_{1l(J_1)} - J_{1i} + 1\n",
    "$$\n",
    "if they are different:\n",
    "$$\n",
    "C(n_1,n_2) = 0\n",
    "$$\n",
    "The tree kernel of $T_1$ and $T_2$ is:\n",
    "$$\n",
    "K(T_1,T_2) = \\sum_{t_1\\in N_{T_1}}\\sum_{t_2\\in N_{T_2}}C(t_1,t_2)\n",
    "$$\n",
    "with normalization\n",
    "$$\n",
    "K_{norm}(T_1,T_2) = \\dfrac{K(T_1,T_2)}{\\sqrt{K(T_1,T_1) \\times K(T_2,T_2)}}\n",
    "$$"
   ]
  },
  {
   "cell_type": "code",
   "execution_count": 98,
   "metadata": {},
   "outputs": [],
   "source": [
    "import math\n",
    "def GetAllComb(n,NumList):\n",
    "    # Get all subsets of length n in the given list, and in the original order\n",
    "    res = []\n",
    "    if n == 1: # [0,1,2] --> [[0],[1],[2]]\n",
    "        return [[i] for i in NumList]\n",
    "    if n == len(NumList): # [0,1,2] --> [0,1,2]\n",
    "        return [[i for i in NumList]]\n",
    "    if n >= 2: # for each element before len(NumList)-n, insert that element into position 0 for all subsets of length n-1 of the remaining elements\n",
    "        for start in range(len(NumList)-n+1): \n",
    "            # (3,[0,1,2,3,4])\n",
    "            last = GetAllComb(n-1,NumList[start+1:])\n",
    "            # 0 + (2,[1,2,3,4]), 1 + (2,[2,3,4]), 2 + (2,[3,4])\n",
    "            for comb in last:\n",
    "                comb.insert(0,NumList[start])\n",
    "            res += last\n",
    "        return res\n",
    "def KernelFunction(tree1,tree2,t1index,t2index,prev,tree1Index,tree2Index):\n",
    "    # If already calculated, return result directly\n",
    "    #print(t1index,t2index)\n",
    "    if prev[t1index][t2index] != -1:\n",
    "        return prev[t1index][t2index]\n",
    "    # tree1 and tree2 are actually trees of token objects\n",
    "    # get dep labels of all nodes, t1 and t2 are trees of dep labels\n",
    "    t1 = (tree1[0].dep_,[i.dep_ for i in tree1[1] if i])\n",
    "    t2 = (tree2[0].dep_,[i.dep_ for i in tree2[1] if i])\n",
    "    # mu and lambda are decay factors, mu penalize tree height and lambda penalize tree length\n",
    "    mu =0.9\n",
    "    lambda_ = 0.9\n",
    "    k = 0 # final sum\n",
    "    if t1[0] == t2[0]: # if labels are the same\n",
    "        max_tree_len = min(len(t1[1]),len(t2[1]))\n",
    "        for tree_len in range(1,max_tree_len+1) :\n",
    "            # length of all possible subtrees \n",
    "            #ChildSeqs = GetAllComb(tree_len,[c for c in range(min(len(t1[1]),len(t2[1])))])\n",
    "            if max_tree_len <= 10:\n",
    "                ChildSeqs = comb_dict[max_tree_len][tree_len]\n",
    "            else:\n",
    "                ChildSeqs = GetAllComb(tree_len,[c for c in range(max_tree_len)])\n",
    "            #print(ChildSeqs)\n",
    "            # list of indices of all possible child sequences of given length\n",
    "            for j1 in ChildSeqs:\n",
    "                for j2 in ChildSeqs:\n",
    "                    # Get all pairs of sub sequences\n",
    "                    #print(j1,j2)\n",
    "                    prod = 1 # product\n",
    "                    #print(len(j1),tree_len)\n",
    "                    for i in range(tree_len):\n",
    "                        childt1 = tree1[1][j1[i]] # token object\n",
    "                        childt2 = tree2[1][j2[i]]\n",
    "                        prodt1 = (childt1,[j for j in childt1.children if j.text.isalpha()]) # build subtree \n",
    "                        prodt2 = (childt2,[j for j in childt2.children if j.text.isalpha()])\n",
    "                        #if prodt1[1] and prodt2[1]:\n",
    "                        #print(prodt1,prodt2)\n",
    "                        t1index = tree1Index[childt1]\n",
    "                        t2index = tree2Index[childt2]\n",
    "                        res = KernelFunction(prodt1,prodt2,t1index,t2index,prev,tree1Index,tree2Index) \n",
    "                        prod = prod * res\n",
    "                        #if prev[t1index][t2index]  == -1:\n",
    "                        prev[t1index][t2index] = res\n",
    "                        #print(prod)\n",
    "                        # continue matching subtree\n",
    "                    # finish matching indices j1 and j2, sum \n",
    "                    dt1 = j1[-1] - j1[0] + 1\n",
    "                    dt2 = j2[-1] - j2[0] + 1    \n",
    "                    k += ((lambda_) ** (dt1 + dt2)) * prod\n",
    "        return mu * (lambda_**2 + k)\n",
    "    else:\n",
    "        return 0\n",
    "def PartialTreeKernel(tree1,tree2):\n",
    "    prev = [[-1 for i in range(len(tree2))] for j in range(len(tree1))]\n",
    "    tree1Index = {list(tree1)[i]:i for i in range(len(tree1))}\n",
    "    tree2Index = {list(tree2)[i]:i for i in range(len(tree2))}\n",
    "    sim = 0\n",
    "    for tokent1 in tree1:\n",
    "        prodt1 = (tokent1,[i for i in tokent1.children if i.text.isalpha()])\n",
    "        for tokent2 in tree2:\n",
    "            # sum over all nodes\n",
    "            prodt2 = (tokent2,[i for i in tokent2.children if i.text.isalpha()])\n",
    "            if tokent1.text.isalpha() and (tokent1.dep_ == tokent2.dep_):\n",
    "                #print('subtree',prodt1,prodt2)\n",
    "                t1index = tree1Index[tokent1]\n",
    "                t2index = tree2Index[tokent2]\n",
    "                res = KernelFunction(prodt1,prodt2,t1index,t2index,prev,tree1Index,tree2Index)\n",
    "                sim += res\n",
    "                prev[t1index][t2index] = res\n",
    "    return sim \n",
    "def normPTK(tree1,tree2):\n",
    "    return PartialTreeKernel(tree1,tree2)/math.sqrt(PartialTreeKernel(tree1,tree1)*PartialTreeKernel(tree2,tree2))"
   ]
  },
  {
   "cell_type": "code",
   "execution_count": null,
   "metadata": {},
   "outputs": [],
   "source": [
    "{list(sents[0])[i]:i for i in range(len(sents[0]))}"
   ]
  },
  {
   "cell_type": "code",
   "execution_count": 91,
   "metadata": {},
   "outputs": [
    {
     "data": {
      "text/plain": [
       "29688.954416699304"
      ]
     },
     "execution_count": 91,
     "metadata": {},
     "output_type": "execute_result"
    }
   ],
   "source": [
    "PartialTreeKernel(sents[10],sents[10])"
   ]
  },
  {
   "cell_type": "code",
   "execution_count": 111,
   "metadata": {},
   "outputs": [],
   "source": [
    "doc =simnlp(d['text'][2984])\n",
    "sents = list([i for i in doc.sents if len(str(i).strip()) > 5])"
   ]
  },
  {
   "cell_type": "code",
   "execution_count": 112,
   "metadata": {},
   "outputs": [
    {
     "name": "stderr",
     "output_type": "stream",
     "text": [
      "C:\\Users\\GIGA\\AppData\\Local\\Temp\\ipykernel_7772\\4028163011.py:11: UserWarning: [W007] The model you're using has no word vectors loaded, so the result of the Span.similarity method will be based on the tagger, parser and NER, which may not give useful similarity judgements. This may happen if you're using one of the small models, e.g. `en_core_web_sm`, which don't ship with word vectors and only use context-sensitive tensors. You can always add your own word vectors, or use one of the larger models instead if available.\n",
      "  lm_sim[i,j] = sents[i].similarity(sents[2])\n"
     ]
    }
   ],
   "source": [
    "sim_matrix= np.eye(len(sents),len(sents))\n",
    "lm_sim = np.eye(len(sents),len(sents))\n",
    "self_sim = []\n",
    "trps = []\n",
    "for i in range(len(sents)):\n",
    "    self_sim.append(PartialTreeKernel(sents[i],sents[i]))\n",
    "for i in range(len(sents)):\n",
    "    for j in range(i+1,len(sents)):\n",
    "        sim_matrix[i,j] = PartialTreeKernel(sents[i],sents[j])/math.sqrt(self_sim[i]*self_sim[j])\n",
    "        lm_sim[i,j] = sents[i].similarity(sents[2])\n",
    "        trps.append((sents[i],sents[j],sim_matrix[i,j]))\n",
    "#sorted(trps,key=lambda x:x[2],reverse=True)"
   ]
  },
  {
   "cell_type": "code",
   "execution_count": 113,
   "metadata": {},
   "outputs": [],
   "source": [
    "for i in range(len(sents)):\n",
    "    for j in range(i+1,len(sents)):\n",
    "        if sim_matrix[i,j]  > lm_sim[i,j] :\n",
    "            print(sents[i],sents[j])"
   ]
  },
  {
   "cell_type": "code",
   "execution_count": null,
   "metadata": {},
   "outputs": [],
   "source": [
    "for i in range(150):\n",
    "    doc =simnlp(d['text'][i])\n",
    "    sents = list([i for i in doc.sents if len(str(i).strip()) > 5])\n",
    "    sim_matrix= np.eye(len(sents),len(sents))\n",
    "    lm_sim = np.eye(len(sents),len(sents))\n",
    "    self_sim = []\n",
    "    for i in range(len(sents)):\n",
    "        self_sim.append(PartialTreeKernel(sents[i],sents[i]))\n",
    "    for i in range(len(sents)):\n",
    "        for j in range(i+1,len(sents)):\n",
    "            sim_matrix[i,j] = PartialTreeKernel(sents[i],sents[j])/math.sqrt(self_sim[i]*self_sim[j])\n",
    "            lm_sim[i,j] = sents[i].similarity(sents[2])\n",
    "            if sim_matrix[i,j]  > lm_sim[i,j] + 0.2 :\n",
    "                print(sim_matrix[i,j],lm_sim[i,j],sents[i],sents[j])"
   ]
  },
  {
   "cell_type": "code",
   "execution_count": 81,
   "metadata": {},
   "outputs": [],
   "source": [
    "simnlp = spacy.load('en_core_web_sm')"
   ]
  },
  {
   "cell_type": "code",
   "execution_count": 119,
   "metadata": {},
   "outputs": [],
   "source": [
    "doc1 = simnlp('I ate the orange that you gave me')\n",
    "doc2 = simnlp('She refused the advice that he offered her')"
   ]
  },
  {
   "cell_type": "code",
   "execution_count": 120,
   "metadata": {},
   "outputs": [
    {
     "data": {
      "text/plain": [
       "1.0"
      ]
     },
     "execution_count": 120,
     "metadata": {},
     "output_type": "execute_result"
    }
   ],
   "source": [
    "normPTK(doc1,doc2)"
   ]
  },
  {
   "cell_type": "code",
   "execution_count": 121,
   "metadata": {},
   "outputs": [
    {
     "name": "stderr",
     "output_type": "stream",
     "text": [
      "C:\\Users\\GIGA\\AppData\\Local\\Temp\\ipykernel_7772\\2159000743.py:1: UserWarning: [W007] The model you're using has no word vectors loaded, so the result of the Doc.similarity method will be based on the tagger, parser and NER, which may not give useful similarity judgements. This may happen if you're using one of the small models, e.g. `en_core_web_sm`, which don't ship with word vectors and only use context-sensitive tensors. You can always add your own word vectors, or use one of the larger models instead if available.\n",
      "  doc1.similarity(doc2)\n"
     ]
    },
    {
     "data": {
      "text/plain": [
       "0.8152315616607666"
      ]
     },
     "execution_count": 121,
     "metadata": {},
     "output_type": "execute_result"
    }
   ],
   "source": [
    "doc1.similarity(doc2)"
   ]
  },
  {
   "cell_type": "code",
   "execution_count": 8,
   "metadata": {},
   "outputs": [
    {
     "name": "stdout",
     "output_type": "stream",
     "text": [
      "0\n",
      "50\n",
      "100\n",
      "150\n",
      "200\n",
      "250\n",
      "300\n",
      "350\n",
      "400\n",
      "450\n",
      "500\n",
      "550\n",
      "600\n",
      "650\n",
      "700\n",
      "750\n",
      "800\n",
      "850\n",
      "900\n",
      "950\n",
      "1000\n",
      "1050\n",
      "1100\n",
      "1150\n",
      "1200\n",
      "1250\n",
      "1300\n",
      "1350\n",
      "1400\n",
      "1450\n",
      "1500\n",
      "1550\n",
      "1600\n",
      "1650\n",
      "1700\n",
      "1750\n",
      "1800\n",
      "1850\n",
      "1900\n",
      "1950\n",
      "2000\n",
      "2050\n",
      "2100\n",
      "2150\n",
      "2200\n",
      "2250\n",
      "2300\n",
      "2350\n",
      "2400\n",
      "2450\n",
      "2500\n",
      "2550\n",
      "2600\n",
      "2650\n",
      "2700\n",
      "2750\n",
      "2800\n",
      "2850\n",
      "2900\n",
      "2950\n",
      "3000\n",
      "3050\n",
      "3100\n",
      "3150\n",
      "3200\n",
      "3250\n",
      "3300\n",
      "3350\n",
      "3400\n",
      "3450\n",
      "3500\n",
      "3550\n",
      "3600\n",
      "3650\n",
      "3700\n",
      "3750\n",
      "3800\n"
     ]
    }
   ],
   "source": [
    "vacs = []\n",
    "for i in range(len(d)):\n",
    "    doc = NLP(d['text'][i])\n",
    "    for s in doc.sents:\n",
    "        if len(str(s).split()) > 3:\n",
    "            sentVAC = [s,[]]\n",
    "            for t in s:\n",
    "                if 'V' in t.tag_ and t.text.isalpha():\n",
    "                    left = [m.dep_ for m in t.lefts if m.text.isalpha()]\n",
    "                    right = [m.dep_ for m in t.rights if m.text.isalpha()]\n",
    "                    verbvac = '_'.join(left) + '_V_{}_'.format(t.lemma_) + '_'.join(right)\n",
    "                    sentVAC[1].append(verbvac)\n",
    "            vacs.append(sentVAC)\n",
    "    if i % 50 == 0:\n",
    "        print(i)"
   ]
  },
  {
   "cell_type": "code",
   "execution_count": 70,
   "metadata": {},
   "outputs": [
    {
     "data": {
      "text/plain": [
       "63"
      ]
     },
     "execution_count": 70,
     "metadata": {},
     "output_type": "execute_result"
    }
   ],
   "source": [
    "import re\n",
    "match = []\n",
    "patterns = {'[a-z_]*V[a-z_]*acomp[a-z_]*':'-acomp',\n",
    "            '[a-z_]*V_[a-z]*_\\Z':'-',\n",
    "            '[a-z_]*V_[a-z_]*(conj)|(cc)\\Z':'-',\n",
    "            '[a-z_]*V_[a-z]*[a-z_]*adv[a-z]*\\Z':'-advmod',\n",
    "            '[a-z_]*V[a-z_]*prt[a-z_]*':'-particle',\n",
    "            '[a-z_]*V[a-z_]*attr[a-z_]*':'-attr',\n",
    "            '[a-z_]*V[a-z_]*oprd[a-z_]*':'-oprd',\n",
    "            '[a-z_]*V[a-z_]*dobj[a-z_]*':'-dobj',\n",
    "            '[a-z_]*V[a-z_]*(pobj)|(pcomp)[a-z_]*':'-dobj',\n",
    "            '[a-z_]*V[a-z_]*prep':'-prep',\n",
    "            '[a-z_]*V[a-z_]*ccomp[a-z_]*':'-ccomp',\n",
    "            '[a-z_]*V[a-z_]*xcomp[a-z_]*':'-xcomp',\n",
    "            '[a-z_]*V[a-z_]*dative[a-z_]*':'-dative-dobj',\n",
    "            '[a-z_]*V[a-z_]*dobj[a-z_]*prep\\Z':'-dobj-prep',\n",
    "            '[a-z_]*V[a-z_]*nsubj[a-z_]*':'-inversion',\n",
    "            '[a-z_]*V[a-z_]*agent[a-z_]*':'-passive',\n",
    "            '[a-z_]*V[a-z_]*intj[a-z_]*':'-intj',\n",
    "            'expl_V_be[a-z_]*':'-there'}\n",
    "for i in vacs:\n",
    "    for v in i[1]:\n",
    "        vaclist = v.split('_')\n",
    "        verb = vaclist[vaclist.index('V')+1]\n",
    "        for p in patterns:\n",
    "            res = re.findall(p,v)\n",
    "            if res:\n",
    "                match.append((v,'{}{}'.format(verb,patterns[p])))\n",
    "                break\n",
    "        if not res:\n",
    "            match.append((i,'{}-other'.format(v)))\n",
    "len([i for i in match if '-other' in i[1] and not 'dep' in i[1]])\n",
    "#match"
   ]
  },
  {
   "cell_type": "code",
   "execution_count": null,
   "metadata": {},
   "outputs": [],
   "source": []
  },
  {
   "cell_type": "code",
   "execution_count": 66,
   "metadata": {},
   "outputs": [
    {
     "data": {
      "text/plain": [
       "['det', 'nsubj', 'ROOT', 'mark', 'nsubj', 'aux', 'ccomp']"
      ]
     },
     "execution_count": 66,
     "metadata": {},
     "output_type": "execute_result"
    }
   ],
   "source": [
    "[i.dep_ for i in NLP('The problem is that he is dying')]"
   ]
  },
  {
   "attachments": {},
   "cell_type": "markdown",
   "metadata": {},
   "source": [
    "+ subject + verb + clausal complement\n",
    "  + nsubj_V_ccomp \n",
    "+ subject + verb + attribute\n",
    "  + nsubj_V_attr\n",
    "+ subject + verb + direct object\n",
    "  + nsubj_V_dobj\n",
    "+ subject + verb + open clausal complement\n",
    "  + nsubj_V_xcomp\n",
    "+ subject + verb + preposition\n",
    "  + nsubj_V_prep\n",
    "+ expletive + verb + attribute\n",
    "  + expl_V_attr\n",
    "+ clausal subject + verb + *\n",
    "  + csubj_V"
   ]
  },
  {
   "cell_type": "code",
   "execution_count": 2,
   "metadata": {},
   "outputs": [
    {
     "name": "stdout",
     "output_type": "stream",
     "text": [
      "ROOT root\n",
      " acl clausal modifier of noun (adjectival clause)\n",
      " acomp adjectival complement\n",
      " advcl adverbial clause modifier\n",
      " advmod adverbial modifier\n",
      " agent agent\n",
      " amod adjectival modifier\n",
      " appos appositional modifier\n",
      " attr attribute\n",
      " aux auxiliary\n",
      " auxpass auxiliary (passive)\n",
      " case case marking\n",
      " cc coordinating conjunction\n",
      " ccomp clausal complement\n",
      " compound compound\n",
      " conj conjunct\n",
      " csubj clausal subject\n",
      " csubjpass clausal subject (passive)\n",
      " dative dative\n",
      " dep unclassified dependent\n",
      " det determiner\n",
      " dobj direct object\n",
      " expl expletive\n",
      " intj interjection\n",
      " mark marker\n",
      " meta meta modifier\n",
      " neg negation modifier\n",
      " nmod modifier of nominal\n",
      " npadvmod noun phrase as adverbial modifier\n",
      " nsubj nominal subject\n",
      " nsubjpass nominal subject (passive)\n",
      " nummod numeric modifier\n",
      " oprd object predicate\n",
      " parataxis parataxis\n",
      " pcomp complement of preposition\n",
      " pobj object of preposition\n",
      " poss possession modifier\n",
      " preconj pre-correlative conjunction\n",
      " predet None\n",
      " prep prepositional modifier\n",
      " prt particle\n",
      " punct punctuation\n",
      " quantmod modifier of quantifier\n",
      " relcl relative clause modifier\n",
      " xcomp open clausal complement\n"
     ]
    },
    {
     "name": "stderr",
     "output_type": "stream",
     "text": [
      "c:\\Users\\GIGA\\AppData\\Local\\Programs\\Python\\Python310\\lib\\site-packages\\spacy\\glossary.py:19: UserWarning: [W118] Term 'predet' not found in glossary. It may however be explained in documentation for the corpora used to train the language. Please check `nlp.meta[\"sources\"]` for any relevant links.\n",
      "  warnings.warn(Warnings.W118.format(term=term))\n"
     ]
    }
   ],
   "source": [
    "t = '''ROOT, acl, acomp, advcl, advmod, agent, amod, appos, attr, aux, auxpass, case, cc, ccomp, compound, conj, csubj, csubjpass, dative, dep, det, dobj, expl, intj, mark, meta, neg, nmod, npadvmod, nsubj, nsubjpass, nummod, oprd, parataxis, pcomp, pobj, poss, preconj, predet, prep, prt, punct, quantmod, relcl, xcomp'''\n",
    "for s in t.split(','):\n",
    "    print(s,spacy.explain(s.strip()))\n"
   ]
  }
 ],
 "metadata": {
  "kernelspec": {
   "display_name": "Python 3 (ipykernel)",
   "language": "python",
   "name": "python3"
  },
  "language_info": {
   "codemirror_mode": {
    "name": "ipython",
    "version": 3
   },
   "file_extension": ".py",
   "mimetype": "text/x-python",
   "name": "python",
   "nbconvert_exporter": "python",
   "pygments_lexer": "ipython3",
   "version": "3.10.8"
  },
  "orig_nbformat": 4,
  "vscode": {
   "interpreter": {
    "hash": "593988f55108e9a22df825be697685e2e60f0c546ce2b7da78c95a16021f878c"
   }
  }
 },
 "nbformat": 4,
 "nbformat_minor": 2
}
