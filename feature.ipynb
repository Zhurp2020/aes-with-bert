{
 "cells": [
  {
   "cell_type": "code",
   "execution_count": 2,
   "metadata": {},
   "outputs": [
    {
     "data": {
      "text/plain": [
       "True"
      ]
     },
     "execution_count": 2,
     "metadata": {},
     "output_type": "execute_result"
    }
   ],
   "source": [
    "%run utils.ipynb\n",
    "import spacy\n",
    "from spacy import displacy\n",
    "import nltk\n",
    "import torch\n",
    "from supar import Parser\n",
    "import math\n",
    "from thinc.api import set_gpu_allocator, require_gpu\n",
    "set_gpu_allocator(\"pytorch\")\n",
    "require_gpu(0)"
   ]
  },
  {
   "cell_type": "code",
   "execution_count": 3,
   "metadata": {},
   "outputs": [],
   "source": [
    "loader = DataLoader()\n",
    "d = loader.GetData('final')['text']"
   ]
  },
  {
   "cell_type": "code",
   "execution_count": null,
   "metadata": {},
   "outputs": [],
   "source": [
    "for text in d:\n",
    "    for i in range(len(text)-1):\n",
    "        if len(text) < 10:\n",
    "            break\n",
    "        if text[i] == \"'\" and text[i+1].isalpha() and text[i+1] not in ['t','s','d'] and text[i-1].isalpha() and text[i-1] not in ['I']:\n",
    "            if i < len(text) -10 :\n",
    "                print(text[i-10:i+10])\n",
    "            elif i <10:\n",
    "                print(text[:10])\n",
    "            else:\n",
    "                print(text[i-10:])"
   ]
  },
  {
   "cell_type": "code",
   "execution_count": 4,
   "metadata": {},
   "outputs": [],
   "source": [
    "NLP = spacy.load('en_core_web_trf')\n",
    "SuPar = Parser.load('crf-con-en')"
   ]
  },
  {
   "cell_type": "code",
   "execution_count": 6,
   "metadata": {},
   "outputs": [],
   "source": [
    "for i in range(len(d)):\n",
    "    d.iloc[i] = d.iloc[i].replace(\"'\",\"' \")"
   ]
  },
  {
   "cell_type": "code",
   "execution_count": 3,
   "metadata": {},
   "outputs": [],
   "source": [
    "#doc = NLP(d.iloc[0])\n",
    "doc = NLP('I drank a cup of water that has some juice in it.')"
   ]
  },
  {
   "cell_type": "code",
   "execution_count": 9,
   "metadata": {},
   "outputs": [],
   "source": [
    "s = [[token.text for token in sent if token.text] for sent in list(doc.sents)]"
   ]
  },
  {
   "cell_type": "code",
   "execution_count": 11,
   "metadata": {},
   "outputs": [
    {
     "data": {
      "text/plain": [
       "I drank a cup of water that has some juice in it."
      ]
     },
     "execution_count": 11,
     "metadata": {},
     "output_type": "execute_result"
    }
   ],
   "source": [
    "list(doc.sents)[0]"
   ]
  },
  {
   "cell_type": "code",
   "execution_count": 13,
   "metadata": {},
   "outputs": [
    {
     "data": {
      "text/plain": [
       "'(TOP (S (NP (_ I)) (VP (_ drank) (NP (NP (_ a) (_ cup)) (PP (_ of) (NP (_ water))) (SBAR (WHNP (_ that)) (S (VP (_ has) (NP (_ some) (_ juice)) (PP (_ in) (NP (_ it)))))))) (_ .)))'"
      ]
     },
     "execution_count": 13,
     "metadata": {},
     "output_type": "execute_result"
    }
   ],
   "source": [
    "sent_trees = str(SuPar.predict(s[0],prob=True,verbose= False).sentences[0])\n",
    "sent_trees"
   ]
  },
  {
   "cell_type": "code",
   "execution_count": 14,
   "metadata": {},
   "outputs": [],
   "source": [
    "a = nltk.Tree.fromstring(sent_trees)"
   ]
  },
  {
   "cell_type": "code",
   "execution_count": 15,
   "metadata": {},
   "outputs": [
    {
     "data": {
      "image/png": "[encoded data removed]",
      "text/plain": [
       "Tree('TOP', [Tree('S', [Tree('NP', [Tree('_', ['I'])]), Tree('VP', [Tree('_', ['drank']), Tree('NP', [Tree('NP', [Tree('_', ['a']), Tree('_', ['cup'])]), Tree('PP', [Tree('_', ['of']), Tree('NP', [Tree('_', ['water'])])]), Tree('SBAR', [Tree('WHNP', [Tree('_', ['that'])]), Tree('S', [Tree('VP', [Tree('_', ['has']), Tree('NP', [Tree('_', ['some']), Tree('_', ['juice'])]), Tree('PP', [Tree('_', ['in']), Tree('NP', [Tree('_', ['it'])])])])])])])]), Tree('_', ['.'])])])"
      ]
     },
     "execution_count": 15,
     "metadata": {},
     "output_type": "execute_result"
    }
   ],
   "source": [
    "a"
   ]
  },
  {
   "cell_type": "code",
   "execution_count": 5,
   "metadata": {},
   "outputs": [
    {
     "data": {
      "text/plain": [
       "'To begin with,talking to your friends about your problems may be agood idea.Friends are the same as us in many perspectives.As a result,they can considerate in our shoes and help us solve the trouble.More importantly,we should tell adults surround by about our homesickness.To some extent,they can offer us some tips to overcoming homesickness and give us love because they are the same age as our parents.As a consequence,they will show empassy to us and think in our way.Besides,reading some book about overcoming homesickness is also a fantastic way to deal with this problem.For examble,we can learn some physiological hints that can give us some belongings.Last but not least,I think the root to solve this problem is overcome our thoughts in our heart.We feel homesickness because of our feeling of alone.But if our hearts become hard,we can be immunity to homesickness. '"
      ]
     },
     "execution_count": 5,
     "metadata": {},
     "output_type": "execute_result"
    }
   ],
   "source": [
    "d[20]"
   ]
  },
  {
   "cell_type": "code",
   "execution_count": 6,
   "metadata": {},
   "outputs": [],
   "source": [
    "def CreateTree(token):\n",
    "    if token.n_lefts == 0 and token.n_rights == 0:\n",
    "        return nltk.Tree('_'.join([token.text,token.dep_]),[])\n",
    "    else:    \n",
    "        return nltk.Tree('_'.join([token.text,token.dep_]),[CreateTree(child) for child in token.children])"
   ]
  },
  {
   "cell_type": "code",
   "execution_count": 7,
   "metadata": {},
   "outputs": [],
   "source": [
    "doc = NLP(d[20])"
   ]
  },
  {
   "cell_type": "code",
   "execution_count": 8,
   "metadata": {},
   "outputs": [],
   "source": [
    "t = CreateTree(list(doc.sents)[0].root)"
   ]
  },
  {
   "cell_type": "code",
   "execution_count": 9,
   "metadata": {},
   "outputs": [
    {
     "data": {
      "image/png": "[encoded data removed]",
      "text/plain": [
       "Tree('be_ROOT', [Tree('begin_advcl', [Tree('To_aux', []), Tree('with_prt', [])]), Tree(',_punct', []), Tree('talking_csubj', [Tree('to_prep', [Tree('friends_pobj', [Tree('your_poss', [])])]), Tree('about_prep', [Tree('problems_pobj', [Tree('your_poss', [])])])]), Tree('may_aux', []), Tree('idea_attr', [Tree('agood_det', [])]), Tree('._punct', [])])"
      ]
     },
     "execution_count": 9,
     "metadata": {},
     "output_type": "execute_result"
    }
   ],
   "source": [
    "t"
   ]
  },
  {
   "cell_type": "code",
   "execution_count": 65,
   "metadata": {},
   "outputs": [
    {
     "name": "stdout",
     "output_type": "stream",
     "text": [
      "To aux []\n",
      "begin advcl [To, with]\n",
      "with prt []\n",
      ", punct []\n",
      "talking csubj [to, about]\n",
      "to prep [friends]\n",
      "your poss []\n",
      "friends pobj [your]\n",
      "about prep [problems]\n",
      "your poss []\n",
      "problems pobj [your]\n",
      "may aux []\n",
      "be ROOT [begin, ,, talking, may, idea, .]\n",
      "agood det []\n",
      "idea attr [agood]\n",
      ". punct []\n"
     ]
    }
   ],
   "source": [
    "for token in list(doc.sents)[0]:\n",
    "    print(token,token.dep_,list(token.children))"
   ]
  },
  {
   "cell_type": "code",
   "execution_count": 59,
   "metadata": {},
   "outputs": [
    {
     "data": {
      "text/plain": [
       "['begin_advcl', ',_punct', 'talking_csubj', 'may_aux', 'idea_attr', '._punct']"
      ]
     },
     "execution_count": 59,
     "metadata": {},
     "output_type": "execute_result"
    }
   ],
   "source": [
    "[t[i].label() for i in range(len(t))]"
   ]
  },
  {
   "attachments": {},
   "cell_type": "markdown",
   "metadata": {},
   "source": [
    "if labels of $n_1$ and $n_2$ are the same:\n",
    "$$\n",
    "C(n_1,n_2) = 1 + \\sum_{J_1,J_2,|J_1| = |J_2|}\\prod_{i=1}^{|J_1|}C(ch_{n1}[J_{1i}],ch_{n2}[J_{2i}])\n",
    "$$\n",
    "we are summing over all pairs of possible subsequences of children of all possible length (smaller than shorter tree length), allowing partial trees with gaps   \n",
    "With decay factors:\n",
    "$$\n",
    "C(n_1,n_2) = \\mu (\\lambda^2 + \\sum_{J_1,J_2,|J_1| = |J_2|} \\lambda^{(d(J_1)+d(J_2))}\\prod_{i=1}^{|J_1|}C(ch_{n1}[J_{1i}],ch_{n2}[J_{2i}]))\n",
    "$$\n",
    "where\n",
    "$$\n",
    "d(J_1) = J_{1l(J_1)} - J_{1i} + 1\n",
    "$$\n",
    "if they are different:\n",
    "$$\n",
    "C(n_1,n_2) = 0\n",
    "$$\n",
    "The tree kernel of $T_1$ and $T_2$ is:\n",
    "$$\n",
    "K(T_1,T_2) = \\sum_{t_1\\in N_{T_1}}\\sum_{t_2\\in N_{T_2}}C(t_1,t_2)\n",
    "$$\n",
    "with normalization\n",
    "$$\n",
    "K_{norm}(T_1,T_2) = \\dfrac{K(T_1,T_2)}{\\sqrt{K(T_1,T_1) \\times K(T_2,T_2)}}\n",
    "$$"
   ]
  },
  {
   "cell_type": "code",
   "execution_count": 228,
   "metadata": {},
   "outputs": [],
   "source": [
    "import math\n",
    "def GetAllComb(n,NumList):\n",
    "    # Get all subsets of length n in the given list, and in the original order\n",
    "    res = []\n",
    "    if n == 1: # [0,1,2] --> [[0],[1],[2]]\n",
    "        return [[i] for i in NumList]\n",
    "    if n == len(NumList): # [0,1,2] --> [0,1,2]\n",
    "        return [[i for i in NumList]]\n",
    "    if n >= 2: # for each element before len(NumList)-n, insert that element into position 0 for all subsets of length n-1 of the remaining elements\n",
    "        for start in range(len(NumList)-n+1): \n",
    "            # (3,[0,1,2,3,4])\n",
    "            last = GetAllComb(n-1,NumList[start+1:])\n",
    "            # 0 + (2,[1,2,3,4]), 1 + (2,[2,3,4]), 2 + (2,[3,4])\n",
    "            for comb in last:\n",
    "                comb.insert(0,NumList[start])\n",
    "            res += last\n",
    "        return res\n",
    "def KernelFunction(tree1,tree2):\n",
    "    # tree1 and tree2 are actually trees of token objects\n",
    "    # get dep labels of all nodes, t1 and t2 are trees of dep labels\n",
    "    t1 = (tree1[0].dep_,[i.dep_ for i in tree1[1] if i])\n",
    "    t2 = (tree2[0].dep_,[i.dep_ for i in tree2[1] if i])\n",
    "    # mu and lambda are decay factors, mu penalize tree height and lambda penalize tree length\n",
    "    mu = 0.4\n",
    "    lambda_ = 0.4\n",
    "    k = 0 # final sum\n",
    "    if t1[0] == t2[0]: # if labels are the same\n",
    "        for tree_len in range(1,min(len(t1[1]),len(t2[1]))) :\n",
    "            # length of all possible subtrees \n",
    "            prod = 1 # product\n",
    "            ChildSeqs = GetAllComb(tree_len,[c for c in range(tree_len)])\n",
    "            # list of indices of all possible child sequences of given length\n",
    "            for j1 in ChildSeqs:\n",
    "                for j2 in ChildSeqs:\n",
    "                    # Get all pairs of sub sequences\n",
    "                    for i in range(tree_len):\n",
    "                        childt1 = tree1[1][j1[i]] # token object\n",
    "                        childt2 = tree2[1][j2[i]]\n",
    "                        prodt1 = (tree1[0],[j for j in childt1.children if j]) # build subtree \n",
    "                        prodt2 = (tree2[0],[j for j in childt2.children if j])\n",
    "                        prod = prod * KernelFunction(prodt1,prodt2) \n",
    "                        # continue matching subtree\n",
    "                    # finish matching indices j1 and j2, sum \n",
    "                    dt1 = j1[-1] - j1[0] + 1\n",
    "                    dt2 = j2[-1] - j2[0] + 1    \n",
    "                    k += (lambda_) ** (dt1 + dt2) * prod\n",
    "        return mu * (lambda_**2 + k)\n",
    "    else:\n",
    "        return 0\n",
    "def PartialTreeKernel(tree1,tree2):\n",
    "    sim = 0\n",
    "    for tokent1 in tree1:\n",
    "        prodt1 = (tokent1,[i for i in tokent1.children if i])\n",
    "        for tokent2 in tree2:\n",
    "            # sum over all nodes\n",
    "            prodt2 = (tokent2,[i for i in tokent2.children if i])\n",
    "            if tokent1.text.isalpha() and (tokent1.dep_ == tokent2.dep_):\n",
    "                sim += KernelFunction(prodt1,prodt2)\n",
    "    return sim \n",
    "def normPTK(tree1,tree2):\n",
    "    return PartialTreeKernel(tree1,tree2)/math.sqrt(PartialTreeKernel(tree1,tree1)*PartialTreeKernel(tree2,tree2))"
   ]
  },
  {
   "cell_type": "code",
   "execution_count": 227,
   "metadata": {},
   "outputs": [
    {
     "data": {
      "text/plain": [
       "[(As a result,they can considerate in our shoes and help us solve the trouble.,\n",
       "  As a consequence,they will show empassy to us and think in our way.,\n",
       "  0.8890508341485267),\n",
       " (As a result,they can considerate in our shoes and help us solve the trouble.,\n",
       "  To some extent,they can offer us some tips to overcoming homesickness and give us love because they are the same age as our parents.,\n",
       "  0.833861608872711),\n",
       " (To some extent,they can offer us some tips to overcoming homesickness and give us love because they are the same age as our parents.,\n",
       "  As a consequence,they will show empassy to us and think in our way.,\n",
       "  0.8222249022686015),\n",
       " (To some extent,they can offer us some tips to overcoming homesickness and give us love because they are the same age as our parents.,\n",
       "  For examble,we can learn some physiological hints that can give us some belongings.,\n",
       "  0.8221972396951646),\n",
       " (As a result,they can considerate in our shoes and help us solve the trouble.,\n",
       "  Last but not least,I think the root to solve this problem is overcome our thoughts in our heart.,\n",
       "  0.7742574124618252),\n",
       " (Friends are the same as us in many perspectives.,\n",
       "  As a consequence,they will show empassy to us and think in our way.,\n",
       "  0.7686362802191801),\n",
       " (As a result,they can considerate in our shoes and help us solve the trouble.,\n",
       "  For examble,we can learn some physiological hints that can give us some belongings.,\n",
       "  0.7555825296060573),\n",
       " (Friends are the same as us in many perspectives.,\n",
       "  We feel homesickness because of our feeling of alone.,\n",
       "  0.7523104989825765),\n",
       " (Friends are the same as us in many perspectives.,\n",
       "  As a result,they can considerate in our shoes and help us solve the trouble.,\n",
       "  0.7516787337461212),\n",
       " (To some extent,they can offer us some tips to overcoming homesickness and give us love because they are the same age as our parents.,\n",
       "  Besides,reading some book about overcoming homesickness is also a fantastic way to deal with this problem.,\n",
       "  0.7427432140991291),\n",
       " (To some extent,they can offer us some tips to overcoming homesickness and give us love because they are the same age as our parents.,\n",
       "  We feel homesickness because of our feeling of alone.,\n",
       "  0.7318656086793043),\n",
       " (To begin with,talking to your friends about your problems may be agood idea.,\n",
       "  As a consequence,they will show empassy to us and think in our way.,\n",
       "  0.7271898623816182),\n",
       " (More importantly,we should tell adults surround by about our homesickness.,\n",
       "  Last but not least,I think the root to solve this problem is overcome our thoughts in our heart.,\n",
       "  0.7204006937103637),\n",
       " (Friends are the same as us in many perspectives.,\n",
       "  To some extent,they can offer us some tips to overcoming homesickness and give us love because they are the same age as our parents.,\n",
       "  0.7131379737871236),\n",
       " (Besides,reading some book about overcoming homesickness is also a fantastic way to deal with this problem.,\n",
       "  For examble,we can learn some physiological hints that can give us some belongings.,\n",
       "  0.7127109177853697),\n",
       " (For examble,we can learn some physiological hints that can give us some belongings.,\n",
       "  Last but not least,I think the root to solve this problem is overcome our thoughts in our heart.,\n",
       "  0.7126122944955526),\n",
       " (As a consequence,they will show empassy to us and think in our way.,\n",
       "  We feel homesickness because of our feeling of alone.,\n",
       "  0.706914132034051),\n",
       " (As a result,they can considerate in our shoes and help us solve the trouble.,\n",
       "  We feel homesickness because of our feeling of alone.,\n",
       "  0.6913182909907278),\n",
       " (Besides,reading some book about overcoming homesickness is also a fantastic way to deal with this problem.,\n",
       "  Last but not least,I think the root to solve this problem is overcome our thoughts in our heart.,\n",
       "  0.6895930081677462),\n",
       " (To some extent,they can offer us some tips to overcoming homesickness and give us love because they are the same age as our parents.,\n",
       "  Last but not least,I think the root to solve this problem is overcome our thoughts in our heart.,\n",
       "  0.6895113641263576),\n",
       " (As a consequence,they will show empassy to us and think in our way.,\n",
       "  For examble,we can learn some physiological hints that can give us some belongings.,\n",
       "  0.6817520987676638),\n",
       " (As a result,they can considerate in our shoes and help us solve the trouble.,\n",
       "  But if our hearts become hard,we can be immunity to homesickness.,\n",
       "  0.6686494399306182),\n",
       " (To begin with,talking to your friends about your problems may be agood idea.,\n",
       "  As a result,they can considerate in our shoes and help us solve the trouble.,\n",
       "  0.6667111415232668),\n",
       " (To begin with,talking to your friends about your problems may be agood idea.,\n",
       "  Friends are the same as us in many perspectives.,\n",
       "  0.650302479238789),\n",
       " (As a consequence,they will show empassy to us and think in our way.,\n",
       "  Last but not least,I think the root to solve this problem is overcome our thoughts in our heart.,\n",
       "  0.6332844916490429),\n",
       " (To begin with,talking to your friends about your problems may be agood idea.,\n",
       "  But if our hearts become hard,we can be immunity to homesickness.,\n",
       "  0.626888703869031),\n",
       " (As a consequence,they will show empassy to us and think in our way.,\n",
       "  But if our hearts become hard,we can be immunity to homesickness.,\n",
       "  0.6267750450966233),\n",
       " (As a result,they can considerate in our shoes and help us solve the trouble.,\n",
       "  Besides,reading some book about overcoming homesickness is also a fantastic way to deal with this problem.,\n",
       "  0.6193987684387925),\n",
       " (Friends are the same as us in many perspectives.,\n",
       "  Besides,reading some book about overcoming homesickness is also a fantastic way to deal with this problem.,\n",
       "  0.6180827805244687),\n",
       " (To some extent,they can offer us some tips to overcoming homesickness and give us love because they are the same age as our parents.,\n",
       "  But if our hearts become hard,we can be immunity to homesickness.,\n",
       "  0.6108890723694625),\n",
       " (To begin with,talking to your friends about your problems may be agood idea.,\n",
       "  To some extent,they can offer us some tips to overcoming homesickness and give us love because they are the same age as our parents.,\n",
       "  0.6090979171546387),\n",
       " (Friends are the same as us in many perspectives.,\n",
       "  But if our hearts become hard,we can be immunity to homesickness.,\n",
       "  0.5929440977155744),\n",
       " (Friends are the same as us in many perspectives.,\n",
       "  For examble,we can learn some physiological hints that can give us some belongings.,\n",
       "  0.5912057732605027),\n",
       " (More importantly,we should tell adults surround by about our homesickness.,\n",
       "  Besides,reading some book about overcoming homesickness is also a fantastic way to deal with this problem.,\n",
       "  0.5854403372132165),\n",
       " (For examble,we can learn some physiological hints that can give us some belongings.,\n",
       "  We feel homesickness because of our feeling of alone.,\n",
       "  0.5783258871527426),\n",
       " (To begin with,talking to your friends about your problems may be agood idea.,\n",
       "  We feel homesickness because of our feeling of alone.,\n",
       "  0.5783256811625724),\n",
       " (We feel homesickness because of our feeling of alone.,\n",
       "  But if our hearts become hard,we can be immunity to homesickness.,\n",
       "  0.5639297045506142),\n",
       " (Besides,reading some book about overcoming homesickness is also a fantastic way to deal with this problem.,\n",
       "  We feel homesickness because of our feeling of alone.,\n",
       "  0.5596568346255376),\n",
       " (Last but not least,I think the root to solve this problem is overcome our thoughts in our heart.,\n",
       "  We feel homesickness because of our feeling of alone.,\n",
       "  0.5595793906060594),\n",
       " (As a consequence,they will show empassy to us and think in our way.,\n",
       "  Besides,reading some book about overcoming homesickness is also a fantastic way to deal with this problem.,\n",
       "  0.5542204079175328),\n",
       " (To begin with,talking to your friends about your problems may be agood idea.,\n",
       "  Besides,reading some book about overcoming homesickness is also a fantastic way to deal with this problem.,\n",
       "  0.554119484956904),\n",
       " (Last but not least,I think the root to solve this problem is overcome our thoughts in our heart.,\n",
       "  But if our hearts become hard,we can be immunity to homesickness.,\n",
       "  0.545737305156442),\n",
       " (More importantly,we should tell adults surround by about our homesickness.,\n",
       "  As a consequence,they will show empassy to us and think in our way.,\n",
       "  0.5171866667550181),\n",
       " (To begin with,talking to your friends about your problems may be agood idea.,\n",
       "  Last but not least,I think the root to solve this problem is overcome our thoughts in our heart.,\n",
       "  0.5144802582104048),\n",
       " (For examble,we can learn some physiological hints that can give us some belongings.,\n",
       "  But if our hearts become hard,we can be immunity to homesickness.,\n",
       "  0.5127641640968706),\n",
       " (More importantly,we should tell adults surround by about our homesickness.,\n",
       "  We feel homesickness because of our feeling of alone.,\n",
       "  0.5118438537556432),\n",
       " (As a result,they can considerate in our shoes and help us solve the trouble.,\n",
       "  More importantly,we should tell adults surround by about our homesickness.,\n",
       "  0.5057765666043411),\n",
       " (To begin with,talking to your friends about your problems may be agood idea.,\n",
       "  For examble,we can learn some physiological hints that can give us some belongings.,\n",
       "  0.4999089587770205),\n",
       " (More importantly,we should tell adults surround by about our homesickness.,\n",
       "  For examble,we can learn some physiological hints that can give us some belongings.,\n",
       "  0.4654040808655031),\n",
       " (To begin with,talking to your friends about your problems may be agood idea.,\n",
       "  More importantly,we should tell adults surround by about our homesickness.,\n",
       "  0.46540391509622187),\n",
       " (Friends are the same as us in many perspectives.,\n",
       "  Last but not least,I think the root to solve this problem is overcome our thoughts in our heart.,\n",
       "  0.4633950098819526),\n",
       " (More importantly,we should tell adults surround by about our homesickness.,\n",
       "  But if our hearts become hard,we can be immunity to homesickness.,\n",
       "  0.4538188444430049),\n",
       " (More importantly,we should tell adults surround by about our homesickness.,\n",
       "  To some extent,they can offer us some tips to overcoming homesickness and give us love because they are the same age as our parents.,\n",
       "  0.4504169855219872),\n",
       " (Friends are the same as us in many perspectives.,\n",
       "  More importantly,we should tell adults surround by about our homesickness.,\n",
       "  0.4037010492231343),\n",
       " (Besides,reading some book about overcoming homesickness is also a fantastic way to deal with this problem.,\n",
       "  But if our hearts become hard,we can be immunity to homesickness.,\n",
       "  0.29780627879559546)]"
      ]
     },
     "execution_count": 227,
     "metadata": {},
     "output_type": "execute_result"
    }
   ],
   "source": [
    "sents = list(doc.sents)\n",
    "trps = []\n",
    "for i in range(len(sents)):\n",
    "    for j in range(i+1,len(sents)):\n",
    "        trps.append((sents[i],sents[j],normPTK(sents[i],sents[j])))\n",
    "sorted(trps,key=lambda x:x[2],reverse=True)"
   ]
  },
  {
   "cell_type": "code",
   "execution_count": 122,
   "metadata": {},
   "outputs": [],
   "source": [
    "simnlp = spacy.load('en_core_web_sm')"
   ]
  },
  {
   "cell_type": "code",
   "execution_count": 139,
   "metadata": {},
   "outputs": [
    {
     "data": {
      "text/plain": [
       "[(As a result,they can considerate in our shoes and help us solve the trouble.,\n",
       "  As a consequence,they will show empassy to us and think in our way.,\n",
       "  0.8551040887832642),\n",
       " (To some extent,they can offer us some tips to overcoming homesickness and give us love because they are the same age as our parents.,\n",
       "  As a consequence,they will show empassy to us and think in our way.,\n",
       "  0.7409880757331848),\n",
       " (As a result,they can considerate in our shoes and help us solve the trouble.,\n",
       "  To some extent,they can offer us some tips to overcoming homesickness and give us love because they are the same age as our parents.,\n",
       "  0.7311631441116333),\n",
       " (More importantly,we should tell adults surround by about our homesickness.,\n",
       "  But if our hearts become hard,we can be immunity to homesickness.,\n",
       "  0.7153937816619873),\n",
       " (To some extent,they can offer us some tips to overcoming homesickness and give us love because they are the same age as our parents.,\n",
       "  For examble,we can learn some physiological hints that can give us some belongings.,\n",
       "  0.6885819435119629),\n",
       " (To begin with,talking to your friends about your problems may be agood idea.,\n",
       "  As a consequence,they will show empassy to us and think in our way.,\n",
       "  0.6720976829528809),\n",
       " (As a consequence,they will show empassy to us and think in our way.,\n",
       "  But if our hearts become hard,we can be immunity to homesickness.,\n",
       "  0.670150876045227),\n",
       " (As a result,they can considerate in our shoes and help us solve the trouble.,\n",
       "  Last but not least,I think the root to solve this problem is overcome our thoughts in our heart.,\n",
       "  0.6636171936988831),\n",
       " (Friends are the same as us in many perspectives.,\n",
       "  To some extent,they can offer us some tips to overcoming homesickness and give us love because they are the same age as our parents.,\n",
       "  0.6583437919616699),\n",
       " (To begin with,talking to your friends about your problems may be agood idea.,\n",
       "  To some extent,they can offer us some tips to overcoming homesickness and give us love because they are the same age as our parents.,\n",
       "  0.6505628824234009),\n",
       " (To begin with,talking to your friends about your problems may be agood idea.,\n",
       "  Besides,reading some book about overcoming homesickness is also a fantastic way to deal with this problem.,\n",
       "  0.6493770480155945),\n",
       " (To begin with,talking to your friends about your problems may be agood idea.,\n",
       "  As a result,they can considerate in our shoes and help us solve the trouble.,\n",
       "  0.6322111487388611),\n",
       " (For examble,we can learn some physiological hints that can give us some belongings.,\n",
       "  But if our hearts become hard,we can be immunity to homesickness.,\n",
       "  0.6302143931388855),\n",
       " (To some extent,they can offer us some tips to overcoming homesickness and give us love because they are the same age as our parents.,\n",
       "  Last but not least,I think the root to solve this problem is overcome our thoughts in our heart.,\n",
       "  0.6284318566322327),\n",
       " (To some extent,they can offer us some tips to overcoming homesickness and give us love because they are the same age as our parents.,\n",
       "  Besides,reading some book about overcoming homesickness is also a fantastic way to deal with this problem.,\n",
       "  0.6261074542999268),\n",
       " (More importantly,we should tell adults surround by about our homesickness.,\n",
       "  For examble,we can learn some physiological hints that can give us some belongings.,\n",
       "  0.6148062944412231),\n",
       " (As a result,they can considerate in our shoes and help us solve the trouble.,\n",
       "  For examble,we can learn some physiological hints that can give us some belongings.,\n",
       "  0.6126790642738342),\n",
       " (As a consequence,they will show empassy to us and think in our way.,\n",
       "  Last but not least,I think the root to solve this problem is overcome our thoughts in our heart.,\n",
       "  0.6026051044464111),\n",
       " (More importantly,we should tell adults surround by about our homesickness.,\n",
       "  As a consequence,they will show empassy to us and think in our way.,\n",
       "  0.5880841612815857),\n",
       " (More importantly,we should tell adults surround by about our homesickness.,\n",
       "  To some extent,they can offer us some tips to overcoming homesickness and give us love because they are the same age as our parents.,\n",
       "  0.5834367275238037),\n",
       " (To some extent,they can offer us some tips to overcoming homesickness and give us love because they are the same age as our parents.,\n",
       "  But if our hearts become hard,we can be immunity to homesickness.,\n",
       "  0.5778431296348572),\n",
       " (Last but not least,I think the root to solve this problem is overcome our thoughts in our heart.,\n",
       "  But if our hearts become hard,we can be immunity to homesickness.,\n",
       "  0.5776349306106567),\n",
       " (To some extent,they can offer us some tips to overcoming homesickness and give us love because they are the same age as our parents.,\n",
       "  We feel homesickness because of our feeling of alone.,\n",
       "  0.5734150409698486),\n",
       " (For examble,we can learn some physiological hints that can give us some belongings.,\n",
       "  Last but not least,I think the root to solve this problem is overcome our thoughts in our heart.,\n",
       "  0.5577864646911621),\n",
       " (As a consequence,they will show empassy to us and think in our way.,\n",
       "  Besides,reading some book about overcoming homesickness is also a fantastic way to deal with this problem.,\n",
       "  0.5571048855781555),\n",
       " (As a consequence,they will show empassy to us and think in our way.,\n",
       "  We feel homesickness because of our feeling of alone.,\n",
       "  0.5514729619026184),\n",
       " (To begin with,talking to your friends about your problems may be agood idea.,\n",
       "  More importantly,we should tell adults surround by about our homesickness.,\n",
       "  0.5512059330940247),\n",
       " (As a result,they can considerate in our shoes and help us solve the trouble.,\n",
       "  But if our hearts become hard,we can be immunity to homesickness.,\n",
       "  0.5477100014686584),\n",
       " (As a consequence,they will show empassy to us and think in our way.,\n",
       "  For examble,we can learn some physiological hints that can give us some belongings.,\n",
       "  0.5453536510467529),\n",
       " (As a result,they can considerate in our shoes and help us solve the trouble.,\n",
       "  More importantly,we should tell adults surround by about our homesickness.,\n",
       "  0.5378140807151794),\n",
       " (To begin with,talking to your friends about your problems may be agood idea.,\n",
       "  But if our hearts become hard,we can be immunity to homesickness.,\n",
       "  0.5349575281143188),\n",
       " (As a result,they can considerate in our shoes and help us solve the trouble.,\n",
       "  Besides,reading some book about overcoming homesickness is also a fantastic way to deal with this problem.,\n",
       "  0.5262894034385681),\n",
       " (More importantly,we should tell adults surround by about our homesickness.,\n",
       "  We feel homesickness because of our feeling of alone.,\n",
       "  0.5218060612678528),\n",
       " (To begin with,talking to your friends about your problems may be agood idea.,\n",
       "  For examble,we can learn some physiological hints that can give us some belongings.,\n",
       "  0.4991738498210907),\n",
       " (More importantly,we should tell adults surround by about our homesickness.,\n",
       "  Last but not least,I think the root to solve this problem is overcome our thoughts in our heart.,\n",
       "  0.4964692294597626),\n",
       " (To begin with,talking to your friends about your problems may be agood idea.,\n",
       "  Last but not least,I think the root to solve this problem is overcome our thoughts in our heart.,\n",
       "  0.4873732626438141),\n",
       " (Friends are the same as us in many perspectives.,\n",
       "  As a consequence,they will show empassy to us and think in our way.,\n",
       "  0.4684176743030548),\n",
       " (We feel homesickness because of our feeling of alone.,\n",
       "  But if our hearts become hard,we can be immunity to homesickness.,\n",
       "  0.46707406640052795),\n",
       " (Friends are the same as us in many perspectives.,\n",
       "  We feel homesickness because of our feeling of alone.,\n",
       "  0.46383020281791687),\n",
       " (To begin with,talking to your friends about your problems may be agood idea.,\n",
       "  We feel homesickness because of our feeling of alone.,\n",
       "  0.4579823315143585),\n",
       " (Friends are the same as us in many perspectives.,\n",
       "  As a result,they can considerate in our shoes and help us solve the trouble.,\n",
       "  0.4560335874557495),\n",
       " (Besides,reading some book about overcoming homesickness is also a fantastic way to deal with this problem.,\n",
       "  For examble,we can learn some physiological hints that can give us some belongings.,\n",
       "  0.44782280921936035),\n",
       " (Besides,reading some book about overcoming homesickness is also a fantastic way to deal with this problem.,\n",
       "  We feel homesickness because of our feeling of alone.,\n",
       "  0.44463789463043213),\n",
       " (Besides,reading some book about overcoming homesickness is also a fantastic way to deal with this problem.,\n",
       "  Last but not least,I think the root to solve this problem is overcome our thoughts in our heart.,\n",
       "  0.4388578534126282),\n",
       " (Friends are the same as us in many perspectives.,\n",
       "  More importantly,we should tell adults surround by about our homesickness.,\n",
       "  0.41686898469924927),\n",
       " (As a result,they can considerate in our shoes and help us solve the trouble.,\n",
       "  We feel homesickness because of our feeling of alone.,\n",
       "  0.41427096724510193),\n",
       " (Friends are the same as us in many perspectives.,\n",
       "  Besides,reading some book about overcoming homesickness is also a fantastic way to deal with this problem.,\n",
       "  0.3916208744049072),\n",
       " (Friends are the same as us in many perspectives.,\n",
       "  For examble,we can learn some physiological hints that can give us some belongings.,\n",
       "  0.3846028745174408),\n",
       " (To begin with,talking to your friends about your problems may be agood idea.,\n",
       "  Friends are the same as us in many perspectives.,\n",
       "  0.3737022578716278),\n",
       " (More importantly,we should tell adults surround by about our homesickness.,\n",
       "  Besides,reading some book about overcoming homesickness is also a fantastic way to deal with this problem.,\n",
       "  0.36979371309280396),\n",
       " (For examble,we can learn some physiological hints that can give us some belongings.,\n",
       "  We feel homesickness because of our feeling of alone.,\n",
       "  0.3288026750087738),\n",
       " (Friends are the same as us in many perspectives.,\n",
       "  Last but not least,I think the root to solve this problem is overcome our thoughts in our heart.,\n",
       "  0.2899378538131714),\n",
       " (Besides,reading some book about overcoming homesickness is also a fantastic way to deal with this problem.,\n",
       "  But if our hearts become hard,we can be immunity to homesickness.,\n",
       "  0.2869691252708435),\n",
       " (Last but not least,I think the root to solve this problem is overcome our thoughts in our heart.,\n",
       "  We feel homesickness because of our feeling of alone.,\n",
       "  0.2842170000076294),\n",
       " (Friends are the same as us in many perspectives.,\n",
       "  But if our hearts become hard,we can be immunity to homesickness.,\n",
       "  0.2655792236328125)]"
      ]
     },
     "execution_count": 139,
     "metadata": {},
     "output_type": "execute_result"
    }
   ],
   "source": [
    "sents = list(doc.sents)\n",
    "trps = []\n",
    "for i in range(len(sents)):\n",
    "    for j in range(i+1,len(sents)):\n",
    "        doc1 = simnlp(str(sents[i]))\n",
    "        doc2 = simnlp(str(sents[j]))\n",
    "        trps.append((sents[i],sents[j],doc1.similarity(doc2)))\n",
    "sorted(trps,key=lambda x:x[2],reverse=True)"
   ]
  },
  {
   "cell_type": "code",
   "execution_count": 219,
   "metadata": {},
   "outputs": [],
   "source": [
    "doc1 = simnlp('I ate the orange that he gave me')\n",
    "doc2 = simnlp('She refused the advice that he gave her')"
   ]
  },
  {
   "cell_type": "code",
   "execution_count": 220,
   "metadata": {},
   "outputs": [
    {
     "data": {
      "text/plain": [
       "1.0"
      ]
     },
     "execution_count": 220,
     "metadata": {},
     "output_type": "execute_result"
    }
   ],
   "source": [
    "normPTK(doc1,doc2)"
   ]
  },
  {
   "cell_type": "code",
   "execution_count": 221,
   "metadata": {},
   "outputs": [
    {
     "data": {
      "text/plain": [
       "0.8788466453552246"
      ]
     },
     "execution_count": 221,
     "metadata": {},
     "output_type": "execute_result"
    }
   ],
   "source": [
    "doc1.similarity(doc2)"
   ]
  },
  {
   "cell_type": "code",
   "execution_count": 39,
   "metadata": {},
   "outputs": [
    {
     "name": "stdout",
     "output_type": "stream",
     "text": [
      "ROOT root\n",
      " acl clausal modifier of noun (adjectival clause)\n",
      " acomp adjectival complement\n",
      " advcl adverbial clause modifier\n",
      " advmod adverbial modifier\n",
      " agent agent\n",
      " amod adjectival modifier\n",
      " appos appositional modifier\n",
      " attr attribute\n",
      " aux auxiliary\n",
      " auxpass auxiliary (passive)\n",
      " case case marking\n",
      " cc coordinating conjunction\n",
      " ccomp clausal complement\n",
      " compound compound\n",
      " conj conjunct\n",
      " csubj clausal subject\n",
      " csubjpass clausal subject (passive)\n",
      " dative dative\n",
      " dep unclassified dependent\n",
      " det determiner\n",
      " dobj direct object\n",
      " expl expletive\n",
      " intj interjection\n",
      " mark marker\n",
      " meta meta modifier\n",
      " neg negation modifier\n",
      " nmod modifier of nominal\n",
      " npadvmod noun phrase as adverbial modifier\n",
      " nsubj nominal subject\n",
      " nsubjpass nominal subject (passive)\n",
      " nummod numeric modifier\n",
      " oprd object predicate\n",
      " parataxis parataxis\n",
      " pcomp complement of preposition\n",
      " pobj object of preposition\n",
      " poss possession modifier\n",
      " preconj pre-correlative conjunction\n",
      " predet None\n",
      " prep prepositional modifier\n",
      " prt particle\n",
      " punct punctuation\n",
      " quantmod modifier of quantifier\n",
      " relcl relative clause modifier\n",
      " xcomp open clausal complement\n"
     ]
    }
   ],
   "source": [
    "t = '''ROOT, acl, acomp, advcl, advmod, agent, amod, appos, attr, aux, auxpass, case, cc, ccomp, compound, conj, csubj, csubjpass, dative, dep, det, dobj, expl, intj, mark, meta, neg, nmod, npadvmod, nsubj, nsubjpass, nummod, oprd, parataxis, pcomp, pobj, poss, preconj, predet, prep, prt, punct, quantmod, relcl, xcomp'''\n",
    "for s in t.split(','):\n",
    "    print(s,spacy.explain(s.strip()))\n"
   ]
  }
 ],
 "metadata": {
  "kernelspec": {
   "display_name": "Python 3 (ipykernel)",
   "language": "python",
   "name": "python3"
  },
  "language_info": {
   "codemirror_mode": {
    "name": "ipython",
    "version": 3
   },
   "file_extension": ".py",
   "mimetype": "text/x-python",
   "name": "python",
   "nbconvert_exporter": "python",
   "pygments_lexer": "ipython3",
   "version": "3.10.8"
  },
  "orig_nbformat": 4,
  "vscode": {
   "interpreter": {
    "hash": "593988f55108e9a22df825be697685e2e60f0c546ce2b7da78c95a16021f878c"
   }
  }
 },
 "nbformat": 4,
 "nbformat_minor": 2
}
